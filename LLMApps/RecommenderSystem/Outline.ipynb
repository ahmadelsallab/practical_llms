{
  "nbformat": 4,
  "nbformat_minor": 0,
  "metadata": {
    "colab": {
      "provenance": [],
      "collapsed_sections": [
        "ZRZ3GyHC0nAx"
      ],
      "machine_shape": "hm"
    },
    "kernelspec": {
      "name": "python3",
      "display_name": "Python 3"
    }
  },
  "cells": [
    {
      "cell_type": "markdown",
      "metadata": {
        "id": "chs4UpWpcP51"
      },
      "source": [
        "# Chapter 1: Introduction to Recommendation Engines"
      ]
    },
    {
      "cell_type": "markdown",
      "metadata": {
        "id": "cczB4fkzu1a4"
      },
      "source": [
        "## Basic imports"
      ]
    },
    {
      "cell_type": "code",
      "metadata": {
        "id": "LN3kAZp4l8IR",
        "colab": {
          "base_uri": "https://localhost:8080/",
          "height": 123
        },
        "outputId": "1605302d-e477-47fa-eb95-ed6bc1ede6db"
      },
      "source": [
        "# Imports\n",
        "import pandas as pd\n",
        "import numpy as np\n",
        "from sklearn.preprocessing import LabelEncoder\n",
        "from sklearn.model_selection import train_test_split\n",
        "from sklearn.feature_extraction.text import TfidfVectorizer\n",
        "from sklearn.feature_extraction.text import CountVectorizer\n",
        "from sklearn.metrics.pairwise import linear_kernel\n",
        "from sklearn.metrics.pairwise import cosine_similarity\n",
        "from sklearn.metrics import pairwise_distances\n",
        "from sklearn.metrics.pairwise import pairwise_kernels\n",
        "from sklearn.preprocessing import LabelEncoder\n",
        "\n",
        "import matplotlib.pyplot as plt\n",
        "\n",
        "from pathlib import Path\n",
        "import os\n",
        "import re\n",
        "import html\n",
        "import string\n",
        "\n",
        "import unicodedata\n",
        "\n",
        "\n",
        "import nltk\n",
        "nltk.download('punkt')\n",
        "from nltk.corpus import stopwords\n",
        "nltk.download('stopwords')\n",
        "nltk.download('wordnet')\n",
        "from nltk.stem import PorterStemmer\n",
        "from nltk.tokenize import word_tokenize, sent_tokenize\n",
        "from nltk.stem import WordNetLemmatizer\n",
        "\n",
        "\n",
        "from tensorflow.keras import models\n",
        "from tensorflow.keras import layers\n",
        "from tensorflow.keras import optimizers\n",
        "from tensorflow.keras import losses\n",
        "from tensorflow.keras import regularizers\n",
        "from tensorflow.keras import metrics\n",
        "from tensorflow.keras.utils import plot_model\n",
        "from tensorflow.keras.datasets import imdb\n",
        "from tensorflow.keras.preprocessing.text import text_to_word_sequence\n",
        "from tensorflow.keras.preprocessing.text import Tokenizer\n",
        "from tensorflow.keras.preprocessing.sequence import pad_sequences\n",
        "\n",
        "\n",
        "\n"
      ],
      "execution_count": null,
      "outputs": [
        {
          "output_type": "stream",
          "text": [
            "[nltk_data] Downloading package punkt to /root/nltk_data...\n",
            "[nltk_data]   Unzipping tokenizers/punkt.zip.\n",
            "[nltk_data] Downloading package stopwords to /root/nltk_data...\n",
            "[nltk_data]   Unzipping corpora/stopwords.zip.\n",
            "[nltk_data] Downloading package wordnet to /root/nltk_data...\n",
            "[nltk_data]   Unzipping corpora/wordnet.zip.\n"
          ],
          "name": "stdout"
        }
      ]
    },
    {
      "cell_type": "markdown",
      "metadata": {
        "id": "Xz1jmf_2cStS"
      },
      "source": [
        "# Lesson 1: What are recommendation engines?\n",
        "\n",
        "## Learning Objectives\n",
        "\n",
        "- Learner will be able to be able to define what recommender systems are\n",
        "- Learner will be able to be able to list the different approaches to recommender systems\n",
        "- Learner will be able to identify different applications of recommender systems"
      ]
    },
    {
      "cell_type": "markdown",
      "metadata": {
        "id": "rFI6dS6Pih0d"
      },
      "source": [
        "## Excercise\n",
        "\n",
        "List the approaches to build recommender systems"
      ]
    },
    {
      "cell_type": "markdown",
      "metadata": {
        "id": "AikyGCXpismw"
      },
      "source": [
        "## Answer\n",
        "- Simple recommender systems: Another third type is based on movie popularity independent of the user preferences. Too simple! But the basic idea of using movie prior popularity is a component in the system that we will develop as we will see.\n",
        "- Meta data/ Content based: this is based on history of the user preferences. Not taking advantage of other users similarity.\n",
        "- Collaborative filtering: takes advantages of similar users history, in addition to the same user past preferences, to recommend new items.\n",
        "\n"
      ]
    },
    {
      "cell_type": "markdown",
      "metadata": {
        "id": "wGLaG-KXjKUw"
      },
      "source": [
        "## Excercise\n",
        "\n",
        "List three applications of recommendation engines"
      ]
    },
    {
      "cell_type": "markdown",
      "metadata": {
        "id": "81-sEDyjjRCh"
      },
      "source": [
        "## Answer\n",
        "\n",
        "- Product recommendation in online shopping\n",
        "- Movie recommendation in entertainment apps\n",
        "- Prediction of future disease based on patient-disease phenotypes"
      ]
    },
    {
      "cell_type": "markdown",
      "metadata": {
        "id": "YtsiQwSYjXu1"
      },
      "source": [
        "# Lesson 2: Simple Recommender system\n"
      ]
    },
    {
      "cell_type": "markdown",
      "metadata": {
        "id": "MX8EwS9mjgYS"
      },
      "source": [
        "## Learning Objectives\n",
        "\n",
        "- Learner will be able to build simple recommender with sklearn based on movie popularity/votes based on IMDB dataset.\n",
        "- Learner will be able to decide a metric for items to recommend based on that.\n",
        "- Learner will be able to calculate a score for every item/movie.\n",
        "- Learner will be able to sort items/movies based on their scores.\n"
      ]
    },
    {
      "cell_type": "markdown",
      "metadata": {
        "id": "5y11VRTQl0we"
      },
      "source": [
        "## Excercise\n",
        "\n",
        "Build Simple Recommender System based on the metric below:\n",
        "- weightedRating(WR) = ((v/v+m).R) + ((m/v+m).C)\n",
        " * v >> is the number of votes for the movie. (vote_count)\n",
        " * m >> is the min votes required to be listed in chart. (based on negative vote)\n",
        " * R >> is the average rating of the movie. (vote_average)\n",
        " * C >> is the mean vote across the the whole report. (calculate from data)\n"
      ]
    },
    {
      "cell_type": "markdown",
      "metadata": {
        "id": "hbAWNVGfmdhw"
      },
      "source": [
        "##  Preparation code\n",
        "Not part of the excercise answer"
      ]
    },
    {
      "cell_type": "code",
      "metadata": {
        "id": "Ruw1Jz3unmG0",
        "colab": {
          "base_uri": "https://localhost:8080/",
          "height": 34
        },
        "outputId": "e3218d1a-960d-4654-f5e4-405477489c02"
      },
      "source": [
        "from google.colab import drive\n",
        "drive.mount('/content/drive')"
      ],
      "execution_count": null,
      "outputs": [
        {
          "output_type": "stream",
          "text": [
            "Drive already mounted at /content/drive; to attempt to forcibly remount, call drive.mount(\"/content/drive\", force_remount=True).\n"
          ],
          "name": "stdout"
        }
      ]
    },
    {
      "cell_type": "markdown",
      "metadata": {
        "id": "a7uhIR04sT9g"
      },
      "source": [
        "Download data from [kaggle](https://www.kaggle.com/rounakbanik/the-movies-dataset/download), or this [link](https://drive.google.com/drive/folders/1JnQXDCsGAb75I4PRRMDHUO0WxmXT-usv?usp=sharing)"
      ]
    },
    {
      "cell_type": "code",
      "metadata": {
        "id": "VNBX0Bs3_CdM"
      },
      "source": [
        "# Load Movies Metadata\n",
        "imdb_data_dir = '/content/drive/My Drive/Colab Notebooks/Recommendation/DataCamp/imdb/'"
      ],
      "execution_count": null,
      "outputs": []
    },
    {
      "cell_type": "code",
      "metadata": {
        "id": "b8_7yZllmDF1",
        "colab": {
          "base_uri": "https://localhost:8080/",
          "height": 458
        },
        "outputId": "2ba2f129-0144-4de1-8f23-0d4d42d134d7"
      },
      "source": [
        "\n",
        "metadata = pd.read_csv(imdb_data_dir + 'movies_metadata.csv')\n",
        "\n",
        "# Print the first three rows\n",
        "metadata.head(3)"
      ],
      "execution_count": null,
      "outputs": [
        {
          "output_type": "stream",
          "text": [
            "/usr/local/lib/python3.6/dist-packages/IPython/core/interactiveshell.py:2718: DtypeWarning: Columns (10) have mixed types.Specify dtype option on import or set low_memory=False.\n",
            "  interactivity=interactivity, compiler=compiler, result=result)\n"
          ],
          "name": "stderr"
        },
        {
          "output_type": "execute_result",
          "data": {
            "text/html": [
              "<div>\n",
              "<style scoped>\n",
              "    .dataframe tbody tr th:only-of-type {\n",
              "        vertical-align: middle;\n",
              "    }\n",
              "\n",
              "    .dataframe tbody tr th {\n",
              "        vertical-align: top;\n",
              "    }\n",
              "\n",
              "    .dataframe thead th {\n",
              "        text-align: right;\n",
              "    }\n",
              "</style>\n",
              "<table border=\"1\" class=\"dataframe\">\n",
              "  <thead>\n",
              "    <tr style=\"text-align: right;\">\n",
              "      <th></th>\n",
              "      <th>adult</th>\n",
              "      <th>belongs_to_collection</th>\n",
              "      <th>budget</th>\n",
              "      <th>genres</th>\n",
              "      <th>homepage</th>\n",
              "      <th>id</th>\n",
              "      <th>imdb_id</th>\n",
              "      <th>original_language</th>\n",
              "      <th>original_title</th>\n",
              "      <th>overview</th>\n",
              "      <th>popularity</th>\n",
              "      <th>poster_path</th>\n",
              "      <th>production_companies</th>\n",
              "      <th>production_countries</th>\n",
              "      <th>release_date</th>\n",
              "      <th>revenue</th>\n",
              "      <th>runtime</th>\n",
              "      <th>spoken_languages</th>\n",
              "      <th>status</th>\n",
              "      <th>tagline</th>\n",
              "      <th>title</th>\n",
              "      <th>video</th>\n",
              "      <th>vote_average</th>\n",
              "      <th>vote_count</th>\n",
              "    </tr>\n",
              "  </thead>\n",
              "  <tbody>\n",
              "    <tr>\n",
              "      <th>0</th>\n",
              "      <td>False</td>\n",
              "      <td>{'id': 10194, 'name': 'Toy Story Collection', ...</td>\n",
              "      <td>30000000</td>\n",
              "      <td>[{'id': 16, 'name': 'Animation'}, {'id': 35, '...</td>\n",
              "      <td>http://toystory.disney.com/toy-story</td>\n",
              "      <td>862</td>\n",
              "      <td>tt0114709</td>\n",
              "      <td>en</td>\n",
              "      <td>Toy Story</td>\n",
              "      <td>Led by Woody, Andy's toys live happily in his ...</td>\n",
              "      <td>21.9469</td>\n",
              "      <td>/rhIRbceoE9lR4veEXuwCC2wARtG.jpg</td>\n",
              "      <td>[{'name': 'Pixar Animation Studios', 'id': 3}]</td>\n",
              "      <td>[{'iso_3166_1': 'US', 'name': 'United States o...</td>\n",
              "      <td>1995-10-30</td>\n",
              "      <td>373554033.0</td>\n",
              "      <td>81.0</td>\n",
              "      <td>[{'iso_639_1': 'en', 'name': 'English'}]</td>\n",
              "      <td>Released</td>\n",
              "      <td>NaN</td>\n",
              "      <td>Toy Story</td>\n",
              "      <td>False</td>\n",
              "      <td>7.7</td>\n",
              "      <td>5415.0</td>\n",
              "    </tr>\n",
              "    <tr>\n",
              "      <th>1</th>\n",
              "      <td>False</td>\n",
              "      <td>NaN</td>\n",
              "      <td>65000000</td>\n",
              "      <td>[{'id': 12, 'name': 'Adventure'}, {'id': 14, '...</td>\n",
              "      <td>NaN</td>\n",
              "      <td>8844</td>\n",
              "      <td>tt0113497</td>\n",
              "      <td>en</td>\n",
              "      <td>Jumanji</td>\n",
              "      <td>When siblings Judy and Peter discover an encha...</td>\n",
              "      <td>17.0155</td>\n",
              "      <td>/vzmL6fP7aPKNKPRTFnZmiUfciyV.jpg</td>\n",
              "      <td>[{'name': 'TriStar Pictures', 'id': 559}, {'na...</td>\n",
              "      <td>[{'iso_3166_1': 'US', 'name': 'United States o...</td>\n",
              "      <td>1995-12-15</td>\n",
              "      <td>262797249.0</td>\n",
              "      <td>104.0</td>\n",
              "      <td>[{'iso_639_1': 'en', 'name': 'English'}, {'iso...</td>\n",
              "      <td>Released</td>\n",
              "      <td>Roll the dice and unleash the excitement!</td>\n",
              "      <td>Jumanji</td>\n",
              "      <td>False</td>\n",
              "      <td>6.9</td>\n",
              "      <td>2413.0</td>\n",
              "    </tr>\n",
              "    <tr>\n",
              "      <th>2</th>\n",
              "      <td>False</td>\n",
              "      <td>{'id': 119050, 'name': 'Grumpy Old Men Collect...</td>\n",
              "      <td>0</td>\n",
              "      <td>[{'id': 10749, 'name': 'Romance'}, {'id': 35, ...</td>\n",
              "      <td>NaN</td>\n",
              "      <td>15602</td>\n",
              "      <td>tt0113228</td>\n",
              "      <td>en</td>\n",
              "      <td>Grumpier Old Men</td>\n",
              "      <td>A family wedding reignites the ancient feud be...</td>\n",
              "      <td>11.7129</td>\n",
              "      <td>/6ksm1sjKMFLbO7UY2i6G1ju9SML.jpg</td>\n",
              "      <td>[{'name': 'Warner Bros.', 'id': 6194}, {'name'...</td>\n",
              "      <td>[{'iso_3166_1': 'US', 'name': 'United States o...</td>\n",
              "      <td>1995-12-22</td>\n",
              "      <td>0.0</td>\n",
              "      <td>101.0</td>\n",
              "      <td>[{'iso_639_1': 'en', 'name': 'English'}]</td>\n",
              "      <td>Released</td>\n",
              "      <td>Still Yelling. Still Fighting. Still Ready for...</td>\n",
              "      <td>Grumpier Old Men</td>\n",
              "      <td>False</td>\n",
              "      <td>6.5</td>\n",
              "      <td>92.0</td>\n",
              "    </tr>\n",
              "  </tbody>\n",
              "</table>\n",
              "</div>"
            ],
            "text/plain": [
              "   adult  ... vote_count\n",
              "0  False  ...     5415.0\n",
              "1  False  ...     2413.0\n",
              "2  False  ...       92.0\n",
              "\n",
              "[3 rows x 24 columns]"
            ]
          },
          "metadata": {
            "tags": []
          },
          "execution_count": 9
        }
      ]
    },
    {
      "cell_type": "code",
      "metadata": {
        "id": "5CKf6fO3_wnh",
        "colab": {
          "base_uri": "https://localhost:8080/",
          "height": 34
        },
        "outputId": "e8882e76-f136-4aa0-c36d-594330547336"
      },
      "source": [
        "len(metadata)"
      ],
      "execution_count": null,
      "outputs": [
        {
          "output_type": "execute_result",
          "data": {
            "text/plain": [
              "45466"
            ]
          },
          "metadata": {
            "tags": []
          },
          "execution_count": 5
        }
      ]
    },
    {
      "cell_type": "code",
      "metadata": {
        "id": "X73LvvmwtXfI",
        "colab": {
          "base_uri": "https://localhost:8080/",
          "height": 134
        },
        "outputId": "27374758-c204-4b9a-b39e-dbfc940448cb"
      },
      "source": [
        "# data columns\n",
        "print(metadata.columns)"
      ],
      "execution_count": null,
      "outputs": [
        {
          "output_type": "stream",
          "text": [
            "Index(['adult', 'belongs_to_collection', 'budget', 'genres', 'homepage', 'id',\n",
            "       'imdb_id', 'original_language', 'original_title', 'overview',\n",
            "       'popularity', 'poster_path', 'production_companies',\n",
            "       'production_countries', 'release_date', 'revenue', 'runtime',\n",
            "       'spoken_languages', 'status', 'tagline', 'title', 'video',\n",
            "       'vote_average', 'vote_count'],\n",
            "      dtype='object')\n"
          ],
          "name": "stdout"
        }
      ]
    },
    {
      "cell_type": "code",
      "metadata": {
        "id": "edUUkpEHtZYY",
        "colab": {
          "base_uri": "https://localhost:8080/",
          "height": 34
        },
        "outputId": "794af507-2fd0-44b0-e686-b1ffee4bfd95"
      },
      "source": [
        "# calculate C\n",
        "C = metadata['vote_average'].mean()\n",
        "print(C)"
      ],
      "execution_count": null,
      "outputs": [
        {
          "output_type": "stream",
          "text": [
            "5.618207215133889\n"
          ],
          "name": "stdout"
        }
      ]
    },
    {
      "cell_type": "code",
      "metadata": {
        "id": "mLeAX_heta7c",
        "colab": {
          "base_uri": "https://localhost:8080/",
          "height": 50
        },
        "outputId": "6c0cf4c3-0a9a-4253-8a7b-630305850d4e"
      },
      "source": [
        "# Calculate M\n",
        "M = metadata['vote_count'].quantile(0.90)\n",
        "print(M)\n",
        "print(metadata.shape)"
      ],
      "execution_count": null,
      "outputs": [
        {
          "output_type": "stream",
          "text": [
            "160.0\n",
            "(45466, 24)\n"
          ],
          "name": "stdout"
        }
      ]
    },
    {
      "cell_type": "code",
      "metadata": {
        "id": "3dUP0V7ntd4C",
        "colab": {
          "base_uri": "https://localhost:8080/",
          "height": 34
        },
        "outputId": "82ed1a89-ce86-4db8-e540-a982947910ae"
      },
      "source": [
        "# Filter out all qualified movies into a new DataFrame\n",
        "q_movies = metadata.copy().loc[metadata['vote_count'] >= M]\n",
        "q_movies.shape"
      ],
      "execution_count": null,
      "outputs": [
        {
          "output_type": "execute_result",
          "data": {
            "text/plain": [
              "(4555, 24)"
            ]
          },
          "metadata": {
            "tags": []
          },
          "execution_count": 8
        }
      ]
    },
    {
      "cell_type": "code",
      "metadata": {
        "id": "f3m6KOZ-tlv4"
      },
      "source": [
        "# Function that computes the weighted rating of each movie\n",
        "def weighted_rating(x, M=M, C=C):\n",
        "    v = x['vote_count']\n",
        "    R = x['vote_average']\n",
        "    # Calculation based on the IMDB formula\n",
        "    return (v/(v+M) * R) + (M/(M+v) * C)\n"
      ],
      "execution_count": null,
      "outputs": []
    },
    {
      "cell_type": "code",
      "metadata": {
        "id": "iCTKZwUotoPQ",
        "colab": {
          "base_uri": "https://localhost:8080/",
          "height": 134
        },
        "outputId": "77879605-a26c-441a-facb-682376bb86ca"
      },
      "source": [
        "print(q_movies.columns)"
      ],
      "execution_count": null,
      "outputs": [
        {
          "output_type": "stream",
          "text": [
            "Index(['adult', 'belongs_to_collection', 'budget', 'genres', 'homepage', 'id',\n",
            "       'imdb_id', 'original_language', 'original_title', 'overview',\n",
            "       'popularity', 'poster_path', 'production_companies',\n",
            "       'production_countries', 'release_date', 'revenue', 'runtime',\n",
            "       'spoken_languages', 'status', 'tagline', 'title', 'video',\n",
            "       'vote_average', 'vote_count'],\n",
            "      dtype='object')\n"
          ],
          "name": "stdout"
        }
      ]
    },
    {
      "cell_type": "code",
      "metadata": {
        "id": "M5kBGu75ts3D"
      },
      "source": [
        "# Define a new feature 'score' and calculate its value with `weighted_rating()`\n",
        "q_movies['score'] = q_movies.apply(weighted_rating, axis=1)"
      ],
      "execution_count": null,
      "outputs": []
    },
    {
      "cell_type": "code",
      "metadata": {
        "id": "f4oEW_BotusY",
        "colab": {
          "base_uri": "https://localhost:8080/",
          "height": 491
        },
        "outputId": "28a1596a-30df-4382-cf0a-baf93d350823"
      },
      "source": [
        "#Sort movies based on score calculated above\n",
        "q_movies = q_movies.sort_values('score', ascending=False)\n",
        "\n",
        "#Print the top 15 movies\n",
        "q_movies[['title', 'vote_count', 'vote_average', 'score']].head(15)"
      ],
      "execution_count": null,
      "outputs": [
        {
          "output_type": "execute_result",
          "data": {
            "text/html": [
              "<div>\n",
              "<style scoped>\n",
              "    .dataframe tbody tr th:only-of-type {\n",
              "        vertical-align: middle;\n",
              "    }\n",
              "\n",
              "    .dataframe tbody tr th {\n",
              "        vertical-align: top;\n",
              "    }\n",
              "\n",
              "    .dataframe thead th {\n",
              "        text-align: right;\n",
              "    }\n",
              "</style>\n",
              "<table border=\"1\" class=\"dataframe\">\n",
              "  <thead>\n",
              "    <tr style=\"text-align: right;\">\n",
              "      <th></th>\n",
              "      <th>title</th>\n",
              "      <th>vote_count</th>\n",
              "      <th>vote_average</th>\n",
              "      <th>score</th>\n",
              "    </tr>\n",
              "  </thead>\n",
              "  <tbody>\n",
              "    <tr>\n",
              "      <th>314</th>\n",
              "      <td>The Shawshank Redemption</td>\n",
              "      <td>8358.0</td>\n",
              "      <td>8.5</td>\n",
              "      <td>8.445869</td>\n",
              "    </tr>\n",
              "    <tr>\n",
              "      <th>834</th>\n",
              "      <td>The Godfather</td>\n",
              "      <td>6024.0</td>\n",
              "      <td>8.5</td>\n",
              "      <td>8.425439</td>\n",
              "    </tr>\n",
              "    <tr>\n",
              "      <th>10309</th>\n",
              "      <td>Dilwale Dulhania Le Jayenge</td>\n",
              "      <td>661.0</td>\n",
              "      <td>9.1</td>\n",
              "      <td>8.421453</td>\n",
              "    </tr>\n",
              "    <tr>\n",
              "      <th>12481</th>\n",
              "      <td>The Dark Knight</td>\n",
              "      <td>12269.0</td>\n",
              "      <td>8.3</td>\n",
              "      <td>8.265477</td>\n",
              "    </tr>\n",
              "    <tr>\n",
              "      <th>2843</th>\n",
              "      <td>Fight Club</td>\n",
              "      <td>9678.0</td>\n",
              "      <td>8.3</td>\n",
              "      <td>8.256385</td>\n",
              "    </tr>\n",
              "    <tr>\n",
              "      <th>292</th>\n",
              "      <td>Pulp Fiction</td>\n",
              "      <td>8670.0</td>\n",
              "      <td>8.3</td>\n",
              "      <td>8.251406</td>\n",
              "    </tr>\n",
              "    <tr>\n",
              "      <th>522</th>\n",
              "      <td>Schindler's List</td>\n",
              "      <td>4436.0</td>\n",
              "      <td>8.3</td>\n",
              "      <td>8.206639</td>\n",
              "    </tr>\n",
              "    <tr>\n",
              "      <th>23673</th>\n",
              "      <td>Whiplash</td>\n",
              "      <td>4376.0</td>\n",
              "      <td>8.3</td>\n",
              "      <td>8.205404</td>\n",
              "    </tr>\n",
              "    <tr>\n",
              "      <th>5481</th>\n",
              "      <td>Spirited Away</td>\n",
              "      <td>3968.0</td>\n",
              "      <td>8.3</td>\n",
              "      <td>8.196055</td>\n",
              "    </tr>\n",
              "    <tr>\n",
              "      <th>2211</th>\n",
              "      <td>Life Is Beautiful</td>\n",
              "      <td>3643.0</td>\n",
              "      <td>8.3</td>\n",
              "      <td>8.187171</td>\n",
              "    </tr>\n",
              "    <tr>\n",
              "      <th>1178</th>\n",
              "      <td>The Godfather: Part II</td>\n",
              "      <td>3418.0</td>\n",
              "      <td>8.3</td>\n",
              "      <td>8.180076</td>\n",
              "    </tr>\n",
              "    <tr>\n",
              "      <th>1152</th>\n",
              "      <td>One Flew Over the Cuckoo's Nest</td>\n",
              "      <td>3001.0</td>\n",
              "      <td>8.3</td>\n",
              "      <td>8.164256</td>\n",
              "    </tr>\n",
              "    <tr>\n",
              "      <th>351</th>\n",
              "      <td>Forrest Gump</td>\n",
              "      <td>8147.0</td>\n",
              "      <td>8.2</td>\n",
              "      <td>8.150272</td>\n",
              "    </tr>\n",
              "    <tr>\n",
              "      <th>1154</th>\n",
              "      <td>The Empire Strikes Back</td>\n",
              "      <td>5998.0</td>\n",
              "      <td>8.2</td>\n",
              "      <td>8.132919</td>\n",
              "    </tr>\n",
              "    <tr>\n",
              "      <th>1176</th>\n",
              "      <td>Psycho</td>\n",
              "      <td>2405.0</td>\n",
              "      <td>8.3</td>\n",
              "      <td>8.132715</td>\n",
              "    </tr>\n",
              "  </tbody>\n",
              "</table>\n",
              "</div>"
            ],
            "text/plain": [
              "                                 title  vote_count  vote_average     score\n",
              "314           The Shawshank Redemption      8358.0           8.5  8.445869\n",
              "834                      The Godfather      6024.0           8.5  8.425439\n",
              "10309      Dilwale Dulhania Le Jayenge       661.0           9.1  8.421453\n",
              "12481                  The Dark Knight     12269.0           8.3  8.265477\n",
              "2843                        Fight Club      9678.0           8.3  8.256385\n",
              "292                       Pulp Fiction      8670.0           8.3  8.251406\n",
              "522                   Schindler's List      4436.0           8.3  8.206639\n",
              "23673                         Whiplash      4376.0           8.3  8.205404\n",
              "5481                     Spirited Away      3968.0           8.3  8.196055\n",
              "2211                 Life Is Beautiful      3643.0           8.3  8.187171\n",
              "1178            The Godfather: Part II      3418.0           8.3  8.180076\n",
              "1152   One Flew Over the Cuckoo's Nest      3001.0           8.3  8.164256\n",
              "351                       Forrest Gump      8147.0           8.2  8.150272\n",
              "1154           The Empire Strikes Back      5998.0           8.2  8.132919\n",
              "1176                            Psycho      2405.0           8.3  8.132715"
            ]
          },
          "metadata": {
            "tags": []
          },
          "execution_count": 12
        }
      ]
    },
    {
      "cell_type": "markdown",
      "metadata": {
        "id": "vz3lU4KFmASE"
      },
      "source": [
        "## Answer"
      ]
    },
    {
      "cell_type": "markdown",
      "metadata": {
        "id": "1PmzBj2quL-u"
      },
      "source": [
        "Build score function"
      ]
    },
    {
      "cell_type": "code",
      "metadata": {
        "id": "FtyAg0cbmBc1"
      },
      "source": [
        "# Function that computes the weighted rating of each movie\n",
        "C = metadata['vote_average'].mean()\n",
        "M = metadata['vote_count'].quantile(0.90)\n",
        "\n",
        "def weighted_rating(x, M=M, C=C):\n",
        "    v = x['vote_count']\n",
        "    R = x['vote_average']\n",
        "    # Calculation based on the IMDB formula\n",
        "    return (v/(v+M) * R) + (M/(M+v) * C)\n",
        "\n"
      ],
      "execution_count": null,
      "outputs": []
    },
    {
      "cell_type": "markdown",
      "metadata": {
        "id": "NHKwasOXvMSf"
      },
      "source": [
        "## Excercise\n",
        "\n",
        "Use the recommendation score to recommend the top 15 movies"
      ]
    },
    {
      "cell_type": "markdown",
      "metadata": {
        "id": "2a8FC1IhvTob"
      },
      "source": [
        "## Answer"
      ]
    },
    {
      "cell_type": "code",
      "metadata": {
        "id": "hopCdMmXvV3S",
        "colab": {
          "base_uri": "https://localhost:8080/",
          "height": 491
        },
        "outputId": "1ca8c0a2-6937-4279-d6b2-e42aebe51fe1"
      },
      "source": [
        "# Filter out all qualified movies into a new DataFrame\n",
        "q_movies = metadata.copy().loc[metadata['vote_count'] >= M]\n",
        "# Define a new feature 'score' and calculate its value with `weighted_rating()`\n",
        "q_movies['score'] = q_movies.apply(weighted_rating, axis=1)\n",
        "#Sort movies based on score calculated above\n",
        "q_movies = q_movies.sort_values('score', ascending=False)\n",
        "\n",
        "#Print the top 15 movies\n",
        "q_movies[['title', 'vote_count', 'vote_average', 'score']].head(15)"
      ],
      "execution_count": null,
      "outputs": [
        {
          "output_type": "execute_result",
          "data": {
            "text/html": [
              "<div>\n",
              "<style scoped>\n",
              "    .dataframe tbody tr th:only-of-type {\n",
              "        vertical-align: middle;\n",
              "    }\n",
              "\n",
              "    .dataframe tbody tr th {\n",
              "        vertical-align: top;\n",
              "    }\n",
              "\n",
              "    .dataframe thead th {\n",
              "        text-align: right;\n",
              "    }\n",
              "</style>\n",
              "<table border=\"1\" class=\"dataframe\">\n",
              "  <thead>\n",
              "    <tr style=\"text-align: right;\">\n",
              "      <th></th>\n",
              "      <th>title</th>\n",
              "      <th>vote_count</th>\n",
              "      <th>vote_average</th>\n",
              "      <th>score</th>\n",
              "    </tr>\n",
              "  </thead>\n",
              "  <tbody>\n",
              "    <tr>\n",
              "      <th>314</th>\n",
              "      <td>The Shawshank Redemption</td>\n",
              "      <td>8358.0</td>\n",
              "      <td>8.5</td>\n",
              "      <td>8.445869</td>\n",
              "    </tr>\n",
              "    <tr>\n",
              "      <th>834</th>\n",
              "      <td>The Godfather</td>\n",
              "      <td>6024.0</td>\n",
              "      <td>8.5</td>\n",
              "      <td>8.425439</td>\n",
              "    </tr>\n",
              "    <tr>\n",
              "      <th>10309</th>\n",
              "      <td>Dilwale Dulhania Le Jayenge</td>\n",
              "      <td>661.0</td>\n",
              "      <td>9.1</td>\n",
              "      <td>8.421453</td>\n",
              "    </tr>\n",
              "    <tr>\n",
              "      <th>12481</th>\n",
              "      <td>The Dark Knight</td>\n",
              "      <td>12269.0</td>\n",
              "      <td>8.3</td>\n",
              "      <td>8.265477</td>\n",
              "    </tr>\n",
              "    <tr>\n",
              "      <th>2843</th>\n",
              "      <td>Fight Club</td>\n",
              "      <td>9678.0</td>\n",
              "      <td>8.3</td>\n",
              "      <td>8.256385</td>\n",
              "    </tr>\n",
              "    <tr>\n",
              "      <th>292</th>\n",
              "      <td>Pulp Fiction</td>\n",
              "      <td>8670.0</td>\n",
              "      <td>8.3</td>\n",
              "      <td>8.251406</td>\n",
              "    </tr>\n",
              "    <tr>\n",
              "      <th>522</th>\n",
              "      <td>Schindler's List</td>\n",
              "      <td>4436.0</td>\n",
              "      <td>8.3</td>\n",
              "      <td>8.206639</td>\n",
              "    </tr>\n",
              "    <tr>\n",
              "      <th>23673</th>\n",
              "      <td>Whiplash</td>\n",
              "      <td>4376.0</td>\n",
              "      <td>8.3</td>\n",
              "      <td>8.205404</td>\n",
              "    </tr>\n",
              "    <tr>\n",
              "      <th>5481</th>\n",
              "      <td>Spirited Away</td>\n",
              "      <td>3968.0</td>\n",
              "      <td>8.3</td>\n",
              "      <td>8.196055</td>\n",
              "    </tr>\n",
              "    <tr>\n",
              "      <th>2211</th>\n",
              "      <td>Life Is Beautiful</td>\n",
              "      <td>3643.0</td>\n",
              "      <td>8.3</td>\n",
              "      <td>8.187171</td>\n",
              "    </tr>\n",
              "    <tr>\n",
              "      <th>1178</th>\n",
              "      <td>The Godfather: Part II</td>\n",
              "      <td>3418.0</td>\n",
              "      <td>8.3</td>\n",
              "      <td>8.180076</td>\n",
              "    </tr>\n",
              "    <tr>\n",
              "      <th>1152</th>\n",
              "      <td>One Flew Over the Cuckoo's Nest</td>\n",
              "      <td>3001.0</td>\n",
              "      <td>8.3</td>\n",
              "      <td>8.164256</td>\n",
              "    </tr>\n",
              "    <tr>\n",
              "      <th>351</th>\n",
              "      <td>Forrest Gump</td>\n",
              "      <td>8147.0</td>\n",
              "      <td>8.2</td>\n",
              "      <td>8.150272</td>\n",
              "    </tr>\n",
              "    <tr>\n",
              "      <th>1154</th>\n",
              "      <td>The Empire Strikes Back</td>\n",
              "      <td>5998.0</td>\n",
              "      <td>8.2</td>\n",
              "      <td>8.132919</td>\n",
              "    </tr>\n",
              "    <tr>\n",
              "      <th>1176</th>\n",
              "      <td>Psycho</td>\n",
              "      <td>2405.0</td>\n",
              "      <td>8.3</td>\n",
              "      <td>8.132715</td>\n",
              "    </tr>\n",
              "  </tbody>\n",
              "</table>\n",
              "</div>"
            ],
            "text/plain": [
              "                                 title  vote_count  vote_average     score\n",
              "314           The Shawshank Redemption      8358.0           8.5  8.445869\n",
              "834                      The Godfather      6024.0           8.5  8.425439\n",
              "10309      Dilwale Dulhania Le Jayenge       661.0           9.1  8.421453\n",
              "12481                  The Dark Knight     12269.0           8.3  8.265477\n",
              "2843                        Fight Club      9678.0           8.3  8.256385\n",
              "292                       Pulp Fiction      8670.0           8.3  8.251406\n",
              "522                   Schindler's List      4436.0           8.3  8.206639\n",
              "23673                         Whiplash      4376.0           8.3  8.205404\n",
              "5481                     Spirited Away      3968.0           8.3  8.196055\n",
              "2211                 Life Is Beautiful      3643.0           8.3  8.187171\n",
              "1178            The Godfather: Part II      3418.0           8.3  8.180076\n",
              "1152   One Flew Over the Cuckoo's Nest      3001.0           8.3  8.164256\n",
              "351                       Forrest Gump      8147.0           8.2  8.150272\n",
              "1154           The Empire Strikes Back      5998.0           8.2  8.132919\n",
              "1176                            Psycho      2405.0           8.3  8.132715"
            ]
          },
          "metadata": {
            "tags": []
          },
          "execution_count": 14
        }
      ]
    },
    {
      "cell_type": "markdown",
      "metadata": {
        "id": "Y_axRSfxvbG2"
      },
      "source": [
        "# Lesson 3: Content based recommender systems"
      ]
    },
    {
      "cell_type": "markdown",
      "metadata": {
        "id": "MaROIsP5v7xK"
      },
      "source": [
        "## Learning Objectives\n",
        "\n",
        "- Learner will be able to understand and calculate the TF-IDF using sklearn for text sentence (item/movie overview).\n",
        "- Learner will be able to understand what is meant by Dot product, and relation to Cosine similarity.\n",
        "- Learner will be able to calculate cosine similarity with sklearn for two TF-IDF vectors.\n",
        "- Learner will be able to recommend movies based on their cosine similarity to other movies overview text description.\n",
        "- Learner will be able to use CountVectorizer in sklearn to recommend movies based on other meta-data, like credits, genres and keywords."
      ]
    },
    {
      "cell_type": "markdown",
      "metadata": {
        "id": "ZSL3osNLwx2E"
      },
      "source": [
        "## Preparation code (not part of excercise)"
      ]
    },
    {
      "cell_type": "code",
      "metadata": {
        "id": "w9S44W3Nw1gf",
        "colab": {
          "base_uri": "https://localhost:8080/",
          "height": 118
        },
        "outputId": "0211d6c7-ded1-42ea-ede1-c4d66bef41b1"
      },
      "source": [
        "#Print plot overviews of the first 5 movies.\n",
        "metadata['overview'].head()"
      ],
      "execution_count": null,
      "outputs": [
        {
          "output_type": "execute_result",
          "data": {
            "text/plain": [
              "0    Led by Woody, Andy's toys live happily in his ...\n",
              "1    When siblings Judy and Peter discover an encha...\n",
              "2    A family wedding reignites the ancient feud be...\n",
              "3    Cheated on, mistreated and stepped on, the wom...\n",
              "4    Just when George Banks has recovered from his ...\n",
              "Name: overview, dtype: object"
            ]
          },
          "metadata": {
            "tags": []
          },
          "execution_count": 15
        }
      ]
    },
    {
      "cell_type": "markdown",
      "metadata": {
        "id": "Y9mo6zi4wtv2"
      },
      "source": [
        "## Excercise\n",
        "Calculate the TF-IDF transform for the movies overview texts"
      ]
    },
    {
      "cell_type": "markdown",
      "metadata": {
        "id": "4vBOWtDYxFdh"
      },
      "source": [
        "## Answer"
      ]
    },
    {
      "cell_type": "code",
      "metadata": {
        "id": "cfQYbxz3w_ZF",
        "colab": {
          "base_uri": "https://localhost:8080/",
          "height": 34
        },
        "outputId": "151932f9-0505-4a9f-c017-3d51eccf4d7a"
      },
      "source": [
        "\n",
        "\n",
        "#Define a TF-IDF Vectorizer Object. Remove all english stop words such as 'the', 'a'\n",
        "tfidf = TfidfVectorizer(stop_words='english')\n",
        "\n",
        "#Replace NaN with an empty string\n",
        "metadata['overview'] = metadata['overview'].fillna('')\n",
        "\n",
        "#Construct the required TF-IDF matrix by fitting and transforming the data\n",
        "tfidf_matrix = tfidf.fit_transform(metadata['overview'])\n",
        "\n",
        "#Output the shape of tfidf_matrix\n",
        "tfidf_matrix.shape"
      ],
      "execution_count": null,
      "outputs": [
        {
          "output_type": "execute_result",
          "data": {
            "text/plain": [
              "(45466, 75827)"
            ]
          },
          "metadata": {
            "tags": []
          },
          "execution_count": 16
        }
      ]
    },
    {
      "cell_type": "markdown",
      "metadata": {
        "id": "5fiPMPvzxOjr"
      },
      "source": [
        "## Excercise\n",
        "\n",
        "Compute the pair-wise cosine similarity between all overviews of movies.\n",
        "\n",
        "\n",
        "Remember: since that:\n",
        "\n",
        "$$x.y = ||x||.||y||.cos(\\theta)$$\n",
        "\n",
        "So\n",
        "$$cos(\\theta) = \\frac{x.y}{||x||||y||}$$\n",
        "\n",
        "So we can use the `linear_kernel` from sklearn, which is faster than `cosine_similarity`"
      ]
    },
    {
      "cell_type": "markdown",
      "metadata": {
        "id": "Pb_mxkJByOQD"
      },
      "source": [
        "## Answer"
      ]
    },
    {
      "cell_type": "code",
      "metadata": {
        "id": "RZ2VDmWxyHn_"
      },
      "source": [
        "# Compute the cosine Similarity matrix\n",
        "cosine_sim = linear_kernel(tfidf_matrix, tfidf_matrix)"
      ],
      "execution_count": null,
      "outputs": []
    },
    {
      "cell_type": "markdown",
      "metadata": {
        "id": "vb_94M23ySpg"
      },
      "source": [
        "## Excercise\n",
        "\n",
        "Implement the function `get_recommendations` that produces 10 most similar movies, based on cosine_similarity between the TF-IDF scores of descriptions"
      ]
    },
    {
      "cell_type": "markdown",
      "metadata": {
        "id": "e2KiUnp5ywX4"
      },
      "source": [
        "## Answer"
      ]
    },
    {
      "cell_type": "code",
      "metadata": {
        "id": "cOqFb6chzHFz"
      },
      "source": [
        "#Construct a reverse map of indices and movie titles\n",
        "indices = pd.Series(metadata.index, index=metadata['title']).drop_duplicates()"
      ],
      "execution_count": null,
      "outputs": []
    },
    {
      "cell_type": "code",
      "metadata": {
        "id": "-qbnEe2zyx76"
      },
      "source": [
        "\n",
        "# Function that takes in movie title as input and outputs most similar movies\n",
        "def get_recommendations(title, cosine_sim=cosine_sim):\n",
        "    # Get the index of the movie that matches the title\n",
        "    idx = indices[title]\n",
        "\n",
        "    # Get the pairwsie similarity scores of all movies with that movie\n",
        "    sim_scores = list(enumerate(cosine_sim[idx]))\n",
        "\n",
        "    # Sort the movies based on the similarity scores\n",
        "    sim_scores = sorted(sim_scores, key=lambda x: x[1], reverse=True)\n",
        "\n",
        "    # Get the scores of the 10 most similar movies\n",
        "    sim_scores = sim_scores[1:11]\n",
        "\n",
        "    # Get the movie indices\n",
        "    movie_indices = [i[0] for i in sim_scores]\n",
        "\n",
        "    # Return the top 10 most similar movies\n",
        "    return metadata['title'].iloc[movie_indices]"
      ],
      "execution_count": null,
      "outputs": []
    },
    {
      "cell_type": "code",
      "metadata": {
        "id": "e2hRjsfwyz5F",
        "colab": {
          "base_uri": "https://localhost:8080/",
          "height": 202
        },
        "outputId": "48bcf97f-6015-4cbc-950e-d4cb0225fa60"
      },
      "source": [
        "print(get_recommendations('The Dark Knight Rises'))"
      ],
      "execution_count": null,
      "outputs": [
        {
          "output_type": "stream",
          "text": [
            "12481                                      The Dark Knight\n",
            "150                                         Batman Forever\n",
            "1328                                        Batman Returns\n",
            "15511                           Batman: Under the Red Hood\n",
            "585                                                 Batman\n",
            "21194    Batman Unmasked: The Psychology of the Dark Kn...\n",
            "9230                    Batman Beyond: Return of the Joker\n",
            "18035                                     Batman: Year One\n",
            "19792              Batman: The Dark Knight Returns, Part 1\n",
            "3095                          Batman: Mask of the Phantasm\n",
            "Name: title, dtype: object\n"
          ],
          "name": "stdout"
        }
      ]
    },
    {
      "cell_type": "code",
      "metadata": {
        "id": "7dFlfrtmzQT0",
        "colab": {
          "base_uri": "https://localhost:8080/",
          "height": 202
        },
        "outputId": "c36fd6cb-2ae4-4eb3-8b75-df937732ef1e"
      },
      "source": [
        "get_recommendations('The Godfather')"
      ],
      "execution_count": null,
      "outputs": [
        {
          "output_type": "execute_result",
          "data": {
            "text/plain": [
              "1178               The Godfather: Part II\n",
              "44030    The Godfather Trilogy: 1972-1990\n",
              "1914              The Godfather: Part III\n",
              "23126                          Blood Ties\n",
              "11297                    Household Saints\n",
              "34717                   Start Liquidation\n",
              "10821                            Election\n",
              "38030            A Mother Should Be Loved\n",
              "17729                   Short Sharp Shock\n",
              "26293                  Beck 28 - Familjen\n",
              "Name: title, dtype: object"
            ]
          },
          "metadata": {
            "tags": []
          },
          "execution_count": 23
        }
      ]
    },
    {
      "cell_type": "markdown",
      "metadata": {
        "id": "E0ZisnopzhKQ"
      },
      "source": [
        "## Excercise\n",
        "\n",
        "In this excercise, we want to recommend movies based on some extra metadata _features_, like `'cast', 'crew', 'keywords', 'genres'`. One important difference is that you use the `CountVectorizer()` instead of TF-IDF. This is because you do not want to down-weight the presence of an actor/director if he or she has acted or directed in relatively more movies. It doesn't make much intuitive sense.\n",
        "\n",
        "You are asked to recommend movies on the new cosine_similarity, pair wise `CountVectorizer()` scores."
      ]
    },
    {
      "cell_type": "markdown",
      "metadata": {
        "id": "ZRZ3GyHC0nAx"
      },
      "source": [
        "##  Preparation code\n",
        "Not part of the excercise answer"
      ]
    },
    {
      "cell_type": "code",
      "metadata": {
        "id": "m5h0Yyhkz7AL"
      },
      "source": [
        "# Load keywords and credits\n",
        "credits = pd.read_csv(imdb_data_dir + 'credits.csv')\n",
        "keywords = pd.read_csv(imdb_data_dir + 'keywords.csv')\n",
        "\n",
        "# Remove rows with bad IDs.\n",
        "metadata = metadata.drop([19730, 29503, 35587])\n",
        "\n",
        "# Convert IDs to int. Required for merging\n",
        "keywords['id'] = keywords['id'].astype('int')\n",
        "credits['id'] = credits['id'].astype('int')\n",
        "metadata['id'] = metadata['id'].astype('int')\n",
        "\n",
        "# Merge keywords and credits into your main metadata dataframe\n",
        "metadata = metadata.merge(credits, on='id')\n",
        "metadata = metadata.merge(keywords, on='id')"
      ],
      "execution_count": null,
      "outputs": []
    },
    {
      "cell_type": "code",
      "metadata": {
        "id": "-0dUi1T00F0b",
        "colab": {
          "base_uri": "https://localhost:8080/",
          "height": 311
        },
        "outputId": "c5125fbb-80c2-4c00-d4a0-e3d361c2524b"
      },
      "source": [
        "# Print the first two movies of your newly merged metadata\n",
        "metadata.head(2)"
      ],
      "execution_count": null,
      "outputs": [
        {
          "output_type": "execute_result",
          "data": {
            "text/html": [
              "<div>\n",
              "<style scoped>\n",
              "    .dataframe tbody tr th:only-of-type {\n",
              "        vertical-align: middle;\n",
              "    }\n",
              "\n",
              "    .dataframe tbody tr th {\n",
              "        vertical-align: top;\n",
              "    }\n",
              "\n",
              "    .dataframe thead th {\n",
              "        text-align: right;\n",
              "    }\n",
              "</style>\n",
              "<table border=\"1\" class=\"dataframe\">\n",
              "  <thead>\n",
              "    <tr style=\"text-align: right;\">\n",
              "      <th></th>\n",
              "      <th>adult</th>\n",
              "      <th>belongs_to_collection</th>\n",
              "      <th>budget</th>\n",
              "      <th>genres</th>\n",
              "      <th>homepage</th>\n",
              "      <th>id</th>\n",
              "      <th>imdb_id</th>\n",
              "      <th>original_language</th>\n",
              "      <th>original_title</th>\n",
              "      <th>overview</th>\n",
              "      <th>popularity</th>\n",
              "      <th>poster_path</th>\n",
              "      <th>production_companies</th>\n",
              "      <th>production_countries</th>\n",
              "      <th>release_date</th>\n",
              "      <th>revenue</th>\n",
              "      <th>runtime</th>\n",
              "      <th>spoken_languages</th>\n",
              "      <th>status</th>\n",
              "      <th>tagline</th>\n",
              "      <th>title</th>\n",
              "      <th>video</th>\n",
              "      <th>vote_average</th>\n",
              "      <th>vote_count</th>\n",
              "      <th>cast</th>\n",
              "      <th>crew</th>\n",
              "      <th>keywords</th>\n",
              "    </tr>\n",
              "  </thead>\n",
              "  <tbody>\n",
              "    <tr>\n",
              "      <th>0</th>\n",
              "      <td>False</td>\n",
              "      <td>{'id': 10194, 'name': 'Toy Story Collection', ...</td>\n",
              "      <td>30000000</td>\n",
              "      <td>[{'id': 16, 'name': 'Animation'}, {'id': 35, '...</td>\n",
              "      <td>http://toystory.disney.com/toy-story</td>\n",
              "      <td>862</td>\n",
              "      <td>tt0114709</td>\n",
              "      <td>en</td>\n",
              "      <td>Toy Story</td>\n",
              "      <td>Led by Woody, Andy's toys live happily in his ...</td>\n",
              "      <td>21.9469</td>\n",
              "      <td>/rhIRbceoE9lR4veEXuwCC2wARtG.jpg</td>\n",
              "      <td>[{'name': 'Pixar Animation Studios', 'id': 3}]</td>\n",
              "      <td>[{'iso_3166_1': 'US', 'name': 'United States o...</td>\n",
              "      <td>1995-10-30</td>\n",
              "      <td>373554033.0</td>\n",
              "      <td>81.0</td>\n",
              "      <td>[{'iso_639_1': 'en', 'name': 'English'}]</td>\n",
              "      <td>Released</td>\n",
              "      <td>NaN</td>\n",
              "      <td>Toy Story</td>\n",
              "      <td>False</td>\n",
              "      <td>7.7</td>\n",
              "      <td>5415.0</td>\n",
              "      <td>[{'cast_id': 14, 'character': 'Woody (voice)',...</td>\n",
              "      <td>[{'credit_id': '52fe4284c3a36847f8024f49', 'de...</td>\n",
              "      <td>[{'id': 931, 'name': 'jealousy'}, {'id': 4290,...</td>\n",
              "    </tr>\n",
              "    <tr>\n",
              "      <th>1</th>\n",
              "      <td>False</td>\n",
              "      <td>NaN</td>\n",
              "      <td>65000000</td>\n",
              "      <td>[{'id': 12, 'name': 'Adventure'}, {'id': 14, '...</td>\n",
              "      <td>NaN</td>\n",
              "      <td>8844</td>\n",
              "      <td>tt0113497</td>\n",
              "      <td>en</td>\n",
              "      <td>Jumanji</td>\n",
              "      <td>When siblings Judy and Peter discover an encha...</td>\n",
              "      <td>17.0155</td>\n",
              "      <td>/vzmL6fP7aPKNKPRTFnZmiUfciyV.jpg</td>\n",
              "      <td>[{'name': 'TriStar Pictures', 'id': 559}, {'na...</td>\n",
              "      <td>[{'iso_3166_1': 'US', 'name': 'United States o...</td>\n",
              "      <td>1995-12-15</td>\n",
              "      <td>262797249.0</td>\n",
              "      <td>104.0</td>\n",
              "      <td>[{'iso_639_1': 'en', 'name': 'English'}, {'iso...</td>\n",
              "      <td>Released</td>\n",
              "      <td>Roll the dice and unleash the excitement!</td>\n",
              "      <td>Jumanji</td>\n",
              "      <td>False</td>\n",
              "      <td>6.9</td>\n",
              "      <td>2413.0</td>\n",
              "      <td>[{'cast_id': 1, 'character': 'Alan Parrish', '...</td>\n",
              "      <td>[{'credit_id': '52fe44bfc3a36847f80a7cd1', 'de...</td>\n",
              "      <td>[{'id': 10090, 'name': 'board game'}, {'id': 1...</td>\n",
              "    </tr>\n",
              "  </tbody>\n",
              "</table>\n",
              "</div>"
            ],
            "text/plain": [
              "   adult  ...                                           keywords\n",
              "0  False  ...  [{'id': 931, 'name': 'jealousy'}, {'id': 4290,...\n",
              "1  False  ...  [{'id': 10090, 'name': 'board game'}, {'id': 1...\n",
              "\n",
              "[2 rows x 27 columns]"
            ]
          },
          "metadata": {
            "tags": []
          },
          "execution_count": 11
        }
      ]
    },
    {
      "cell_type": "code",
      "metadata": {
        "id": "uEG0ZvlVAEqc",
        "colab": {
          "base_uri": "https://localhost:8080/",
          "height": 34
        },
        "outputId": "571625da-0994-4655-8fc4-7c3fe9d7cc96"
      },
      "source": [
        "len(metadata)"
      ],
      "execution_count": null,
      "outputs": [
        {
          "output_type": "execute_result",
          "data": {
            "text/plain": [
              "46628"
            ]
          },
          "metadata": {
            "tags": []
          },
          "execution_count": 12
        }
      ]
    },
    {
      "cell_type": "code",
      "metadata": {
        "id": "eQEwGM_4AHAd"
      },
      "source": [
        "# Limit the data for memory size\n",
        "metadata = metadata[:10000]"
      ],
      "execution_count": null,
      "outputs": []
    },
    {
      "cell_type": "code",
      "metadata": {
        "id": "iKD-IRZU0gf8"
      },
      "source": [
        "# Parse the stringified features into their corresponding python objects\n",
        "from ast import literal_eval\n",
        "\n",
        "features = ['cast', 'crew', 'keywords', 'genres']\n",
        "for feature in features:\n",
        "    metadata[feature] = metadata[feature].apply(literal_eval)"
      ],
      "execution_count": null,
      "outputs": []
    },
    {
      "cell_type": "code",
      "metadata": {
        "id": "Yz-ZtT810sVl"
      },
      "source": [
        "# Get the director's name from the crew feature. If director is not listed, return NaN\n",
        "def get_director(x):\n",
        "    for i in x:\n",
        "        if i['job'] == 'Director':\n",
        "            return i['name']\n",
        "    return np.nan"
      ],
      "execution_count": null,
      "outputs": []
    },
    {
      "cell_type": "code",
      "metadata": {
        "id": "hwiIW2vF0uhC"
      },
      "source": [
        "# Returns the list top 3 elements or entire list; whichever is more.\n",
        "def get_list(x):\n",
        "    if isinstance(x, list):\n",
        "        names = [i['name'] for i in x]\n",
        "        #Check if more than 3 elements exist. If yes, return only first three. If no, return entire list.\n",
        "        if len(names) > 3:\n",
        "            names = names[:3]\n",
        "        return names\n",
        "\n",
        "    #Return empty list in case of missing/malformed data\n",
        "    return []"
      ],
      "execution_count": null,
      "outputs": []
    },
    {
      "cell_type": "code",
      "metadata": {
        "id": "7H1Zruw_0xwS"
      },
      "source": [
        "# Define new director, cast, genres and keywords features that are in a suitable form.\n",
        "metadata['director'] = metadata['crew'].apply(get_director)\n",
        "\n",
        "features = ['cast', 'keywords', 'genres']\n",
        "for feature in features:\n",
        "    metadata[feature] = metadata[feature].apply(get_list)"
      ],
      "execution_count": null,
      "outputs": []
    },
    {
      "cell_type": "code",
      "metadata": {
        "id": "T_q6zqZF0zrA",
        "colab": {
          "base_uri": "https://localhost:8080/",
          "height": 343
        },
        "outputId": "228737cf-6ec2-41c7-cbc2-9d3f378ed3f2"
      },
      "source": [
        "# Print the new features of the first 3 films\n",
        "metadata[['title', 'cast', 'director', 'keywords', 'genres']].head(10)"
      ],
      "execution_count": null,
      "outputs": [
        {
          "output_type": "execute_result",
          "data": {
            "text/html": [
              "<div>\n",
              "<style scoped>\n",
              "    .dataframe tbody tr th:only-of-type {\n",
              "        vertical-align: middle;\n",
              "    }\n",
              "\n",
              "    .dataframe tbody tr th {\n",
              "        vertical-align: top;\n",
              "    }\n",
              "\n",
              "    .dataframe thead th {\n",
              "        text-align: right;\n",
              "    }\n",
              "</style>\n",
              "<table border=\"1\" class=\"dataframe\">\n",
              "  <thead>\n",
              "    <tr style=\"text-align: right;\">\n",
              "      <th></th>\n",
              "      <th>title</th>\n",
              "      <th>cast</th>\n",
              "      <th>director</th>\n",
              "      <th>keywords</th>\n",
              "      <th>genres</th>\n",
              "    </tr>\n",
              "  </thead>\n",
              "  <tbody>\n",
              "    <tr>\n",
              "      <th>0</th>\n",
              "      <td>Toy Story</td>\n",
              "      <td>[tomhanks, timallen, donrickles]</td>\n",
              "      <td>johnlasseter</td>\n",
              "      <td>[jealousy, toy, boy]</td>\n",
              "      <td>[animation, comedy, family]</td>\n",
              "    </tr>\n",
              "    <tr>\n",
              "      <th>1</th>\n",
              "      <td>Jumanji</td>\n",
              "      <td>[robinwilliams, jonathanhyde, kirstendunst]</td>\n",
              "      <td>joejohnston</td>\n",
              "      <td>[boardgame, disappearance, basedonchildren'sbook]</td>\n",
              "      <td>[adventure, fantasy, family]</td>\n",
              "    </tr>\n",
              "    <tr>\n",
              "      <th>2</th>\n",
              "      <td>Grumpier Old Men</td>\n",
              "      <td>[waltermatthau, jacklemmon, ann-margret]</td>\n",
              "      <td>howarddeutch</td>\n",
              "      <td>[fishing, bestfriend, duringcreditsstinger]</td>\n",
              "      <td>[romance, comedy]</td>\n",
              "    </tr>\n",
              "    <tr>\n",
              "      <th>3</th>\n",
              "      <td>Waiting to Exhale</td>\n",
              "      <td>[whitneyhouston, angelabassett, lorettadevine]</td>\n",
              "      <td>forestwhitaker</td>\n",
              "      <td>[basedonnovel, interracialrelationship, single...</td>\n",
              "      <td>[comedy, drama, romance]</td>\n",
              "    </tr>\n",
              "    <tr>\n",
              "      <th>4</th>\n",
              "      <td>Father of the Bride Part II</td>\n",
              "      <td>[stevemartin, dianekeaton, martinshort]</td>\n",
              "      <td>charlesshyer</td>\n",
              "      <td>[baby, midlifecrisis, confidence]</td>\n",
              "      <td>[comedy]</td>\n",
              "    </tr>\n",
              "    <tr>\n",
              "      <th>5</th>\n",
              "      <td>Heat</td>\n",
              "      <td>[alpacino, robertdeniro, valkilmer]</td>\n",
              "      <td>michaelmann</td>\n",
              "      <td>[robbery, detective, bank]</td>\n",
              "      <td>[action, crime, drama]</td>\n",
              "    </tr>\n",
              "    <tr>\n",
              "      <th>6</th>\n",
              "      <td>Sabrina</td>\n",
              "      <td>[harrisonford, juliaormond, gregkinnear]</td>\n",
              "      <td>sydneypollack</td>\n",
              "      <td>[paris, brotherbrotherrelationship, chauffeur]</td>\n",
              "      <td>[comedy, romance]</td>\n",
              "    </tr>\n",
              "    <tr>\n",
              "      <th>7</th>\n",
              "      <td>Tom and Huck</td>\n",
              "      <td>[jonathantaylorthomas, bradrenfro, rachaelleig...</td>\n",
              "      <td>peterhewitt</td>\n",
              "      <td>[]</td>\n",
              "      <td>[action, adventure, drama]</td>\n",
              "    </tr>\n",
              "    <tr>\n",
              "      <th>8</th>\n",
              "      <td>Sudden Death</td>\n",
              "      <td>[jean-claudevandamme, powersboothe, dorianhare...</td>\n",
              "      <td>peterhyams</td>\n",
              "      <td>[terrorist, hostage, explosive]</td>\n",
              "      <td>[action, adventure, thriller]</td>\n",
              "    </tr>\n",
              "    <tr>\n",
              "      <th>9</th>\n",
              "      <td>GoldenEye</td>\n",
              "      <td>[piercebrosnan, seanbean, izabellascorupco]</td>\n",
              "      <td>martincampbell</td>\n",
              "      <td>[cuba, falselyaccused, secretidentity]</td>\n",
              "      <td>[adventure, action, thriller]</td>\n",
              "    </tr>\n",
              "  </tbody>\n",
              "</table>\n",
              "</div>"
            ],
            "text/plain": [
              "                         title  ...                         genres\n",
              "0                    Toy Story  ...    [animation, comedy, family]\n",
              "1                      Jumanji  ...   [adventure, fantasy, family]\n",
              "2             Grumpier Old Men  ...              [romance, comedy]\n",
              "3            Waiting to Exhale  ...       [comedy, drama, romance]\n",
              "4  Father of the Bride Part II  ...                       [comedy]\n",
              "5                         Heat  ...         [action, crime, drama]\n",
              "6                      Sabrina  ...              [comedy, romance]\n",
              "7                 Tom and Huck  ...     [action, adventure, drama]\n",
              "8                 Sudden Death  ...  [action, adventure, thriller]\n",
              "9                    GoldenEye  ...  [adventure, action, thriller]\n",
              "\n",
              "[10 rows x 5 columns]"
            ]
          },
          "metadata": {
            "tags": []
          },
          "execution_count": 33
        }
      ]
    },
    {
      "cell_type": "code",
      "metadata": {
        "id": "GtEXOsMI05B5"
      },
      "source": [
        "# Function to convert all strings to lower case and strip names of spaces\n",
        "def clean_data(x):\n",
        "    if isinstance(x, list):\n",
        "        return [str.lower(i.replace(\" \", \"\")) for i in x]\n",
        "    else:\n",
        "        #Check if director exists. If not, return empty string\n",
        "        if isinstance(x, str):\n",
        "            return str.lower(x.replace(\" \", \"\"))\n",
        "        else:\n",
        "            return ''"
      ],
      "execution_count": null,
      "outputs": []
    },
    {
      "cell_type": "code",
      "metadata": {
        "id": "2dxtOihu07JT"
      },
      "source": [
        "# Apply clean_data function to your features.\n",
        "features = ['cast', 'keywords', 'director', 'genres']\n",
        "\n",
        "for feature in features:\n",
        "    metadata[feature] = metadata[feature].apply(clean_data)"
      ],
      "execution_count": null,
      "outputs": []
    },
    {
      "cell_type": "code",
      "metadata": {
        "id": "WzHcnBM50_FH"
      },
      "source": [
        "def create_soup(x):\n",
        "    return ' '.join(x['keywords']) + ' ' + ' '.join(x['cast']) + ' ' + x['director'] + ' ' + ' '.join(x['genres'])"
      ],
      "execution_count": null,
      "outputs": []
    },
    {
      "cell_type": "code",
      "metadata": {
        "id": "-ryLEni50_xh"
      },
      "source": [
        "# Create a new soup feature\n",
        "metadata['soup'] = metadata.apply(create_soup, axis=1)"
      ],
      "execution_count": null,
      "outputs": []
    },
    {
      "cell_type": "markdown",
      "metadata": {
        "id": "ePtM1pBn1iiW"
      },
      "source": [
        "## Answer"
      ]
    },
    {
      "cell_type": "code",
      "metadata": {
        "id": "xwCKd7v81kJz"
      },
      "source": [
        "\n",
        "\n",
        "count = CountVectorizer(stop_words='english')\n",
        "count_matrix = count.fit_transform(metadata['soup'])\n",
        "cosine_sim2 = cosine_similarity(count_matrix, count_matrix)\n",
        "# Reset index of your main DataFrame and construct reverse mapping as before\n",
        "metadata = metadata.reset_index()\n",
        "indices = pd.Series(metadata.index, index=metadata['title'])"
      ],
      "execution_count": null,
      "outputs": []
    },
    {
      "cell_type": "markdown",
      "metadata": {
        "id": "M3KIontdBiyG"
      },
      "source": [
        "## Excercise\n",
        "Implement the function `get_recommendations` that produces 10 most similar movies, using the Counts based pair-wise cosine similarity to give recommendations based on meta data."
      ]
    },
    {
      "cell_type": "markdown",
      "metadata": {
        "id": "6w--qOjeBtDD"
      },
      "source": [
        "## Answer"
      ]
    },
    {
      "cell_type": "code",
      "metadata": {
        "id": "uDiWKWrLAiFP"
      },
      "source": [
        "\n",
        "# Function that takes in movie title as input and outputs most similar movies\n",
        "def get_recommendations(title, cosine_sim=cosine_sim2):\n",
        "    # Get the index of the movie that matches the title\n",
        "    idx = indices[title]\n",
        "\n",
        "    # Get the pairwsie similarity scores of all movies with that movie\n",
        "    sim_scores = list(enumerate(cosine_sim[idx]))\n",
        "\n",
        "    # Sort the movies based on the similarity scores\n",
        "    sim_scores = sorted(sim_scores, key=lambda x: x[1], reverse=True)\n",
        "\n",
        "    # Get the scores of the 10 most similar movies\n",
        "    sim_scores = sim_scores[1:11]\n",
        "\n",
        "    # Get the movie indices\n",
        "    movie_indices = [i[0] for i in sim_scores]\n",
        "\n",
        "    # Return the top 10 most similar movies\n",
        "    return metadata['title'].iloc[movie_indices]"
      ],
      "execution_count": null,
      "outputs": []
    },
    {
      "cell_type": "code",
      "metadata": {
        "id": "JcxsZmyw-I5u",
        "colab": {
          "base_uri": "https://localhost:8080/",
          "height": 202
        },
        "outputId": "96ad4603-60cd-4277-bf3b-556760560394"
      },
      "source": [
        "get_recommendations('The Godfather', cosine_sim2)"
      ],
      "execution_count": null,
      "outputs": [
        {
          "output_type": "execute_result",
          "data": {
            "text/plain": [
              "1934           The Godfather: Part III\n",
              "1199            The Godfather: Part II\n",
              "8001    The Night of the Following Day\n",
              "7772                          Mitchell\n",
              "1186                    Apocalypse Now\n",
              "1648                  Ill Gotten Gains\n",
              "3487        Jails, Hospitals & Hip-Hop\n",
              "4012                  Gardens of Stone\n",
              "5309                       The Gambler\n",
              "5                                 Heat\n",
              "Name: title, dtype: object"
            ]
          },
          "metadata": {
            "tags": []
          },
          "execution_count": 34
        }
      ]
    },
    {
      "cell_type": "markdown",
      "metadata": {
        "id": "ZMd2wQPuA-Go"
      },
      "source": [
        "# Chapter 2: How to deal with tabular data using deep learning?"
      ]
    },
    {
      "cell_type": "markdown",
      "metadata": {
        "id": "EHuwc4VTBFak"
      },
      "source": [
        "## Lesson 1: Introduction to NLP with Keras"
      ]
    },
    {
      "cell_type": "markdown",
      "metadata": {
        "id": "SWhw5w0oBKg5"
      },
      "source": [
        "## Learning Objectives\n",
        "- Learner will be able to write keras program following the 4-ingredients of ML.\n",
        "- Learner will be able to classify the sentiment of movie reviews based on binary BoW model, using readily processed IMDB dataset.\n",
        "- Learner will be able to use nltk and keras tools to apply text pre-processing and cleaning on raw IMDB dataset from scratch.\n",
        "- Learner will be able to extract different text features and apply them to the IMDB dataset, like counts, frequency and TF-IDF."
      ]
    },
    {
      "cell_type": "markdown",
      "metadata": {
        "id": "F7JR9mpLCdCZ"
      },
      "source": [
        "# Preparation code\n",
        "Not part of the excercise answer\n",
        "\n",
        "Build BoW model in keras based on 4-ingredients:\n",
        "- Data\n",
        "- Model\n",
        "- Loss\n",
        "- Optimizer\n",
        "\n",
        "You will use readily processed keras imdb dataset.\n",
        "\n",
        "The data will be loaded for you."
      ]
    },
    {
      "cell_type": "code",
      "metadata": {
        "id": "jpODRMBxJjjW"
      },
      "source": [
        "\n",
        "(train_data, train_labels), (test_data, test_labels) = imdb.load_data(num_words=10000)"
      ],
      "execution_count": null,
      "outputs": []
    },
    {
      "cell_type": "markdown",
      "metadata": {
        "id": "4R4LYatdKlSv"
      },
      "source": [
        "## Excercise\n",
        "\n",
        "Implement `vectorize_sequences` that transfroms the variable length sequence of word indices into equal length, one-hot-encoded vectors, of length same as the vocabulary size."
      ]
    },
    {
      "cell_type": "markdown",
      "metadata": {
        "id": "udjNpbThK8JD"
      },
      "source": [
        "## Answer"
      ]
    },
    {
      "cell_type": "code",
      "metadata": {
        "id": "qsOhceh4JrUt"
      },
      "source": [
        "\n",
        "\n",
        "def vectorize_sequences(sequences, dimension=10000):\n",
        "    # Create an all-zero matrix of shape (len(sequences), dimension)\n",
        "    results = np.zeros((len(sequences), dimension))\n",
        "    for i, sequence in enumerate(sequences):\n",
        "        results[i, sequence] = 1.  # set specific indices of results[i] to 1s\n",
        "    return results\n",
        "\n",
        "# Our vectorized training data\n",
        "x_train = vectorize_sequences(train_data)\n",
        "# Our vectorized test data\n",
        "x_test = vectorize_sequences(test_data)\n",
        "# Our vectorized labels\n",
        "y_train = np.asarray(train_labels).astype('float32')\n",
        "y_test = np.asarray(test_labels).astype('float32')"
      ],
      "execution_count": null,
      "outputs": []
    },
    {
      "cell_type": "markdown",
      "metadata": {
        "id": "Xdr33CaxMAz-"
      },
      "source": [
        "## Excercise\n",
        "\n",
        "Use sklearn `train_test_split` to create the validation data, with ratio = 10%"
      ]
    },
    {
      "cell_type": "markdown",
      "metadata": {
        "id": "9TwXIzCVMRT4"
      },
      "source": [
        "## Answer"
      ]
    },
    {
      "cell_type": "code",
      "metadata": {
        "id": "tiEyzfvKMSZr"
      },
      "source": [
        "x_train, x_val, y_train, y_val = train_test_split(x_train, y_train, test_size=0.1, random_state=42)"
      ],
      "execution_count": null,
      "outputs": []
    },
    {
      "cell_type": "markdown",
      "metadata": {
        "id": "Pg6440neK-GF"
      },
      "source": [
        "## Excercise\n",
        "\n",
        "Build keras `Sequential` model with the following architecture:\n",
        "- Dense layer of 16 outputs\n",
        "- Dense layer of 16 outputs\n",
        "- Final decision layer\n",
        "\n",
        "Print the model summary, and plot the model graph"
      ]
    },
    {
      "cell_type": "markdown",
      "metadata": {
        "id": "TRemEvBJLMtc"
      },
      "source": [
        "## Answer"
      ]
    },
    {
      "cell_type": "code",
      "metadata": {
        "id": "CwvcpYoGLN2E",
        "colab": {
          "base_uri": "https://localhost:8080/",
          "height": 621
        },
        "outputId": "c1cb9e2a-1a89-4194-db55-ecf0d864a34c"
      },
      "source": [
        "model = models.Sequential()\n",
        "model.add(layers.Dense(16, activation='relu', input_shape=(10000,)))\n",
        "model.add(layers.Dense(16, activation='relu'))\n",
        "model.add(layers.Dense(1, activation='sigmoid'))\n",
        "print(model.summary())\n",
        "plot_model(model)"
      ],
      "execution_count": null,
      "outputs": [
        {
          "output_type": "stream",
          "text": [
            "Model: \"sequential\"\n",
            "_________________________________________________________________\n",
            "Layer (type)                 Output Shape              Param #   \n",
            "=================================================================\n",
            "dense (Dense)                (None, 16)                160016    \n",
            "_________________________________________________________________\n",
            "dense_1 (Dense)              (None, 16)                272       \n",
            "_________________________________________________________________\n",
            "dense_2 (Dense)              (None, 1)                 17        \n",
            "=================================================================\n",
            "Total params: 160,305\n",
            "Trainable params: 160,305\n",
            "Non-trainable params: 0\n",
            "_________________________________________________________________\n",
            "None\n"
          ],
          "name": "stdout"
        },
        {
          "output_type": "execute_result",
          "data": {
            "image/png": "[encoded data removed]",
            "text/plain": [
              "<IPython.core.display.Image object>"
            ]
          },
          "metadata": {
            "tags": []
          },
          "execution_count": 7
        }
      ]
    },
    {
      "cell_type": "markdown",
      "metadata": {
        "id": "tGsznqXJLi9m"
      },
      "source": [
        "## Excercise\n",
        "\n",
        "Complete the last two ingredients:\n",
        "- Loss\n",
        "- Optimizer = rmsprop, with lr=0.001\n",
        "\n",
        "And fit the model.\n"
      ]
    },
    {
      "cell_type": "code",
      "metadata": {
        "id": "ZbeRdZKzLufo",
        "colab": {
          "base_uri": "https://localhost:8080/",
          "height": 689
        },
        "outputId": "fb4a0fc6-7486-46ba-cb15-d5a5594101fd"
      },
      "source": [
        "model.compile(optimizer=optimizers.RMSprop(lr=0.001),\n",
        "              loss=losses.binary_crossentropy,\n",
        "              metrics=[metrics.binary_accuracy])\n",
        "\n",
        "history = model.fit(x_train,\n",
        "                    y_train,\n",
        "                    epochs=20,\n",
        "                    batch_size=512,\n",
        "                    validation_data=(x_val, y_val))\n"
      ],
      "execution_count": null,
      "outputs": [
        {
          "output_type": "stream",
          "text": [
            "Epoch 1/20\n",
            "44/44 [==============================] - 1s 24ms/step - loss: 0.4509 - binary_accuracy: 0.8195 - val_loss: 0.3268 - val_binary_accuracy: 0.8920\n",
            "Epoch 2/20\n",
            "44/44 [==============================] - 1s 20ms/step - loss: 0.2593 - binary_accuracy: 0.9095 - val_loss: 0.2819 - val_binary_accuracy: 0.8860\n",
            "Epoch 3/20\n",
            "44/44 [==============================] - 1s 17ms/step - loss: 0.1962 - binary_accuracy: 0.9302 - val_loss: 0.2714 - val_binary_accuracy: 0.8884\n",
            "Epoch 4/20\n",
            "44/44 [==============================] - 1s 17ms/step - loss: 0.1596 - binary_accuracy: 0.9449 - val_loss: 0.2827 - val_binary_accuracy: 0.8840\n",
            "Epoch 5/20\n",
            "44/44 [==============================] - 1s 17ms/step - loss: 0.1333 - binary_accuracy: 0.9545 - val_loss: 0.3165 - val_binary_accuracy: 0.8832\n",
            "Epoch 6/20\n",
            "44/44 [==============================] - 1s 17ms/step - loss: 0.1135 - binary_accuracy: 0.9627 - val_loss: 0.3525 - val_binary_accuracy: 0.8688\n",
            "Epoch 7/20\n",
            "44/44 [==============================] - 1s 16ms/step - loss: 0.0982 - binary_accuracy: 0.9684 - val_loss: 0.3471 - val_binary_accuracy: 0.8776\n",
            "Epoch 8/20\n",
            "44/44 [==============================] - 1s 17ms/step - loss: 0.0831 - binary_accuracy: 0.9742 - val_loss: 0.3789 - val_binary_accuracy: 0.8768\n",
            "Epoch 9/20\n",
            "44/44 [==============================] - 1s 17ms/step - loss: 0.0685 - binary_accuracy: 0.9787 - val_loss: 0.4259 - val_binary_accuracy: 0.8724\n",
            "Epoch 10/20\n",
            "44/44 [==============================] - 1s 17ms/step - loss: 0.0609 - binary_accuracy: 0.9823 - val_loss: 0.4368 - val_binary_accuracy: 0.8684\n",
            "Epoch 11/20\n",
            "44/44 [==============================] - 1s 18ms/step - loss: 0.0515 - binary_accuracy: 0.9839 - val_loss: 0.4756 - val_binary_accuracy: 0.8608\n",
            "Epoch 12/20\n",
            "44/44 [==============================] - 1s 17ms/step - loss: 0.0390 - binary_accuracy: 0.9895 - val_loss: 0.4993 - val_binary_accuracy: 0.8616\n",
            "Epoch 13/20\n",
            "44/44 [==============================] - 1s 19ms/step - loss: 0.0336 - binary_accuracy: 0.9908 - val_loss: 0.6109 - val_binary_accuracy: 0.8560\n",
            "Epoch 14/20\n",
            "44/44 [==============================] - 1s 19ms/step - loss: 0.0268 - binary_accuracy: 0.9930 - val_loss: 0.5735 - val_binary_accuracy: 0.8652\n",
            "Epoch 15/20\n",
            "44/44 [==============================] - 1s 19ms/step - loss: 0.0246 - binary_accuracy: 0.9937 - val_loss: 0.6186 - val_binary_accuracy: 0.8596\n",
            "Epoch 16/20\n",
            "44/44 [==============================] - 1s 18ms/step - loss: 0.0172 - binary_accuracy: 0.9964 - val_loss: 0.6431 - val_binary_accuracy: 0.8608\n",
            "Epoch 17/20\n",
            "44/44 [==============================] - 1s 17ms/step - loss: 0.0142 - binary_accuracy: 0.9967 - val_loss: 0.6898 - val_binary_accuracy: 0.8556\n",
            "Epoch 18/20\n",
            "44/44 [==============================] - 1s 18ms/step - loss: 0.0131 - binary_accuracy: 0.9970 - val_loss: 0.7328 - val_binary_accuracy: 0.8552\n",
            "Epoch 19/20\n",
            "44/44 [==============================] - 1s 17ms/step - loss: 0.0109 - binary_accuracy: 0.9975 - val_loss: 0.7680 - val_binary_accuracy: 0.8560\n",
            "Epoch 20/20\n",
            "44/44 [==============================] - 1s 17ms/step - loss: 0.0083 - binary_accuracy: 0.9983 - val_loss: 0.8082 - val_binary_accuracy: 0.8564\n"
          ],
          "name": "stdout"
        }
      ]
    },
    {
      "cell_type": "markdown",
      "metadata": {
        "id": "t_SGdcDzNLtH"
      },
      "source": [
        "## Excercise\n",
        "\n",
        "Plot the learning curves for train/val accuracy and loss"
      ]
    },
    {
      "cell_type": "markdown",
      "metadata": {
        "id": "Bz_zacCVNPM6"
      },
      "source": [
        "## Answer"
      ]
    },
    {
      "cell_type": "code",
      "metadata": {
        "id": "eUkkcJAIM0eI",
        "colab": {
          "base_uri": "https://localhost:8080/",
          "height": 295
        },
        "outputId": "e0e09e22-0f9a-4b7f-8d90-95388b463e6b"
      },
      "source": [
        "\n",
        "acc = history.history['binary_accuracy']\n",
        "val_acc = history.history['val_binary_accuracy']\n",
        "loss = history.history['loss']\n",
        "val_loss = history.history['val_loss']\n",
        "\n",
        "epochs = range(1, len(acc) + 1)\n",
        "\n",
        "# \"bo\" is for \"blue dot\"\n",
        "plt.plot(epochs, loss, 'bo', label='Training loss')\n",
        "# b is for \"solid blue line\"\n",
        "plt.plot(epochs, val_loss, 'b', label='Validation loss')\n",
        "plt.title('Training and validation loss')\n",
        "plt.xlabel('Epochs')\n",
        "plt.ylabel('Loss')\n",
        "plt.legend()\n",
        "\n",
        "plt.show()\n"
      ],
      "execution_count": null,
      "outputs": [
        {
          "output_type": "display_data",
          "data": {
            "image/png": "[encoded data removed]",
            "text/plain": [
              "<Figure size 432x288 with 1 Axes>"
            ]
          },
          "metadata": {
            "tags": [],
            "needs_background": "light"
          }
        }
      ]
    },
    {
      "cell_type": "code",
      "metadata": {
        "id": "B5hf8ErfM9t-",
        "colab": {
          "base_uri": "https://localhost:8080/",
          "height": 295
        },
        "outputId": "fd9c2ba7-9df3-4692-9b7a-0c7d19695645"
      },
      "source": [
        "\n",
        "plt.clf()   # clear figure\n",
        "acc_values = history.history['binary_accuracy']\n",
        "val_acc_values = history.history['val_binary_accuracy']\n",
        "\n",
        "plt.plot(epochs, acc, 'bo', label='Training acc')\n",
        "plt.plot(epochs, val_acc, 'b', label='Validation acc')\n",
        "plt.title('Training and validation accuracy')\n",
        "plt.xlabel('Epochs')\n",
        "plt.ylabel('Loss')\n",
        "plt.legend()\n",
        "\n",
        "plt.show()"
      ],
      "execution_count": null,
      "outputs": [
        {
          "output_type": "display_data",
          "data": {
            "image/png": "[encoded data removed]",
            "text/plain": [
              "<Figure size 432x288 with 1 Axes>"
            ]
          },
          "metadata": {
            "tags": [],
            "needs_background": "light"
          }
        }
      ]
    },
    {
      "cell_type": "markdown",
      "metadata": {
        "id": "ZQ7pW5tONZiY"
      },
      "source": [
        "## Preparation code\n",
        "Not part of the excercise answer\n",
        "\n",
        "In this part we will raw IMDB text, and apply the data preprocessing pipeline and preparation.\n",
        "\n",
        "Following we will apply the BoW model as before, using three modes:\n",
        "- Binary\n",
        "- TF-IDF\n",
        "- Counts\n",
        "- Frequency\n"
      ]
    },
    {
      "cell_type": "code",
      "metadata": {
        "id": "tFlC8HwOOJ7k",
        "colab": {
          "base_uri": "https://localhost:8080/",
          "height": 67
        },
        "outputId": "e34b1a0e-742a-4e83-fe9e-34b12ad666e6"
      },
      "source": [
        "DATA_PATH=Path('.')\n",
        "DATA_PATH.mkdir(exist_ok=True)\n",
        "#if not os.path.exists('./dat/aclImdb_v1.tar.gz'):\n",
        "if not os.path.exists('./aclImdb'):\n",
        "    !curl -O http://ai.stanford.edu/~amaas/data/sentiment/aclImdb_v1.tar.gz\n",
        "    !tar -xf aclImdb_v1.tar.gz -C {DATA_PATH}"
      ],
      "execution_count": null,
      "outputs": [
        {
          "output_type": "stream",
          "text": [
            "  % Total    % Received % Xferd  Average Speed   Time    Time     Time  Current\n",
            "                                 Dload  Upload   Total   Spent    Left  Speed\n",
            "100 80.2M  100 80.2M    0     0  8244k      0  0:00:09  0:00:09 --:--:-- 17.7M\n"
          ],
          "name": "stdout"
        }
      ]
    },
    {
      "cell_type": "code",
      "metadata": {
        "id": "yqeSSxIDPFpg"
      },
      "source": [
        "import numpy as np\n",
        "CLASSES = ['neg', 'pos']#, 'unsup']\n",
        "PATH=Path('./aclImdb/')\n",
        "\n",
        "def get_texts(path):\n",
        "    texts,labels = [],[]\n",
        "    for idx,label in enumerate(CLASSES):\n",
        "        for fname in (path/label).glob('*.*'):\n",
        "            #texts.append(fixup(fname.open('r', encoding='utf-8').read()))\n",
        "            texts.append(fname.open('r', encoding='utf-8').read())\n",
        "            labels.append(idx)\n",
        "    #return np.array(texts),np.array(labels)\n",
        "    return texts, labels\n",
        "\n",
        "trn_texts,trn_labels = get_texts(PATH/'train')\n",
        "tst_texts,tst_labels = get_texts(PATH/'test')"
      ],
      "execution_count": null,
      "outputs": []
    },
    {
      "cell_type": "code",
      "metadata": {
        "id": "REysuNE7PSkP",
        "colab": {
          "base_uri": "https://localhost:8080/",
          "height": 205
        },
        "outputId": "61712fa4-bbd0-4090-8040-d429de1a5c70"
      },
      "source": [
        "for t in trn_texts[:10]:\n",
        "  print(t)"
      ],
      "execution_count": null,
      "outputs": [
        {
          "output_type": "stream",
          "text": [
            "I remember reading all the horrible, horrible reviews for this film when it came out. I meant to go see how horrible it was but it was out of theaters in three weeks. The only other movie to manage that is Gigli. <br /><br />When the movie came out on DVD, I bought it to see how awful it was. I couldn't think of the sheer horrible attention that this film was getting was possible. After seeing it, I can understand. <br /><br />First off, let me say that this film is not without some cool shots. There's a nice shot at the beginning that shows a bullet being fired from inside the gun, which I thought was neat. And the way the monsters in this movie die is sort of cool to look at; but it gets old after the first time you see it. <br /><br />Let me start with the worst thing in this movie: Tara Reid. If bad acting was a sin, then Hell would've chucked Tara Reid right out since she's so unbelievably awful in this movie it's unthinkable. And of all the roles, she plays a curator. Now if she played a dumb, empty- headed sex toy then maybe I might be able to forgive her for how she treats her character. Apparently, Uwe Boll didn't realize that, although he did seem to think that if she took off her shirt in the movie, people would see it. He just didn't realize that making her do that in the middle of the film at the absolute wrong moment just made the movie even more hilariously bad. And is that a Mexican song or something during the scene of dry humping? I couldn't tell. <br /><br />Which brings me to my next complaint: Uwe Boll shows off some of the worst directing skills you'll ever see in a movie. I mean, I'd give House of the Dead an F (and I only do that for very few movies) but HotD would score at least a B compared to this screwed up piece of junk. The movie starts off with a very, very long narration that causes immediate confusion (and read by a horrible narrator) and from there, the cuts are really, really dumb. There's this one point where Slater and Reid are looking around a building that's been destroyed and the screen blackens out. When it comes back, Slater and Reid are shooting everywhere and suddenly, an entire army has joined them. Huh? <br /><br />And someone did NOT bother checking the mistakes in this movie. At one point, a team breaks through glass, but the glass breaks before they touch it. Tara Reid's earrings switch colors in the middle of one scene and after Slater walks away from a dead comrade, you can see her begin to get up. <br /><br />As for the story... I was really lost. Something about an old tribe releasing darkness and someone \"opens the path\" or something and all the evil monsters pop out. It's just an excuse to have a lot of gun scenes (the technology is so advanced here that no character ever needs to reload in this film) that get, quite simply, BORING. <br /><br />I bought this movie hoping to laugh at how incredibly stupid it was. I didn't laugh, but I still think it's stupid. Very, very, very stupid.\n",
            "I have just lost three hours of my life to this travesty, and I can honestly say I feel violated. I had read the reviews and heard the warnings, and I thought I was prepared for anything - at best I thought, a faithful (if misguided) attempt at an original adaptation; at worst, a so-good-it's-bad \"Plan 9\" for the new millennium. So when I managed to pick up a copy in Walmart while in Florida and brought it back to the UK, I joked to my friends \"Prepare for the worst movie ever made!\" Oh, cruel Karma. There is absolutely NOTHING to recommend this film. The \"special\" effects look like the work of a first year design student using a Spectrum ZX81. The acting is terrible, the accents are WORSE than terrible (one artillery mans' accent seems to take us on a tour of the British Isles, from Scotland to Wales via Northern Ireland), the dialogue is stilted, the editing is non-existent, the production values prove that no expense has been gone to. Words really cannot describe how bad this movie is; from the Union Flag flying from the horribly CGI'd Thunderchild (the Royal Navy flies the White Ensign, NOT the Union flag) to the woodworm ridden acting, this is quite simply a crime against film making. When you consider some of the literally-zero-budget fan films that are available on the 'net (the Star Wars short \"Troops\" for example), the whole \"we're enthusiastic amateurs\" argument goes right out of the window. And if you believe an interview with Hines on the Pendragon website, this film had an 8 figure budget! I can only assume that dodgy facial hair does not come cheap in the US. Maybe the problem is that Hines & co tried to make a film of the book, rather than turn the book into a film (if that makes any sense). Characters and extras spout chunks of text verbatim without trying to convey the feelings behind the words. Ironically enough, the ONLY person who even came close to giving a decent performance was Darlene Sellers, the ex-soft porn actress. My advice? Pray like crazy that Jeff Wayne doesn't screw up, and go watch the Spielberg version. It may not be true to the text of the book, but I can say this; As a lifelong HG Wells fan (and Englishman as well) Speilbergs film IS true to the Spirit of the book. Maybe customs were wrong to let me carry this monster into the country, but I will say this: Timothy Hines stole three hours of my life, and I want them back.\n",
            "This movie should be number one on the bottom 100. The acting is so horrible that when my son and I watched it we nearly got physically ill. And the story is worse. I could go on and on about how bad it is but all I really wanted to do was add a warning to frankbob's review as I see no one else has gone to the trouble of doing so yet. Don't waste your time, money, energy or anything else on this movie. Thank goodness we saw it on TV so we didn't spend anything on it. Had we, I would have been forced to write the people responsible for this abomination and be forced to hurl an execration in their general direction. In conclusion, I would like to say that I have always enjoyed watching Carrie Fisher act. But I am sad to say that she is not worth watching in this particular film. Don't spoil your opinion of Carrie by viewing it.\n",
            "A woman's nightmares fuel her fear of being buried alive.The cheating husband wants her dead and decides to make good use of her phobia by sticking her in a coffin and leaving her in the basement.Of course B-horror movie queen Brinke Stevens transforms into hideous ghostly creature.The only reason to see this amateurish junk flick is Michael Berryman in a really small cameo and two sex scenes with Delia Sheppard.And the last twenty minutes of Brinke's bloody rampage are quite fun to watch.The special effects for example laughable decapitated head are truly awful.Better watch \"Scalps\" or \"Alien Dead\" again.Of course I ain't expecting classy entertainment from Fred Olen Ray,but \"Haunting Fear\" is too dull to be enjoyable.\n",
            "Spend your time any other way, even housework is better than this movie. The jokes aren't funny, the fun rhymes that are Dr. Seus aren't there. A very lousy way to waste an evening. My kids 4-16 laughed a little at the beginning the younger ones got bored with it and left to play Barbies and the older ones left to play ps2 and surf the net. My wife left and did dishes. So I finished it alone. It was the worst \"kids\" movie I have seen. If you want to watch a fun kids movie watch Shrek 2, that movie is fun for kids and their parents. AVOID THIS MOVIE. It isn't funny, isn't cute, the cat's makeup is about the only good thing in it and you can see that on the disc label.\n",
            "This is no doubt one of the worst movies I have ever seen. This makes your run of the mill TV movie look like Reservoir Dogs. Based on a book by the one and only Britney Spears and her mother this is trash with nothing bar a reasonable performance from Virginia Madsen (I hope you got paid well) to save it. The story of a red neck country gill who wins a scholarship in a prestigious music school is little but a vehicle to pedal Ms Spears pants music to the consumer and to generally agree that low brow must be the way. There is nothing good going on here with all the beats as predictable as night following day. Never ever again.\n",
            "What a complete waste of time. The movie starts as a clone of the Saw series, but with even worse acting. Melissa Joan Hart is absolutely horrible. The ending is ridiculous and the story contains no twists, not plot surprises and just a plain bad ending. I liked some of the characters and I was hoping for everything to be tied together at the end. It just doesn't happen. It's a total \"Wrestler\" ending with none of the good acting. I can't believe I spent the time watching this. It's not \"fun\" as some people put it. A guy in a mask kidnaps people who are connected and forces them to figure it out. The connection is a stretch and he should have shot the main actress first.\n",
            "This movie was not made by Who fans. Most of the great moments that fans will look forward to in the half-hour Tommy medley are simply missed or glossed over: In Christmas, they didn't show Daltry's screams after the line \"Tommy doesn't know what day it is...\", they showed almost *no* Townsend guitar shots in Pinball Wizard, there were excess crowd shots during the best moments of Go to the Mirror, and worst of all, in the second half of We're Not Gonna Take It (Listening to You), they robbed us of almost every shot of Pete's blazing guitar chords. Huge chunks of the film are shot from in back of the band. It's a very frustrating film to watch, and doesn't deliver the goods. I don't know if director Murry Lerner is just not a Who fan, or worse, for him at least, if he *is* a Who fan and this is all the *eight* cameras could deliver for him. To its credit, there are some rare numbers before Tommy, as well as some faves, that are very well shot, and sometimes the editing is brilliant. This might be enough to make some viewers happy, as long as you're not anticipating Tommy. The sound overall was mediocre in the transmission I watched from DirecTV; it may be different on video or DVD.\n",
            "People tried to make me believe that the premise of this rubbishy supernatural horror/thriller was inspired by the actual last words spoken by an authentic serial killer (whose name escapes me at the moment). Whilst awaiting his execution in the electric chair, he claimed that his soul would return to life and continue to go on a never-ending murder spree. It's not a highly original idea to revolve a horror film on, by the way. Other low-budget turkeys implemented the exact same basic premise, like \"House 3\", \"Shocker\" and \"Ghost in the Machine\". Anyway, \"The First Power\" (a.k.a \"Pentagram\") isn't a completely terrible effort, but the script overly reverts to clichés and lacks genuine thrills. The film starts off as an okay, albeit mundane serial killer flick in which obsessive cop-hero Lou Diamond Philips pursues a maniac who carves bloody pentagrams into the chests of his victims. He receives unexpected help from a spiritual medium, played by the gorgeous and underrated Tracy Griffith. She leads him to the killer but also begs not to execute him, as that would result in an even bigger catastrophe! Thanks to Tess' helpful hints, Detective Logan quickly captures the killer and celebrates his death penalty, but Patrick Channing made a pact with Satan Himself and returns to the rotten streets of California to do some more killing. \"The First Power\" gets pretty bad once the murderer reincarnates as a vengeful spirit. Instead of using his newly gained satanic powers to wipe out the entire world (that's what I would do in his position), Channing simply prefers to play cat and mouse games with his nemesis the copper. He annoyingly calls him \"Buddy-Boy\" all the time and possesses the bodies of Logan's friends and colleagues in order to trick him. Even though never really boring or poorly realized, it's a very weak film to endure, mostly because you constantly get the feeling of déjà-vu. Writer/director Robert Resnikoff shamelessly uses every dreadful cliché (the killer got sexually abused as a child) and even the players' lines can easily be predicted. As soon as Griffith explains she's able to predict the future, you just know that, somewhere at some point in the film, she's going to say the ridiculously overused line \"I tell people who to live their lives, but my own life is a mess\". Yawn. Lou Diamond Philips' performance is adequate enough, but it's rather difficult to take that youthful rebel of \"La Bamba\" and \"Stand And Deliver\" serious as a tough copper. There also are decent supportive roles for Mykelti Williamson (\"Forrest Gump\"), Carmen Argenziano (\"When a Stranger Calls\") and B-movie horror legend David Gale (\"Re-Animator\") appears in a minuscule cameo at the very beginning of the film.\n",
            "A friend once asked me to read a screenplay of his that had been optioned by a movie studio. To say it was one of the most inept and insipid scripts I'd ever read would be a bold understatement. Yet I never told him this. Why? Because in a world where films like \"While She Was Out\" can be green-lighted and attract an Oscar- winning star like Kim Basinger, a screenplay lacking in character, content and common sense is no guarantee that it won't sell.<br /><br />As so many other reviewers have pointed out, \"While She Was Out\" is a dreadfully under-written Woman-in-Peril film that has abused housewife Basinger hunted by four unlikely hoods on Christmas Eve. Every gripe is legitimate, from the weak dialog and bad acting to the jaw-dropping lapses of logic, but Basinger is such an interesting actress and the premise is not without promise. Here are a couple of things that struck me:<br /><br />1) I don't care how much we are supposed to think her husband is a jerk, the house IS a mess with toys. Since when did it become child abuse to make kids pick up after themselves?<br /><br />2) Racially diverse gangs are rare everywhere except Hollywood, where they are usually the only racially balanced groups on screen.<br /><br />3) Sure the film is stupid. But so are the countless \"thrillers\" I've sat through where the women are portrayed as wailing, helpless victims of male sadism. Stupid or not, I found it refreshing to see a woman getting the best of her tormentors.<br /><br />4) I LOVED the ending! <br /><br />5) Though an earlier reviewer coined this phrase, I really DO think this film should be retitled \"The Red Toolbox of Doom.\"\n"
          ],
          "name": "stdout"
        }
      ]
    },
    {
      "cell_type": "code",
      "metadata": {
        "id": "1qpj-KsaPVIO"
      },
      "source": [
        "def remove_special_chars(text):\n",
        "    re1 = re.compile(r'  +')\n",
        "    x1 = text.lower().replace('#39;', \"'\").replace('amp;', '&').replace('#146;', \"'\").replace(\n",
        "        'nbsp;', ' ').replace('#36;', '$').replace('\\\\n', \"\\n\").replace('quot;', \"'\").replace(\n",
        "        '<br />', \"\\n\").replace('\\\\\"', '\"').replace('<unk>', 'u_n').replace(' @.@ ', '.').replace(\n",
        "        ' @-@ ', '-').replace('\\\\', ' \\\\ ')\n",
        "    return re1.sub(' ', html.unescape(x1))\n",
        "\n",
        "\n",
        "def remove_non_ascii(text):\n",
        "    \"\"\"Remove non-ASCII characters from list of tokenized words\"\"\"\n",
        "    return unicodedata.normalize('NFKD', text).encode('ascii', 'ignore').decode('utf-8', 'ignore')\n",
        "\n",
        "\n",
        "def to_lowercase(text):\n",
        "    return text.lower()\n",
        "\n",
        "\n",
        "\n",
        "def remove_punctuation(text):\n",
        "    \"\"\"Remove punctuation from list of tokenized words\"\"\"\n",
        "    translator = str.maketrans('', '', string.punctuation)\n",
        "    return text.translate(translator)\n",
        "\n",
        "\n",
        "def replace_numbers(text):\n",
        "    \"\"\"Replace all interger occurrences in list of tokenized words with textual representation\"\"\"\n",
        "    return re.sub(r'\\d+', '', text)\n",
        "\n",
        "\n",
        "def remove_whitespaces(text):\n",
        "    return text.strip()\n",
        "\n",
        "\n",
        "def remove_stopwords(words, stop_words):\n",
        "    \"\"\"\n",
        "    :param words:\n",
        "    :type words:\n",
        "    :param stop_words: from sklearn.feature_extraction.stop_words import ENGLISH_STOP_WORDS\n",
        "    or\n",
        "    from spacy.lang.en.stop_words import STOP_WORDS\n",
        "    :type stop_words:\n",
        "    :return:\n",
        "    :rtype:\n",
        "    \"\"\"\n",
        "    return [word for word in words if word not in stop_words]\n",
        "\n",
        "\n",
        "def stem_words(words):\n",
        "    \"\"\"Stem words in text\"\"\"\n",
        "    stemmer = PorterStemmer()\n",
        "    return [stemmer.stem(word) for word in words]\n",
        "\n",
        "def lemmatize_words(words):\n",
        "    \"\"\"Lemmatize words in text\"\"\"\n",
        "\n",
        "    lemmatizer = WordNetLemmatizer()\n",
        "    return [lemmatizer.lemmatize(word) for word in words]\n",
        "\n",
        "def lemmatize_verbs(words):\n",
        "    \"\"\"Lemmatize verbs in text\"\"\"\n",
        "\n",
        "    lemmatizer = WordNetLemmatizer()\n",
        "    return ' '.join([lemmatizer.lemmatize(word, pos='v') for word in words])\n",
        "\n",
        "def text2words(text):\n",
        "  return word_tokenize(text)\n",
        "\n",
        "def normalize_text( text):\n",
        "    text = remove_special_chars(text)\n",
        "    text = remove_non_ascii(text)\n",
        "    text = remove_punctuation(text)\n",
        "    text = to_lowercase(text)\n",
        "    text = replace_numbers(text)\n",
        "    words = text2words(text)\n",
        "    stop_words = stopwords.words('english')\n",
        "    words = remove_stopwords(words, stop_words)\n",
        "    #words = stem_words(words)# Either stem or lemmatize\n",
        "    words = lemmatize_words(words)\n",
        "    words = lemmatize_verbs(words)\n",
        "\n",
        "    return ''.join(words)"
      ],
      "execution_count": null,
      "outputs": []
    },
    {
      "cell_type": "code",
      "metadata": {
        "id": "eMlw-PPgPYrR"
      },
      "source": [
        "def normalize_corpus(corpus):\n",
        "  return [normalize_text(t) for t in corpus]"
      ],
      "execution_count": null,
      "outputs": []
    },
    {
      "cell_type": "code",
      "metadata": {
        "id": "H4DwmQHdPanW"
      },
      "source": [
        "trn_texts = normalize_corpus(trn_texts)\n",
        "tst_texts = normalize_corpus(tst_texts)"
      ],
      "execution_count": null,
      "outputs": []
    },
    {
      "cell_type": "markdown",
      "metadata": {
        "id": "1w-diKsAQCh9"
      },
      "source": [
        "## Excercise\n",
        "\n",
        "We will use keras `Tokenizer` class to extract the binary features as done with the keras imdb dataset using the `vectorize_sequence` function. In addition the binary BoW OHE vector will be obtained with the `Tokenizer.texts_to_matrix`.\n",
        "\n",
        "Use 10000 words of highest frquency for vocab size."
      ]
    },
    {
      "cell_type": "markdown",
      "metadata": {
        "id": "pkL7ssRkQtnM"
      },
      "source": [
        "## Answer"
      ]
    },
    {
      "cell_type": "code",
      "metadata": {
        "id": "oZ1pPCvCQdBm"
      },
      "source": [
        "vocab_sz = 10000\n",
        "tok = Tokenizer(num_words=vocab_sz, oov_token='UNK')\n",
        "tok.fit_on_texts(trn_texts + tst_texts)\n",
        "#vocab_sz = len(tok.word_index)\n",
        "\n",
        "# Extract binary BoW features\n",
        "x_train = tok.texts_to_matrix(trn_texts, mode='binary')\n",
        "x_test = tok.texts_to_matrix(tst_texts, mode='binary')\n",
        "y_train = np.asarray(trn_labels).astype('float32')\n",
        "y_test = np.asarray(tst_labels).astype('float32')"
      ],
      "execution_count": null,
      "outputs": []
    },
    {
      "cell_type": "markdown",
      "metadata": {
        "id": "tKKRrHpWQ3Zr"
      },
      "source": [
        "## The below part is not part of the answer\n",
        "Same model and plotting code can be used as before"
      ]
    },
    {
      "cell_type": "code",
      "metadata": {
        "id": "-lKvVvIdQ2js",
        "colab": {
          "base_uri": "https://localhost:8080/",
          "height": 706
        },
        "outputId": "426c8a15-ea70-4677-fa7f-104422ae49c2"
      },
      "source": [
        "\n",
        "\n",
        "\n",
        "\n",
        "x_train, x_val, y_train, y_val = train_test_split(x_train, y_train, test_size=0.4, random_state=42)\n",
        "\n",
        "model = models.Sequential()\n",
        "model.add(layers.Dense(16, activation='relu', input_shape=(10000,)))\n",
        "model.add(layers.Dense(16, activation='relu'))\n",
        "model.add(layers.Dense(1, activation='sigmoid'))\n",
        "\n",
        "model.compile(optimizer=optimizers.RMSprop(lr=0.001),\n",
        "              loss=losses.binary_crossentropy,\n",
        "              metrics=[metrics.binary_accuracy])\n",
        "\n",
        "history = model.fit(x_train,\n",
        "                    y_train,\n",
        "                    epochs=20,\n",
        "                    batch_size=512,\n",
        "                    validation_data=(x_val, y_val))\n",
        "history_dict = history.history\n",
        "history_dict.keys()"
      ],
      "execution_count": null,
      "outputs": [
        {
          "output_type": "stream",
          "text": [
            "Epoch 1/20\n",
            "30/30 [==============================] - 1s 26ms/step - loss: 0.5159 - binary_accuracy: 0.8089 - val_loss: 0.4067 - val_binary_accuracy: 0.8672\n",
            "Epoch 2/20\n",
            "30/30 [==============================] - 1s 23ms/step - loss: 0.3189 - binary_accuracy: 0.9021 - val_loss: 0.3275 - val_binary_accuracy: 0.8793\n",
            "Epoch 3/20\n",
            "30/30 [==============================] - 1s 27ms/step - loss: 0.2356 - binary_accuracy: 0.9256 - val_loss: 0.3253 - val_binary_accuracy: 0.8683\n",
            "Epoch 4/20\n",
            "30/30 [==============================] - 1s 25ms/step - loss: 0.1851 - binary_accuracy: 0.9410 - val_loss: 0.3002 - val_binary_accuracy: 0.8815\n",
            "Epoch 5/20\n",
            "30/30 [==============================] - 1s 25ms/step - loss: 0.1506 - binary_accuracy: 0.9529 - val_loss: 0.3085 - val_binary_accuracy: 0.8805\n",
            "Epoch 6/20\n",
            "30/30 [==============================] - 1s 25ms/step - loss: 0.1255 - binary_accuracy: 0.9614 - val_loss: 0.3276 - val_binary_accuracy: 0.8787\n",
            "Epoch 7/20\n",
            "30/30 [==============================] - 1s 25ms/step - loss: 0.1041 - binary_accuracy: 0.9693 - val_loss: 0.3501 - val_binary_accuracy: 0.8742\n",
            "Epoch 8/20\n",
            "30/30 [==============================] - 1s 24ms/step - loss: 0.0868 - binary_accuracy: 0.9751 - val_loss: 0.3739 - val_binary_accuracy: 0.8712\n",
            "Epoch 9/20\n",
            "30/30 [==============================] - 1s 25ms/step - loss: 0.0724 - binary_accuracy: 0.9802 - val_loss: 0.4174 - val_binary_accuracy: 0.8650\n",
            "Epoch 10/20\n",
            "30/30 [==============================] - 1s 25ms/step - loss: 0.0610 - binary_accuracy: 0.9833 - val_loss: 0.4343 - val_binary_accuracy: 0.8678\n",
            "Epoch 11/20\n",
            "30/30 [==============================] - 1s 31ms/step - loss: 0.0488 - binary_accuracy: 0.9880 - val_loss: 0.4667 - val_binary_accuracy: 0.8633\n",
            "Epoch 12/20\n",
            "30/30 [==============================] - 1s 32ms/step - loss: 0.0416 - binary_accuracy: 0.9905 - val_loss: 0.5048 - val_binary_accuracy: 0.8619\n",
            "Epoch 13/20\n",
            "30/30 [==============================] - 1s 24ms/step - loss: 0.0331 - binary_accuracy: 0.9930 - val_loss: 0.5454 - val_binary_accuracy: 0.8590\n",
            "Epoch 14/20\n",
            "30/30 [==============================] - 1s 25ms/step - loss: 0.0266 - binary_accuracy: 0.9947 - val_loss: 0.5985 - val_binary_accuracy: 0.8568\n",
            "Epoch 15/20\n",
            "30/30 [==============================] - 1s 25ms/step - loss: 0.0211 - binary_accuracy: 0.9963 - val_loss: 0.6292 - val_binary_accuracy: 0.8579\n",
            "Epoch 16/20\n",
            "30/30 [==============================] - 1s 25ms/step - loss: 0.0158 - binary_accuracy: 0.9974 - val_loss: 0.6819 - val_binary_accuracy: 0.8563\n",
            "Epoch 17/20\n",
            "30/30 [==============================] - 1s 25ms/step - loss: 0.0127 - binary_accuracy: 0.9977 - val_loss: 0.7424 - val_binary_accuracy: 0.8540\n",
            "Epoch 18/20\n",
            "30/30 [==============================] - 1s 25ms/step - loss: 0.0092 - binary_accuracy: 0.9985 - val_loss: 0.8404 - val_binary_accuracy: 0.8498\n",
            "Epoch 19/20\n",
            "30/30 [==============================] - 1s 25ms/step - loss: 0.0068 - binary_accuracy: 0.9990 - val_loss: 0.8402 - val_binary_accuracy: 0.8499\n",
            "Epoch 20/20\n",
            "30/30 [==============================] - 1s 25ms/step - loss: 0.0059 - binary_accuracy: 0.9992 - val_loss: 0.8876 - val_binary_accuracy: 0.8496\n"
          ],
          "name": "stdout"
        },
        {
          "output_type": "execute_result",
          "data": {
            "text/plain": [
              "dict_keys(['loss', 'binary_accuracy', 'val_loss', 'val_binary_accuracy'])"
            ]
          },
          "metadata": {
            "tags": []
          },
          "execution_count": 29
        }
      ]
    },
    {
      "cell_type": "code",
      "metadata": {
        "id": "wvWi_ncORAz8",
        "colab": {
          "base_uri": "https://localhost:8080/",
          "height": 295
        },
        "outputId": "3aa0a57b-9a67-47d8-9d30-ae1e1c1f8174"
      },
      "source": [
        "\n",
        "acc = history.history['binary_accuracy']\n",
        "val_acc = history.history['val_binary_accuracy']\n",
        "loss = history.history['loss']\n",
        "val_loss = history.history['val_loss']\n",
        "\n",
        "epochs = range(1, len(acc) + 1)\n",
        "\n",
        "# \"bo\" is for \"blue dot\"\n",
        "plt.plot(epochs, loss, 'bo', label='Training loss')\n",
        "# b is for \"solid blue line\"\n",
        "plt.plot(epochs, val_loss, 'b', label='Validation loss')\n",
        "plt.title('Training and validation loss')\n",
        "plt.xlabel('Epochs')\n",
        "plt.ylabel('Loss')\n",
        "plt.legend()\n",
        "\n",
        "plt.show()"
      ],
      "execution_count": null,
      "outputs": [
        {
          "output_type": "display_data",
          "data": {
            "image/png": "[encoded data removed]",
            "text/plain": [
              "<Figure size 432x288 with 1 Axes>"
            ]
          },
          "metadata": {
            "tags": [],
            "needs_background": "light"
          }
        }
      ]
    },
    {
      "cell_type": "code",
      "metadata": {
        "id": "Vcf3itXVRCmv",
        "colab": {
          "base_uri": "https://localhost:8080/",
          "height": 295
        },
        "outputId": "12c91c2a-2ecb-447d-d0c5-42306c41c21a"
      },
      "source": [
        "\n",
        "plt.clf()   # clear figure\n",
        "acc_values = history_dict['binary_accuracy']\n",
        "val_acc_values = history_dict['val_binary_accuracy']\n",
        "\n",
        "plt.plot(epochs, acc, 'bo', label='Training acc')\n",
        "plt.plot(epochs, val_acc, 'b', label='Validation acc')\n",
        "plt.title('Training and validation accuracy')\n",
        "plt.xlabel('Epochs')\n",
        "plt.ylabel('Loss')\n",
        "plt.legend()\n",
        "\n",
        "plt.show()"
      ],
      "execution_count": null,
      "outputs": [
        {
          "output_type": "display_data",
          "data": {
            "image/png": "[encoded data removed]",
            "text/plain": [
              "<Figure size 432x288 with 1 Axes>"
            ]
          },
          "metadata": {
            "tags": [],
            "needs_background": "light"
          }
        }
      ]
    },
    {
      "cell_type": "markdown",
      "metadata": {
        "id": "Lei1pzjcREwX"
      },
      "source": [
        "## Excercise\n",
        "\n",
        "Repeat for Count features"
      ]
    },
    {
      "cell_type": "markdown",
      "metadata": {
        "id": "JSLIDsATRUyp"
      },
      "source": [
        "## Answer"
      ]
    },
    {
      "cell_type": "code",
      "metadata": {
        "id": "sP6niK0jRV9f"
      },
      "source": [
        "vocab_sz = 10000\n",
        "tok = Tokenizer(num_words=vocab_sz, oov_token='UNK')\n",
        "tok.fit_on_texts(trn_texts + tst_texts)\n",
        "#vocab_sz = len(tok.word_index)\n",
        "\n",
        "# Extract binary BoW features\n",
        "x_train = tok.texts_to_matrix(trn_texts, mode='count')\n",
        "x_test = tok.texts_to_matrix(tst_texts, mode='count')\n",
        "y_train = np.asarray(trn_labels).astype('float32')\n",
        "y_test = np.asarray(tst_labels).astype('float32')"
      ],
      "execution_count": null,
      "outputs": []
    },
    {
      "cell_type": "markdown",
      "metadata": {
        "id": "1bJ-w3ZrRkL6"
      },
      "source": [
        "## The below part is not part of the answer\n",
        "Same model and plotting code can be used as before"
      ]
    },
    {
      "cell_type": "code",
      "metadata": {
        "id": "s8lPquwSRcM_",
        "colab": {
          "base_uri": "https://localhost:8080/",
          "height": 1000
        },
        "outputId": "b0efd869-10f3-4cc2-bec2-bdc5ba942faa"
      },
      "source": [
        "\n",
        "\n",
        "\n",
        "\n",
        "x_train, x_val, y_train, y_val = train_test_split(x_train, y_train, test_size=0.4, random_state=42)\n",
        "\n",
        "model = models.Sequential()\n",
        "model.add(layers.Dense(16, activation='relu', input_shape=(10000,)))\n",
        "model.add(layers.Dense(16, activation='relu'))\n",
        "model.add(layers.Dense(1, activation='sigmoid'))\n",
        "\n",
        "model.compile(optimizer=optimizers.RMSprop(lr=0.001),\n",
        "              loss=losses.binary_crossentropy,\n",
        "              metrics=[metrics.binary_accuracy])\n",
        "\n",
        "history = model.fit(x_train,\n",
        "                    y_train,\n",
        "                    epochs=20,\n",
        "                    batch_size=512,\n",
        "                    validation_data=(x_val, y_val))\n",
        "history_dict = history.history\n",
        "history_dict.keys()\n",
        "\n",
        "\n",
        "acc = history.history['binary_accuracy']\n",
        "val_acc = history.history['val_binary_accuracy']\n",
        "loss = history.history['loss']\n",
        "val_loss = history.history['val_loss']\n",
        "\n",
        "epochs = range(1, len(acc) + 1)\n",
        "\n",
        "# \"bo\" is for \"blue dot\"\n",
        "plt.plot(epochs, loss, 'bo', label='Training loss')\n",
        "# b is for \"solid blue line\"\n",
        "plt.plot(epochs, val_loss, 'b', label='Validation loss')\n",
        "plt.title('Training and validation loss')\n",
        "plt.xlabel('Epochs')\n",
        "plt.ylabel('Loss')\n",
        "plt.legend()\n",
        "\n",
        "plt.show()\n",
        "\n",
        "plt.clf()   # clear figure\n",
        "acc_values = history_dict['binary_accuracy']\n",
        "val_acc_values = history_dict['val_binary_accuracy']\n",
        "\n",
        "plt.plot(epochs, acc, 'bo', label='Training acc')\n",
        "plt.plot(epochs, val_acc, 'b', label='Validation acc')\n",
        "plt.title('Training and validation accuracy')\n",
        "plt.xlabel('Epochs')\n",
        "plt.ylabel('Loss')\n",
        "plt.legend()\n",
        "\n",
        "plt.show()"
      ],
      "execution_count": null,
      "outputs": [
        {
          "output_type": "stream",
          "text": [
            "Epoch 1/20\n",
            "30/30 [==============================] - 1s 32ms/step - loss: 0.5316 - binary_accuracy: 0.7857 - val_loss: 0.4165 - val_binary_accuracy: 0.8671\n",
            "Epoch 2/20\n",
            "30/30 [==============================] - 1s 28ms/step - loss: 0.3279 - binary_accuracy: 0.9020 - val_loss: 0.3334 - val_binary_accuracy: 0.8769\n",
            "Epoch 3/20\n",
            "30/30 [==============================] - 1s 28ms/step - loss: 0.2368 - binary_accuracy: 0.9247 - val_loss: 0.3091 - val_binary_accuracy: 0.8810\n",
            "Epoch 4/20\n",
            "30/30 [==============================] - 1s 28ms/step - loss: 0.1858 - binary_accuracy: 0.9409 - val_loss: 0.3159 - val_binary_accuracy: 0.8787\n",
            "Epoch 5/20\n",
            "30/30 [==============================] - 1s 28ms/step - loss: 0.1533 - binary_accuracy: 0.9525 - val_loss: 0.3233 - val_binary_accuracy: 0.8807\n",
            "Epoch 6/20\n",
            "30/30 [==============================] - 1s 25ms/step - loss: 0.1255 - binary_accuracy: 0.9625 - val_loss: 0.3391 - val_binary_accuracy: 0.8780\n",
            "Epoch 7/20\n",
            "30/30 [==============================] - 1s 24ms/step - loss: 0.1059 - binary_accuracy: 0.9681 - val_loss: 0.3759 - val_binary_accuracy: 0.8761\n",
            "Epoch 8/20\n",
            "30/30 [==============================] - 1s 25ms/step - loss: 0.0869 - binary_accuracy: 0.9759 - val_loss: 0.3979 - val_binary_accuracy: 0.8681\n",
            "Epoch 9/20\n",
            "30/30 [==============================] - 1s 24ms/step - loss: 0.0723 - binary_accuracy: 0.9811 - val_loss: 0.4239 - val_binary_accuracy: 0.8719\n",
            "Epoch 10/20\n",
            "30/30 [==============================] - 1s 30ms/step - loss: 0.0609 - binary_accuracy: 0.9851 - val_loss: 0.4540 - val_binary_accuracy: 0.8690\n",
            "Epoch 11/20\n",
            "30/30 [==============================] - 1s 25ms/step - loss: 0.0493 - binary_accuracy: 0.9885 - val_loss: 0.4961 - val_binary_accuracy: 0.8686\n",
            "Epoch 12/20\n",
            "30/30 [==============================] - 1s 24ms/step - loss: 0.0391 - binary_accuracy: 0.9921 - val_loss: 0.5342 - val_binary_accuracy: 0.8635\n",
            "Epoch 13/20\n",
            "30/30 [==============================] - 1s 24ms/step - loss: 0.0348 - binary_accuracy: 0.9925 - val_loss: 0.5747 - val_binary_accuracy: 0.8649\n",
            "Epoch 14/20\n",
            "30/30 [==============================] - 1s 24ms/step - loss: 0.0258 - binary_accuracy: 0.9956 - val_loss: 0.6090 - val_binary_accuracy: 0.8605\n",
            "Epoch 15/20\n",
            "30/30 [==============================] - 1s 24ms/step - loss: 0.0231 - binary_accuracy: 0.9957 - val_loss: 0.6639 - val_binary_accuracy: 0.8603\n",
            "Epoch 16/20\n",
            "30/30 [==============================] - 1s 24ms/step - loss: 0.0169 - binary_accuracy: 0.9972 - val_loss: 0.7072 - val_binary_accuracy: 0.8588\n",
            "Epoch 17/20\n",
            "30/30 [==============================] - 1s 24ms/step - loss: 0.0144 - binary_accuracy: 0.9977 - val_loss: 0.7626 - val_binary_accuracy: 0.8593\n",
            "Epoch 18/20\n",
            "30/30 [==============================] - 1s 25ms/step - loss: 0.0100 - binary_accuracy: 0.9984 - val_loss: 0.8204 - val_binary_accuracy: 0.8577\n",
            "Epoch 19/20\n",
            "30/30 [==============================] - 1s 25ms/step - loss: 0.0090 - binary_accuracy: 0.9983 - val_loss: 0.8856 - val_binary_accuracy: 0.8547\n",
            "Epoch 20/20\n",
            "30/30 [==============================] - 1s 25ms/step - loss: 0.0069 - binary_accuracy: 0.9988 - val_loss: 0.9383 - val_binary_accuracy: 0.8540\n"
          ],
          "name": "stdout"
        },
        {
          "output_type": "display_data",
          "data": {
            "image/png": "[encoded data removed]",
            "text/plain": [
              "<Figure size 432x288 with 1 Axes>"
            ]
          },
          "metadata": {
            "tags": [],
            "needs_background": "light"
          }
        },
        {
          "output_type": "display_data",
          "data": {
            "image/png": "[encoded data removed]",
            "text/plain": [
              "<Figure size 432x288 with 1 Axes>"
            ]
          },
          "metadata": {
            "tags": [],
            "needs_background": "light"
          }
        }
      ]
    },
    {
      "cell_type": "markdown",
      "metadata": {
        "id": "5uhWvJUYRsc2"
      },
      "source": [
        "## Excercise\n",
        "\n",
        "Repeat for freq features"
      ]
    },
    {
      "cell_type": "markdown",
      "metadata": {
        "id": "fAQ9aWIIRsc3"
      },
      "source": [
        "## Answer"
      ]
    },
    {
      "cell_type": "code",
      "metadata": {
        "id": "irZtqMxuRsc4"
      },
      "source": [
        "vocab_sz = 10000\n",
        "tok = Tokenizer(num_words=vocab_sz, oov_token='UNK')\n",
        "tok.fit_on_texts(trn_texts + tst_texts)\n",
        "#vocab_sz = len(tok.word_index)\n",
        "\n",
        "# Extract binary BoW features\n",
        "x_train = tok.texts_to_matrix(trn_texts, mode='freq')\n",
        "x_test = tok.texts_to_matrix(tst_texts, mode='freq')\n",
        "y_train = np.asarray(trn_labels).astype('float32')\n",
        "y_test = np.asarray(tst_labels).astype('float32')"
      ],
      "execution_count": null,
      "outputs": []
    },
    {
      "cell_type": "markdown",
      "metadata": {
        "id": "6j45cbosRsc6"
      },
      "source": [
        "## The below part is not part of the answer\n",
        "Same model and plotting code can be used as before"
      ]
    },
    {
      "cell_type": "code",
      "metadata": {
        "id": "YKJ3XitwRsc7",
        "colab": {
          "base_uri": "https://localhost:8080/",
          "height": 1000
        },
        "outputId": "1d9f9550-e306-4227-ace4-e1563cc5e4c3"
      },
      "source": [
        "\n",
        "\n",
        "\n",
        "\n",
        "x_train, x_val, y_train, y_val = train_test_split(x_train, y_train, test_size=0.4, random_state=42)\n",
        "\n",
        "model = models.Sequential()\n",
        "model.add(layers.Dense(16, activation='relu', input_shape=(10000,)))\n",
        "model.add(layers.Dense(16, activation='relu'))\n",
        "model.add(layers.Dense(1, activation='sigmoid'))\n",
        "\n",
        "model.compile(optimizer=optimizers.RMSprop(lr=0.001),\n",
        "              loss=losses.binary_crossentropy,\n",
        "              metrics=[metrics.binary_accuracy])\n",
        "\n",
        "history = model.fit(x_train,\n",
        "                    y_train,\n",
        "                    epochs=20,\n",
        "                    batch_size=512,\n",
        "                    validation_data=(x_val, y_val))\n",
        "history_dict = history.history\n",
        "history_dict.keys()\n",
        "\n",
        "\n",
        "acc = history.history['binary_accuracy']\n",
        "val_acc = history.history['val_binary_accuracy']\n",
        "loss = history.history['loss']\n",
        "val_loss = history.history['val_loss']\n",
        "\n",
        "epochs = range(1, len(acc) + 1)\n",
        "\n",
        "# \"bo\" is for \"blue dot\"\n",
        "plt.plot(epochs, loss, 'bo', label='Training loss')\n",
        "# b is for \"solid blue line\"\n",
        "plt.plot(epochs, val_loss, 'b', label='Validation loss')\n",
        "plt.title('Training and validation loss')\n",
        "plt.xlabel('Epochs')\n",
        "plt.ylabel('Loss')\n",
        "plt.legend()\n",
        "\n",
        "plt.show()\n",
        "\n",
        "plt.clf()   # clear figure\n",
        "acc_values = history_dict['binary_accuracy']\n",
        "val_acc_values = history_dict['val_binary_accuracy']\n",
        "\n",
        "plt.plot(epochs, acc, 'bo', label='Training acc')\n",
        "plt.plot(epochs, val_acc, 'b', label='Validation acc')\n",
        "plt.title('Training and validation accuracy')\n",
        "plt.xlabel('Epochs')\n",
        "plt.ylabel('Loss')\n",
        "plt.legend()\n",
        "\n",
        "plt.show()"
      ],
      "execution_count": null,
      "outputs": [
        {
          "output_type": "stream",
          "text": [
            "Epoch 1/20\n",
            "30/30 [==============================] - 1s 27ms/step - loss: 0.6893 - binary_accuracy: 0.5926 - val_loss: 0.6846 - val_binary_accuracy: 0.7849\n",
            "Epoch 2/20\n",
            "30/30 [==============================] - 1s 24ms/step - loss: 0.6758 - binary_accuracy: 0.7874 - val_loss: 0.6676 - val_binary_accuracy: 0.8203\n",
            "Epoch 3/20\n",
            "30/30 [==============================] - 1s 24ms/step - loss: 0.6540 - binary_accuracy: 0.8299 - val_loss: 0.6448 - val_binary_accuracy: 0.8195\n",
            "Epoch 4/20\n",
            "30/30 [==============================] - 1s 24ms/step - loss: 0.6255 - binary_accuracy: 0.8470 - val_loss: 0.6160 - val_binary_accuracy: 0.8267\n",
            "Epoch 5/20\n",
            "30/30 [==============================] - 1s 24ms/step - loss: 0.5913 - binary_accuracy: 0.8561 - val_loss: 0.5835 - val_binary_accuracy: 0.8296\n",
            "Epoch 6/20\n",
            "30/30 [==============================] - 1s 24ms/step - loss: 0.5530 - binary_accuracy: 0.8614 - val_loss: 0.5473 - val_binary_accuracy: 0.8389\n",
            "Epoch 7/20\n",
            "30/30 [==============================] - 1s 24ms/step - loss: 0.5108 - binary_accuracy: 0.8686 - val_loss: 0.5098 - val_binary_accuracy: 0.8449\n",
            "Epoch 8/20\n",
            "30/30 [==============================] - 1s 24ms/step - loss: 0.4699 - binary_accuracy: 0.8741 - val_loss: 0.4741 - val_binary_accuracy: 0.8498\n",
            "Epoch 9/20\n",
            "30/30 [==============================] - 1s 24ms/step - loss: 0.4302 - binary_accuracy: 0.8809 - val_loss: 0.4407 - val_binary_accuracy: 0.8543\n",
            "Epoch 10/20\n",
            "30/30 [==============================] - 1s 30ms/step - loss: 0.3929 - binary_accuracy: 0.8865 - val_loss: 0.4130 - val_binary_accuracy: 0.8570\n",
            "Epoch 11/20\n",
            "30/30 [==============================] - 1s 24ms/step - loss: 0.3589 - binary_accuracy: 0.8907 - val_loss: 0.3873 - val_binary_accuracy: 0.8571\n",
            "Epoch 12/20\n",
            "30/30 [==============================] - 1s 24ms/step - loss: 0.3292 - binary_accuracy: 0.8957 - val_loss: 0.3642 - val_binary_accuracy: 0.8653\n",
            "Epoch 13/20\n",
            "30/30 [==============================] - 1s 24ms/step - loss: 0.3049 - binary_accuracy: 0.9011 - val_loss: 0.3462 - val_binary_accuracy: 0.8698\n",
            "Epoch 14/20\n",
            "30/30 [==============================] - 1s 24ms/step - loss: 0.2832 - binary_accuracy: 0.9058 - val_loss: 0.3353 - val_binary_accuracy: 0.8687\n",
            "Epoch 15/20\n",
            "30/30 [==============================] - 1s 24ms/step - loss: 0.2645 - binary_accuracy: 0.9097 - val_loss: 0.3209 - val_binary_accuracy: 0.8737\n",
            "Epoch 16/20\n",
            "30/30 [==============================] - 1s 24ms/step - loss: 0.2471 - binary_accuracy: 0.9135 - val_loss: 0.3120 - val_binary_accuracy: 0.8752\n",
            "Epoch 17/20\n",
            "30/30 [==============================] - 1s 24ms/step - loss: 0.2353 - binary_accuracy: 0.9164 - val_loss: 0.3118 - val_binary_accuracy: 0.8724\n",
            "Epoch 18/20\n",
            "30/30 [==============================] - 1s 24ms/step - loss: 0.2211 - binary_accuracy: 0.9208 - val_loss: 0.3021 - val_binary_accuracy: 0.8769\n",
            "Epoch 19/20\n",
            "30/30 [==============================] - 1s 28ms/step - loss: 0.2112 - binary_accuracy: 0.9241 - val_loss: 0.2970 - val_binary_accuracy: 0.8771\n",
            "Epoch 20/20\n",
            "30/30 [==============================] - 1s 30ms/step - loss: 0.2018 - binary_accuracy: 0.9277 - val_loss: 0.2966 - val_binary_accuracy: 0.8789\n"
          ],
          "name": "stdout"
        },
        {
          "output_type": "display_data",
          "data": {
            "image/png": "[encoded data removed]",
            "text/plain": [
              "<Figure size 432x288 with 1 Axes>"
            ]
          },
          "metadata": {
            "tags": [],
            "needs_background": "light"
          }
        },
        {
          "output_type": "display_data",
          "data": {
            "image/png": "[encoded data removed]",
            "text/plain": [
              "<Figure size 432x288 with 1 Axes>"
            ]
          },
          "metadata": {
            "tags": [],
            "needs_background": "light"
          }
        }
      ]
    },
    {
      "cell_type": "markdown",
      "metadata": {
        "id": "RbJeA8u6RyJx"
      },
      "source": [
        "## Excercise\n",
        "\n",
        "Repeat for TF-IDF features"
      ]
    },
    {
      "cell_type": "markdown",
      "metadata": {
        "id": "ZfbW9eGDRyJy"
      },
      "source": [
        "## Answer"
      ]
    },
    {
      "cell_type": "code",
      "metadata": {
        "id": "KfhfKe2JRyJz"
      },
      "source": [
        "vocab_sz = 10000\n",
        "tok = Tokenizer(num_words=vocab_sz, oov_token='UNK')\n",
        "tok.fit_on_texts(trn_texts + tst_texts)\n",
        "#vocab_sz = len(tok.word_index)\n",
        "\n",
        "# Extract binary BoW features\n",
        "x_train = tok.texts_to_matrix(trn_texts, mode='tfidf')\n",
        "x_test = tok.texts_to_matrix(tst_texts, mode='tfidf')\n",
        "y_train = np.asarray(trn_labels).astype('float32')\n",
        "y_test = np.asarray(tst_labels).astype('float32')"
      ],
      "execution_count": null,
      "outputs": []
    },
    {
      "cell_type": "markdown",
      "metadata": {
        "id": "eE52uh6MRyJ1"
      },
      "source": [
        "## The below part is not part of the answer\n",
        "Same model and plotting code can be used as before"
      ]
    },
    {
      "cell_type": "code",
      "metadata": {
        "id": "hMkG67hjRyJ2",
        "colab": {
          "base_uri": "https://localhost:8080/",
          "height": 1000
        },
        "outputId": "137794dc-b61f-4bf9-e1ce-6005554a6fc6"
      },
      "source": [
        "\n",
        "\n",
        "\n",
        "\n",
        "x_train, x_val, y_train, y_val = train_test_split(x_train, y_train, test_size=0.4, random_state=42)\n",
        "\n",
        "model = models.Sequential()\n",
        "model.add(layers.Dense(16, activation='relu', input_shape=(10000,)))\n",
        "model.add(layers.Dense(16, activation='relu'))\n",
        "model.add(layers.Dense(1, activation='sigmoid'))\n",
        "\n",
        "model.compile(optimizer=optimizers.RMSprop(lr=0.001),\n",
        "              loss=losses.binary_crossentropy,\n",
        "              metrics=[metrics.binary_accuracy])\n",
        "\n",
        "history = model.fit(x_train,\n",
        "                    y_train,\n",
        "                    epochs=20,\n",
        "                    batch_size=512,\n",
        "                    validation_data=(x_val, y_val))\n",
        "history_dict = history.history\n",
        "history_dict.keys()\n",
        "\n",
        "\n",
        "acc = history.history['binary_accuracy']\n",
        "val_acc = history.history['val_binary_accuracy']\n",
        "loss = history.history['loss']\n",
        "val_loss = history.history['val_loss']\n",
        "\n",
        "epochs = range(1, len(acc) + 1)\n",
        "\n",
        "# \"bo\" is for \"blue dot\"\n",
        "plt.plot(epochs, loss, 'bo', label='Training loss')\n",
        "# b is for \"solid blue line\"\n",
        "plt.plot(epochs, val_loss, 'b', label='Validation loss')\n",
        "plt.title('Training and validation loss')\n",
        "plt.xlabel('Epochs')\n",
        "plt.ylabel('Loss')\n",
        "plt.legend()\n",
        "\n",
        "plt.show()\n",
        "\n",
        "plt.clf()   # clear figure\n",
        "acc_values = history_dict['binary_accuracy']\n",
        "val_acc_values = history_dict['val_binary_accuracy']\n",
        "\n",
        "plt.plot(epochs, acc, 'bo', label='Training acc')\n",
        "plt.plot(epochs, val_acc, 'b', label='Validation acc')\n",
        "plt.title('Training and validation accuracy')\n",
        "plt.xlabel('Epochs')\n",
        "plt.ylabel('Loss')\n",
        "plt.legend()\n",
        "\n",
        "plt.show()"
      ],
      "execution_count": null,
      "outputs": [
        {
          "output_type": "stream",
          "text": [
            "Epoch 1/20\n",
            "30/30 [==============================] - 1s 26ms/step - loss: 0.4701 - binary_accuracy: 0.7903 - val_loss: 0.3477 - val_binary_accuracy: 0.8650\n",
            "Epoch 2/20\n",
            "30/30 [==============================] - 1s 25ms/step - loss: 0.2194 - binary_accuracy: 0.9255 - val_loss: 0.3169 - val_binary_accuracy: 0.8767\n",
            "Epoch 3/20\n",
            "30/30 [==============================] - 1s 25ms/step - loss: 0.1334 - binary_accuracy: 0.9596 - val_loss: 0.3382 - val_binary_accuracy: 0.8773\n",
            "Epoch 4/20\n",
            "30/30 [==============================] - 1s 26ms/step - loss: 0.0907 - binary_accuracy: 0.9747 - val_loss: 0.3840 - val_binary_accuracy: 0.8730\n",
            "Epoch 5/20\n",
            "30/30 [==============================] - 1s 26ms/step - loss: 0.0560 - binary_accuracy: 0.9863 - val_loss: 0.4321 - val_binary_accuracy: 0.8676\n",
            "Epoch 6/20\n",
            "30/30 [==============================] - 1s 26ms/step - loss: 0.0406 - binary_accuracy: 0.9903 - val_loss: 0.4997 - val_binary_accuracy: 0.8660\n",
            "Epoch 7/20\n",
            "30/30 [==============================] - 1s 26ms/step - loss: 0.0225 - binary_accuracy: 0.9963 - val_loss: 0.5612 - val_binary_accuracy: 0.8651\n",
            "Epoch 8/20\n",
            "30/30 [==============================] - 1s 25ms/step - loss: 0.0179 - binary_accuracy: 0.9963 - val_loss: 0.6381 - val_binary_accuracy: 0.8623\n",
            "Epoch 9/20\n",
            "30/30 [==============================] - 1s 27ms/step - loss: 0.0091 - binary_accuracy: 0.9983 - val_loss: 0.7290 - val_binary_accuracy: 0.8600\n",
            "Epoch 10/20\n",
            "30/30 [==============================] - 1s 26ms/step - loss: 0.0053 - binary_accuracy: 0.9991 - val_loss: 0.9076 - val_binary_accuracy: 0.8552\n",
            "Epoch 11/20\n",
            "30/30 [==============================] - 1s 25ms/step - loss: 0.0058 - binary_accuracy: 0.9987 - val_loss: 0.8990 - val_binary_accuracy: 0.8577\n",
            "Epoch 12/20\n",
            "30/30 [==============================] - 1s 26ms/step - loss: 0.0019 - binary_accuracy: 0.9999 - val_loss: 0.9582 - val_binary_accuracy: 0.8573\n",
            "Epoch 13/20\n",
            "30/30 [==============================] - 1s 25ms/step - loss: 0.0012 - binary_accuracy: 0.9999 - val_loss: 1.0660 - val_binary_accuracy: 0.8537\n",
            "Epoch 14/20\n",
            "30/30 [==============================] - 1s 25ms/step - loss: 0.0018 - binary_accuracy: 0.9997 - val_loss: 1.1858 - val_binary_accuracy: 0.8518\n",
            "Epoch 15/20\n",
            "30/30 [==============================] - 1s 25ms/step - loss: 3.8674e-04 - binary_accuracy: 1.0000 - val_loss: 1.2580 - val_binary_accuracy: 0.8503\n",
            "Epoch 16/20\n",
            "30/30 [==============================] - 1s 25ms/step - loss: 2.4569e-04 - binary_accuracy: 1.0000 - val_loss: 1.3350 - val_binary_accuracy: 0.8515\n",
            "Epoch 17/20\n",
            "30/30 [==============================] - 1s 25ms/step - loss: 1.5954e-04 - binary_accuracy: 1.0000 - val_loss: 1.4585 - val_binary_accuracy: 0.8507\n",
            "Epoch 18/20\n",
            "30/30 [==============================] - 1s 26ms/step - loss: 9.2961e-05 - binary_accuracy: 1.0000 - val_loss: 1.6199 - val_binary_accuracy: 0.8477\n",
            "Epoch 19/20\n",
            "30/30 [==============================] - 1s 25ms/step - loss: 7.6294e-05 - binary_accuracy: 1.0000 - val_loss: 1.6774 - val_binary_accuracy: 0.8467\n",
            "Epoch 20/20\n",
            "30/30 [==============================] - 1s 25ms/step - loss: 3.2433e-05 - binary_accuracy: 1.0000 - val_loss: 1.7533 - val_binary_accuracy: 0.8468\n"
          ],
          "name": "stdout"
        },
        {
          "output_type": "display_data",
          "data": {
            "image/png": "[encoded data removed]",
            "text/plain": [
              "<Figure size 432x288 with 1 Axes>"
            ]
          },
          "metadata": {
            "tags": [],
            "needs_background": "light"
          }
        },
        {
          "output_type": "display_data",
          "data": {
            "image/png": "[encoded data removed]",
            "text/plain": [
              "<Figure size 432x288 with 1 Axes>"
            ]
          },
          "metadata": {
            "tags": [],
            "needs_background": "light"
          }
        }
      ]
    },
    {
      "cell_type": "markdown",
      "metadata": {
        "id": "-ejR-wQvSZk2"
      },
      "source": [
        "# Lesson 2: Introduction to functional models"
      ]
    },
    {
      "cell_type": "markdown",
      "metadata": {
        "id": "WmAlwA0OSbO_"
      },
      "source": [
        "## Learning Objectives\n",
        "- Learner will be able to build a multi-input, multi-output models with Keras\n",
        "- Learner will be able to build a sentiment classification model for imdb dataset using Functional models"
      ]
    },
    {
      "cell_type": "markdown",
      "metadata": {
        "id": "zpykamLjSsBL"
      },
      "source": [
        "## Excercise\n",
        "\n",
        "Use keras `Model` API to build the following graph:\n"
      ]
    },
    {
      "cell_type": "code",
      "metadata": {
        "id": "SsQjc-QQXbPk",
        "colab": {
          "base_uri": "https://localhost:8080/",
          "height": 564
        },
        "outputId": "975ed740-1915-4ae1-dd0c-e29aca846374"
      },
      "source": [
        "plot_model(model)\n"
      ],
      "execution_count": null,
      "outputs": [
        {
          "output_type": "execute_result",
          "data": {
            "image/png": "[encoded data removed]",
            "text/plain": [
              "<IPython.core.display.Image object>"
            ]
          },
          "metadata": {
            "tags": []
          },
          "execution_count": 43
        }
      ]
    },
    {
      "cell_type": "markdown",
      "metadata": {
        "id": "znpe7DKtVGcP"
      },
      "source": [
        "## Answer"
      ]
    },
    {
      "cell_type": "code",
      "metadata": {
        "id": "I6MDsTHcVHnH",
        "colab": {
          "base_uri": "https://localhost:8080/",
          "height": 538
        },
        "outputId": "e375c452-6b48-418c-eb0a-57aca142dfe8"
      },
      "source": [
        "inp_1 = layers.Input(shape=100)\n",
        "inp_2 = layers.Input(shape=100)\n",
        "\n",
        "# Branch 1\n",
        "x = layers.Dense(50)(inp_1)\n",
        "x = layers.Dense(50)(x)\n",
        "out_1 = layers.Dense(25)(x)\n",
        "\n",
        "# Branch 2\n",
        "x = layers.Dense(50)(inp_2)\n",
        "x = layers.Dense(50)(x)\n",
        "out_2 = layers.Dense(25)(x)\n",
        "\n",
        "merged = layers.concatenate([out_1, out_2])\n",
        "\n",
        "out_1 = layers.Dense(100)(merged)\n",
        "out_2 = layers.Dense(100)(merged)\n",
        "\n",
        "# func\n",
        "model = models.Model(inputs=[inp_1, inp_2], outputs=[out_1, out_2])\n",
        "\n",
        "model.summary()\n",
        "\n"
      ],
      "execution_count": null,
      "outputs": [
        {
          "output_type": "stream",
          "text": [
            "Model: \"model_1\"\n",
            "__________________________________________________________________________________________________\n",
            "Layer (type)                    Output Shape         Param #     Connected to                     \n",
            "==================================================================================================\n",
            "input_3 (InputLayer)            [(None, 100)]        0                                            \n",
            "__________________________________________________________________________________________________\n",
            "input_4 (InputLayer)            [(None, 100)]        0                                            \n",
            "__________________________________________________________________________________________________\n",
            "dense_21 (Dense)                (None, 50)           5050        input_3[0][0]                    \n",
            "__________________________________________________________________________________________________\n",
            "dense_24 (Dense)                (None, 50)           5050        input_4[0][0]                    \n",
            "__________________________________________________________________________________________________\n",
            "dense_22 (Dense)                (None, 50)           2550        dense_21[0][0]                   \n",
            "__________________________________________________________________________________________________\n",
            "dense_25 (Dense)                (None, 50)           2550        dense_24[0][0]                   \n",
            "__________________________________________________________________________________________________\n",
            "dense_23 (Dense)                (None, 25)           1275        dense_22[0][0]                   \n",
            "__________________________________________________________________________________________________\n",
            "dense_26 (Dense)                (None, 25)           1275        dense_25[0][0]                   \n",
            "__________________________________________________________________________________________________\n",
            "concatenate (Concatenate)       (None, 50)           0           dense_23[0][0]                   \n",
            "                                                                 dense_26[0][0]                   \n",
            "__________________________________________________________________________________________________\n",
            "dense_27 (Dense)                (None, 100)          5100        concatenate[0][0]                \n",
            "__________________________________________________________________________________________________\n",
            "dense_28 (Dense)                (None, 100)          5100        concatenate[0][0]                \n",
            "==================================================================================================\n",
            "Total params: 27,950\n",
            "Trainable params: 27,950\n",
            "Non-trainable params: 0\n",
            "__________________________________________________________________________________________________\n"
          ],
          "name": "stdout"
        }
      ]
    },
    {
      "cell_type": "code",
      "metadata": {
        "id": "StmjDfeqVYnM",
        "colab": {
          "base_uri": "https://localhost:8080/",
          "height": 564
        },
        "outputId": "78d15762-7ecf-4a45-97e0-e589380ea7d0"
      },
      "source": [
        "plot_model(model)"
      ],
      "execution_count": null,
      "outputs": [
        {
          "output_type": "execute_result",
          "data": {
            "image/png": "[encoded data removed]",
            "text/plain": [
              "<IPython.core.display.Image object>"
            ]
          },
          "metadata": {
            "tags": []
          },
          "execution_count": 42
        }
      ]
    },
    {
      "cell_type": "markdown",
      "metadata": {
        "id": "FTMIMGWBXgEt"
      },
      "source": [
        "## Excercise\n",
        "\n",
        "Use the functional `Model` to build the following model for keras IMDB sentiment classification"
      ]
    },
    {
      "cell_type": "markdown",
      "metadata": {
        "id": "xxCuBgs5X8Ti"
      },
      "source": [
        "## Preparation code\n",
        "\n",
        "Not part of the answer"
      ]
    },
    {
      "cell_type": "code",
      "metadata": {
        "id": "pFIXmnR9X_pn"
      },
      "source": [
        "(train_data, train_labels), (test_data, test_labels) = imdb.load_data(num_words=10000)\n",
        "\n",
        "def vectorize_sequences(sequences, dimension=10000):\n",
        "    # Create an all-zero matrix of shape (len(sequences), dimension)\n",
        "    results = np.zeros((len(sequences), dimension))\n",
        "    for i, sequence in enumerate(sequences):\n",
        "        results[i, sequence] = 1.  # set specific indices of results[i] to 1s\n",
        "    return results\n",
        "\n",
        "# Our vectorized training data\n",
        "x_train = vectorize_sequences(train_data)\n",
        "# Our vectorized test data\n",
        "x_test = vectorize_sequences(test_data)\n",
        "# Our vectorized labels\n",
        "y_train = np.asarray(train_labels).astype('float32')\n",
        "y_test = np.asarray(test_labels).astype('float32')\n",
        "\n",
        "x_train, x_val, y_train, y_val = train_test_split(x_train, y_train, test_size=0.1, random_state=42)"
      ],
      "execution_count": null,
      "outputs": []
    },
    {
      "cell_type": "markdown",
      "metadata": {
        "id": "iiQqSxuaYBlo"
      },
      "source": [
        "## Answer"
      ]
    },
    {
      "cell_type": "code",
      "metadata": {
        "id": "ljiWFbhQYCii",
        "colab": {
          "base_uri": "https://localhost:8080/",
          "height": 654
        },
        "outputId": "de7967d9-f813-4510-ebcd-246b82f35e64"
      },
      "source": [
        "\n",
        "inp = layers.Input(shape=(10000,))\n",
        "x = layers.Dense(16, activation='relu')(inp)\n",
        "x = layers.Dense(16, activation='relu')(x)\n",
        "out = layers.Dense(1, activation='sigmoid')(x)\n",
        "model = models.Model(inp, out)\n",
        "print(model.summary())\n",
        "plot_model(model)"
      ],
      "execution_count": null,
      "outputs": [
        {
          "output_type": "stream",
          "text": [
            "Model: \"model_2\"\n",
            "_________________________________________________________________\n",
            "Layer (type)                 Output Shape              Param #   \n",
            "=================================================================\n",
            "input_6 (InputLayer)         [(None, 10000)]           0         \n",
            "_________________________________________________________________\n",
            "dense_32 (Dense)             (None, 16)                160016    \n",
            "_________________________________________________________________\n",
            "dense_33 (Dense)             (None, 16)                272       \n",
            "_________________________________________________________________\n",
            "dense_34 (Dense)             (None, 1)                 17        \n",
            "=================================================================\n",
            "Total params: 160,305\n",
            "Trainable params: 160,305\n",
            "Non-trainable params: 0\n",
            "_________________________________________________________________\n",
            "None\n"
          ],
          "name": "stdout"
        },
        {
          "output_type": "execute_result",
          "data": {
            "image/png": "[encoded data removed]",
            "text/plain": [
              "<IPython.core.display.Image object>"
            ]
          },
          "metadata": {
            "tags": []
          },
          "execution_count": 46
        }
      ]
    },
    {
      "cell_type": "markdown",
      "metadata": {
        "id": "R1S1AwPYYYR1"
      },
      "source": [
        "## The following part is not part of the answer"
      ]
    },
    {
      "cell_type": "code",
      "metadata": {
        "id": "j2Nf_k-tYX3E",
        "colab": {
          "base_uri": "https://localhost:8080/",
          "height": 1000
        },
        "outputId": "4a638088-7e33-4bcf-f690-9e6a3afca3b1"
      },
      "source": [
        "\n",
        "model.compile(optimizer=optimizers.RMSprop(lr=0.001),\n",
        "              loss=losses.binary_crossentropy,\n",
        "              metrics=[metrics.binary_accuracy])\n",
        "\n",
        "history = model.fit(x_train,\n",
        "                    y_train,\n",
        "                    epochs=20,\n",
        "                    batch_size=512,\n",
        "                    validation_data=(x_val, y_val))\n",
        "\n",
        "\n",
        "\n",
        "acc = history.history['binary_accuracy']\n",
        "val_acc = history.history['val_binary_accuracy']\n",
        "loss = history.history['loss']\n",
        "val_loss = history.history['val_loss']\n",
        "\n",
        "epochs = range(1, len(acc) + 1)\n",
        "\n",
        "# \"bo\" is for \"blue dot\"\n",
        "plt.plot(epochs, loss, 'bo', label='Training loss')\n",
        "# b is for \"solid blue line\"\n",
        "plt.plot(epochs, val_loss, 'b', label='Validation loss')\n",
        "plt.title('Training and validation loss')\n",
        "plt.xlabel('Epochs')\n",
        "plt.ylabel('Loss')\n",
        "plt.legend()\n",
        "\n",
        "plt.show()\n",
        "\n",
        "\n",
        "\n",
        "plt.clf()   # clear figure\n",
        "acc_values = history.history['binary_accuracy']\n",
        "val_acc_values = history.history['val_binary_accuracy']\n",
        "\n",
        "plt.plot(epochs, acc, 'bo', label='Training acc')\n",
        "plt.plot(epochs, val_acc, 'b', label='Validation acc')\n",
        "plt.title('Training and validation accuracy')\n",
        "plt.xlabel('Epochs')\n",
        "plt.ylabel('Loss')\n",
        "plt.legend()\n",
        "\n",
        "plt.show()"
      ],
      "execution_count": null,
      "outputs": [
        {
          "output_type": "stream",
          "text": [
            "Epoch 1/20\n",
            "44/44 [==============================] - 1s 22ms/step - loss: 0.4549 - binary_accuracy: 0.8184 - val_loss: 0.3448 - val_binary_accuracy: 0.8696\n",
            "Epoch 2/20\n",
            "44/44 [==============================] - 1s 21ms/step - loss: 0.2622 - binary_accuracy: 0.9083 - val_loss: 0.3084 - val_binary_accuracy: 0.8708\n",
            "Epoch 3/20\n",
            "44/44 [==============================] - 1s 21ms/step - loss: 0.2010 - binary_accuracy: 0.9286 - val_loss: 0.2696 - val_binary_accuracy: 0.8892\n",
            "Epoch 4/20\n",
            "44/44 [==============================] - 1s 20ms/step - loss: 0.1674 - binary_accuracy: 0.9408 - val_loss: 0.2775 - val_binary_accuracy: 0.8868\n",
            "Epoch 5/20\n",
            "44/44 [==============================] - 1s 17ms/step - loss: 0.1432 - binary_accuracy: 0.9498 - val_loss: 0.3036 - val_binary_accuracy: 0.8760\n",
            "Epoch 6/20\n",
            "44/44 [==============================] - 1s 17ms/step - loss: 0.1224 - binary_accuracy: 0.9581 - val_loss: 0.3184 - val_binary_accuracy: 0.8844\n",
            "Epoch 7/20\n",
            "44/44 [==============================] - 1s 20ms/step - loss: 0.1106 - binary_accuracy: 0.9624 - val_loss: 0.3369 - val_binary_accuracy: 0.8748\n",
            "Epoch 8/20\n",
            "44/44 [==============================] - 1s 17ms/step - loss: 0.0951 - binary_accuracy: 0.9694 - val_loss: 0.3579 - val_binary_accuracy: 0.8752\n",
            "Epoch 9/20\n",
            "44/44 [==============================] - 1s 17ms/step - loss: 0.0837 - binary_accuracy: 0.9735 - val_loss: 0.3910 - val_binary_accuracy: 0.8740\n",
            "Epoch 10/20\n",
            "44/44 [==============================] - 1s 17ms/step - loss: 0.0739 - binary_accuracy: 0.9770 - val_loss: 0.4368 - val_binary_accuracy: 0.8712\n",
            "Epoch 11/20\n",
            "44/44 [==============================] - 1s 17ms/step - loss: 0.0674 - binary_accuracy: 0.9787 - val_loss: 0.4680 - val_binary_accuracy: 0.8612\n",
            "Epoch 12/20\n",
            "44/44 [==============================] - 1s 17ms/step - loss: 0.0578 - binary_accuracy: 0.9825 - val_loss: 0.4923 - val_binary_accuracy: 0.8624\n",
            "Epoch 13/20\n",
            "44/44 [==============================] - 1s 17ms/step - loss: 0.0497 - binary_accuracy: 0.9854 - val_loss: 0.5230 - val_binary_accuracy: 0.8624\n",
            "Epoch 14/20\n",
            "44/44 [==============================] - 1s 18ms/step - loss: 0.0468 - binary_accuracy: 0.9864 - val_loss: 0.5453 - val_binary_accuracy: 0.8632\n",
            "Epoch 15/20\n",
            "44/44 [==============================] - 1s 17ms/step - loss: 0.0378 - binary_accuracy: 0.9898 - val_loss: 0.5806 - val_binary_accuracy: 0.8620\n",
            "Epoch 16/20\n",
            "44/44 [==============================] - 1s 18ms/step - loss: 0.0333 - binary_accuracy: 0.9910 - val_loss: 0.6257 - val_binary_accuracy: 0.8584\n",
            "Epoch 17/20\n",
            "44/44 [==============================] - 1s 17ms/step - loss: 0.0308 - binary_accuracy: 0.9911 - val_loss: 0.7025 - val_binary_accuracy: 0.8476\n",
            "Epoch 18/20\n",
            "44/44 [==============================] - 1s 16ms/step - loss: 0.0262 - binary_accuracy: 0.9931 - val_loss: 0.6902 - val_binary_accuracy: 0.8592\n",
            "Epoch 19/20\n",
            "44/44 [==============================] - 1s 16ms/step - loss: 0.0234 - binary_accuracy: 0.9938 - val_loss: 0.7311 - val_binary_accuracy: 0.8568\n",
            "Epoch 20/20\n",
            "44/44 [==============================] - 1s 16ms/step - loss: 0.0184 - binary_accuracy: 0.9956 - val_loss: 0.7665 - val_binary_accuracy: 0.8544\n"
          ],
          "name": "stdout"
        },
        {
          "output_type": "display_data",
          "data": {
            "image/png": "[encoded data removed]",
            "text/plain": [
              "<Figure size 432x288 with 1 Axes>"
            ]
          },
          "metadata": {
            "tags": [],
            "needs_background": "light"
          }
        },
        {
          "output_type": "display_data",
          "data": {
            "image/png": "[encoded data removed]",
            "text/plain": [
              "<Figure size 432x288 with 1 Axes>"
            ]
          },
          "metadata": {
            "tags": [],
            "needs_background": "light"
          }
        }
      ]
    },
    {
      "cell_type": "markdown",
      "metadata": {
        "id": "BkPhLVvVYlvc"
      },
      "source": [
        "# Lesson 3: Introduction to Embeddings and how to use with Categorical variables"
      ]
    },
    {
      "cell_type": "markdown",
      "metadata": {
        "id": "kqQzIWjnYnyL"
      },
      "source": [
        "## Learning Objectives\n",
        "- Learner will be able to build models using Embedding layers for categorical variables inputs.\n",
        "- Learner will be able to use Embedding layers with categorical word indices for text classification tasks."
      ]
    },
    {
      "cell_type": "markdown",
      "metadata": {
        "id": "X5GAyq_UZVUb"
      },
      "source": [
        "## Excercise\n",
        "\n",
        "For the sample text data below, use Embedding layer to encode the latent representation of words indices"
      ]
    },
    {
      "cell_type": "markdown",
      "metadata": {
        "id": "GruYbcrmZfaA"
      },
      "source": [
        "## Preparation code\n",
        "Not part of the answer"
      ]
    },
    {
      "cell_type": "code",
      "metadata": {
        "id": "dJMvOMSsZhpB",
        "colab": {
          "base_uri": "https://localhost:8080/",
          "height": 218
        },
        "outputId": "a5e0a719-4473-4b3d-ae9f-ea3a01ef8338"
      },
      "source": [
        "# define documents\n",
        "docs = ['Well done!',\n",
        "'Good work','Great effort',\n",
        "'nice work',\n",
        "'Excellent!',\n",
        "'Weak',\n",
        "'Poor effort!',\n",
        "'not good',\n",
        "'poor work',\n",
        "'Could have done better.']\n",
        "# define class labels\n",
        "labels = [1,1,1,1,1,0,0,0,0,0]\n",
        "# integer encode the documents\n",
        "#vocab_size = 50\n",
        "\n",
        "#encoded_docs = [one_hot(d, vocab_size) for d in docs]\n",
        "t = Tokenizer()\n",
        "t.fit_on_texts(docs)\n",
        "vocab_size = len(t.word_index) + 1\n",
        "# integer encode the documents\n",
        "encoded_docs = t.texts_to_sequences(docs)\n",
        "print(encoded_docs)\n",
        "\n",
        "print(encoded_docs)\n",
        "# pad documents to a max length of 4 words\n",
        "max_length = 4\n",
        "padded_docs = pad_sequences(encoded_docs, maxlen=max_length, padding='post')\n",
        "print(padded_docs)"
      ],
      "execution_count": null,
      "outputs": [
        {
          "output_type": "stream",
          "text": [
            "[[6, 2], [3, 1], [7, 4], [8, 1], [9], [10], [5, 4], [11, 3], [5, 1], [12, 13, 2, 14]]\n",
            "[[6, 2], [3, 1], [7, 4], [8, 1], [9], [10], [5, 4], [11, 3], [5, 1], [12, 13, 2, 14]]\n",
            "[[ 6  2  0  0]\n",
            " [ 3  1  0  0]\n",
            " [ 7  4  0  0]\n",
            " [ 8  1  0  0]\n",
            " [ 9  0  0  0]\n",
            " [10  0  0  0]\n",
            " [ 5  4  0  0]\n",
            " [11  3  0  0]\n",
            " [ 5  1  0  0]\n",
            " [12 13  2 14]]\n"
          ],
          "name": "stdout"
        }
      ]
    },
    {
      "cell_type": "markdown",
      "metadata": {
        "id": "YMkBYkiHZjb5"
      },
      "source": [
        "## Answer\n"
      ]
    },
    {
      "cell_type": "code",
      "metadata": {
        "id": "IQr39jNMZkxZ",
        "colab": {
          "base_uri": "https://localhost:8080/",
          "height": 621
        },
        "outputId": "4d5ad386-f9f9-4b83-a191-c86cb016522e"
      },
      "source": [
        "# define the model\n",
        "model = models.Sequential()\n",
        "model.add(layers.Embedding(vocab_size, 8, input_length=max_length))\n",
        "model.add(layers.Flatten())\n",
        "model.add(layers.Dense(1, activation='sigmoid'))\n",
        "print(model.summary())\n",
        "plot_model(model)"
      ],
      "execution_count": null,
      "outputs": [
        {
          "output_type": "stream",
          "text": [
            "Model: \"sequential_6\"\n",
            "_________________________________________________________________\n",
            "Layer (type)                 Output Shape              Param #   \n",
            "=================================================================\n",
            "embedding (Embedding)        (None, 4, 8)              120       \n",
            "_________________________________________________________________\n",
            "flatten (Flatten)            (None, 32)                0         \n",
            "_________________________________________________________________\n",
            "dense_35 (Dense)             (None, 1)                 33        \n",
            "=================================================================\n",
            "Total params: 153\n",
            "Trainable params: 153\n",
            "Non-trainable params: 0\n",
            "_________________________________________________________________\n",
            "None\n"
          ],
          "name": "stdout"
        },
        {
          "output_type": "execute_result",
          "data": {
            "image/png": "[encoded data removed]",
            "text/plain": [
              "<IPython.core.display.Image object>"
            ]
          },
          "metadata": {
            "tags": []
          },
          "execution_count": 50
        }
      ]
    },
    {
      "cell_type": "markdown",
      "metadata": {
        "id": "40UN1cwZZwug"
      },
      "source": [
        "## The following part is not part of the answer"
      ]
    },
    {
      "cell_type": "code",
      "metadata": {
        "id": "71P_A6IeZzIr",
        "colab": {
          "base_uri": "https://localhost:8080/",
          "height": 87
        },
        "outputId": "253b248b-85cc-4824-db66-08ee078e5bbf"
      },
      "source": [
        "# compile the model\n",
        "model.compile(optimizer='adam', loss='binary_crossentropy', metrics=['acc'])\n",
        "# fit the model\n",
        "model.fit(np.array(padded_docs), np.array(labels), epochs=50, verbose=0)\n",
        "# evaluate the model\n",
        "loss, accuracy = model.evaluate(padded_docs, labels, verbose=0)\n",
        "print('Accuracy: %f' % (accuracy*100))"
      ],
      "execution_count": null,
      "outputs": [
        {
          "output_type": "stream",
          "text": [
            "/usr/local/lib/python3.6/dist-packages/tensorflow/python/framework/indexed_slices.py:434: UserWarning: Converting sparse IndexedSlices to a dense Tensor of unknown shape. This may consume a large amount of memory.\n",
            "  \"Converting sparse IndexedSlices to a dense Tensor of unknown shape. \"\n"
          ],
          "name": "stderr"
        },
        {
          "output_type": "stream",
          "text": [
            "Accuracy: 89.999998\n"
          ],
          "name": "stdout"
        }
      ]
    },
    {
      "cell_type": "markdown",
      "metadata": {
        "id": "KrEo9Gn-c3Vh"
      },
      "source": [
        "## Excercise\n",
        "Apply the same model to IMDB dataset"
      ]
    },
    {
      "cell_type": "markdown",
      "metadata": {
        "id": "a4rkA5iCc--v"
      },
      "source": [
        "## Preparation\n",
        "Not part of the answer"
      ]
    },
    {
      "cell_type": "code",
      "metadata": {
        "id": "lwVScw4qdEal"
      },
      "source": [
        "vocab_size = 10000\n",
        "(train_data, train_labels), (test_data, test_labels) = imdb.load_data(num_words=vocab_size)\n",
        "\n",
        "train_labels = np.asarray(train_labels).astype('float32')\n",
        "test_labels = np.asarray(test_labels).astype('float32')\n",
        "\n",
        "x_train, x_val, y_train, y_val = train_test_split(train_data, train_labels, test_size=0.1, random_state=42)\n",
        "\n",
        "\n",
        "\n",
        "max_length = 100\n",
        "x_train = pad_sequences(x_train, maxlen=max_length, padding='post')\n",
        "x_val = pad_sequences(x_val, maxlen=max_length, padding='post')\n"
      ],
      "execution_count": null,
      "outputs": []
    },
    {
      "cell_type": "markdown",
      "metadata": {
        "id": "btQp_JEcdG0I"
      },
      "source": [
        "## Answer"
      ]
    },
    {
      "cell_type": "code",
      "metadata": {
        "id": "9BiRgDCPbKKS",
        "colab": {
          "base_uri": "https://localhost:8080/",
          "height": 638
        },
        "outputId": "52a99d81-55eb-4482-d924-d754cd7ccb78"
      },
      "source": [
        "\n",
        "# define the model\n",
        "emb_sz = 50\n",
        "model = models.Sequential()\n",
        "model.add(layers.Embedding(vocab_size+1, emb_sz, input_length=max_length))\n",
        "model.add(layers.Flatten())\n",
        "model.add(layers.Dense(25))\n",
        "model.add(layers.Dense(1, activation='sigmoid'))\n",
        "# compile the model\n",
        "model.compile(optimizer='adam', loss='binary_crossentropy', metrics=['acc'])\n",
        "# summarize the model\n",
        "model.summary()\n",
        "# fit the model\n",
        "model.fit(np.array(x_train), np.array(y_train), validation_data=(np.array(x_val), np.array(y_val)), epochs=10, verbose=1)\n"
      ],
      "execution_count": null,
      "outputs": [
        {
          "output_type": "stream",
          "text": [
            "Model: \"sequential_13\"\n",
            "_________________________________________________________________\n",
            "Layer (type)                 Output Shape              Param #   \n",
            "=================================================================\n",
            "embedding_6 (Embedding)      (None, 100, 50)           500050    \n",
            "_________________________________________________________________\n",
            "flatten_6 (Flatten)          (None, 5000)              0         \n",
            "_________________________________________________________________\n",
            "dense_42 (Dense)             (None, 25)                125025    \n",
            "_________________________________________________________________\n",
            "dense_43 (Dense)             (None, 1)                 26        \n",
            "=================================================================\n",
            "Total params: 625,101\n",
            "Trainable params: 625,101\n",
            "Non-trainable params: 0\n",
            "_________________________________________________________________\n",
            "Epoch 1/10\n",
            "704/704 [==============================] - 5s 7ms/step - loss: 0.4308 - acc: 0.7872 - val_loss: 0.3487 - val_acc: 0.8420\n",
            "Epoch 2/10\n",
            "704/704 [==============================] - 4s 6ms/step - loss: 0.1080 - acc: 0.9647 - val_loss: 0.5289 - val_acc: 0.8120\n",
            "Epoch 3/10\n",
            "704/704 [==============================] - 4s 6ms/step - loss: 0.0087 - acc: 0.9984 - val_loss: 0.6232 - val_acc: 0.8284\n",
            "Epoch 4/10\n",
            "704/704 [==============================] - 4s 6ms/step - loss: 8.6006e-04 - acc: 1.0000 - val_loss: 0.6682 - val_acc: 0.8320\n",
            "Epoch 5/10\n",
            "704/704 [==============================] - 4s 6ms/step - loss: 2.8342e-04 - acc: 1.0000 - val_loss: 0.7005 - val_acc: 0.8320\n",
            "Epoch 6/10\n",
            "704/704 [==============================] - 4s 6ms/step - loss: 1.5932e-04 - acc: 1.0000 - val_loss: 0.7295 - val_acc: 0.8324\n",
            "Epoch 7/10\n",
            "704/704 [==============================] - 4s 6ms/step - loss: 9.6162e-05 - acc: 1.0000 - val_loss: 0.7560 - val_acc: 0.8332\n",
            "Epoch 8/10\n",
            "704/704 [==============================] - 4s 6ms/step - loss: 6.0663e-05 - acc: 1.0000 - val_loss: 0.7819 - val_acc: 0.8340\n",
            "Epoch 9/10\n",
            "704/704 [==============================] - 5s 7ms/step - loss: 3.9129e-05 - acc: 1.0000 - val_loss: 0.8070 - val_acc: 0.8332\n",
            "Epoch 10/10\n",
            "704/704 [==============================] - 4s 6ms/step - loss: 2.5629e-05 - acc: 1.0000 - val_loss: 0.8322 - val_acc: 0.8336\n"
          ],
          "name": "stdout"
        },
        {
          "output_type": "execute_result",
          "data": {
            "text/plain": [
              "<tensorflow.python.keras.callbacks.History at 0x7fb1aa67c278>"
            ]
          },
          "metadata": {
            "tags": []
          },
          "execution_count": 67
        }
      ]
    },
    {
      "cell_type": "markdown",
      "metadata": {
        "id": "SOMuhpgTdVVb"
      },
      "source": [
        "# Chapter 3: Collaborative filtering\n"
      ]
    },
    {
      "cell_type": "markdown",
      "metadata": {
        "id": "yhvGc2l7dWyK"
      },
      "source": [
        "## Lesson 1: What are collaborative filters?"
      ]
    },
    {
      "cell_type": "markdown",
      "metadata": {
        "id": "fQx8GT9JdcCI"
      },
      "source": [
        "## Learning Objectives\n",
        "- Learner will be able to identify the difference between the collaborative filtering approach and content based approach.\n",
        "- Learner will be able to capture the overall model architecture using the ML workflow.\n",
        "- Learner will be able to describe the learning process and the involved loss optimization using neural networks to build a colaborative filter."
      ]
    },
    {
      "cell_type": "markdown",
      "metadata": {
        "id": "Q84-kfTEfgQj"
      },
      "source": [
        "## Excercise\n",
        "\n",
        "Describe collaborative filtering and its relation to SVD and Matrix factorization"
      ]
    },
    {
      "cell_type": "markdown",
      "metadata": {
        "id": "Vb1cwCAed47P"
      },
      "source": [
        "# Lesson 2: The use of dot products to measure similarity\n",
        "- Learner will be able to apply dot products to measure vectors similarity\n",
        "- Learner will be able to use sklearn to measure different similarity metrics, like cosine similarity\n",
        "- Learner will be able to build models with Keras involving Dot product"
      ]
    },
    {
      "cell_type": "markdown",
      "metadata": {
        "id": "6rHMg6wke8EZ"
      },
      "source": [
        "## Excercise\n",
        "\n",
        "Find the simialrity score between the following group of vectors using dot product in sklearn"
      ]
    },
    {
      "cell_type": "code",
      "metadata": {
        "id": "KYPnp_I_fCZQ"
      },
      "source": [
        "X = np.array([[2, 3], [3, 5], [5, 8]])\n",
        "Y = np.array([[1, 0], [2, 1]])"
      ],
      "execution_count": null,
      "outputs": []
    },
    {
      "cell_type": "markdown",
      "metadata": {
        "id": "qtI0IGo7fQk1"
      },
      "source": [
        "## Answer"
      ]
    },
    {
      "cell_type": "code",
      "metadata": {
        "id": "GsdpOEo0fP5B",
        "colab": {
          "base_uri": "https://localhost:8080/",
          "height": 67
        },
        "outputId": "d02772de-0478-4e22-d700-92c73c1f95e1"
      },
      "source": [
        "pairwise_kernels(X, Y, metric='linear')"
      ],
      "execution_count": null,
      "outputs": [
        {
          "output_type": "execute_result",
          "data": {
            "text/plain": [
              "array([[ 2.,  7.],\n",
              "       [ 3., 11.],\n",
              "       [ 5., 18.]])"
            ]
          },
          "metadata": {
            "tags": []
          },
          "execution_count": 71
        }
      ]
    },
    {
      "cell_type": "markdown",
      "metadata": {
        "id": "BDZt_4_QfWQm"
      },
      "source": [
        "## Excercise\n",
        "\n",
        "Find the simialrity score between the following group of vectors using cosine similarity in sklearn"
      ]
    },
    {
      "cell_type": "code",
      "metadata": {
        "id": "rgBA41epfqar"
      },
      "source": [
        "X = np.array([[2, 3], [3, 5], [5, 8]])\n",
        "Y = np.array([[1, 0], [2, 1]])"
      ],
      "execution_count": null,
      "outputs": []
    },
    {
      "cell_type": "markdown",
      "metadata": {
        "id": "T5TmnQJDfrlr"
      },
      "source": [
        "## Answer"
      ]
    },
    {
      "cell_type": "code",
      "metadata": {
        "id": "4O-c5-PkfrHr",
        "colab": {
          "base_uri": "https://localhost:8080/",
          "height": 67
        },
        "outputId": "2b261dca-648d-4cf8-e2cb-9053bcbc9570"
      },
      "source": [
        "cosine_similarity(X, Y)"
      ],
      "execution_count": null,
      "outputs": [
        {
          "output_type": "execute_result",
          "data": {
            "text/plain": [
              "array([[0.5547002 , 0.86824314],\n",
              "       [0.51449576, 0.84366149],\n",
              "       [0.52999894, 0.85328183]])"
            ]
          },
          "metadata": {
            "tags": []
          },
          "execution_count": 72
        }
      ]
    },
    {
      "cell_type": "markdown",
      "metadata": {
        "id": "K7SUD180gFs1"
      },
      "source": [
        "## Excercise\n",
        "Build keras `Model` that applies Dot operation on two inputs of size (10000,)"
      ]
    },
    {
      "cell_type": "markdown",
      "metadata": {
        "id": "cAPNBKLfgPQK"
      },
      "source": [
        "## Answer"
      ]
    },
    {
      "cell_type": "code",
      "metadata": {
        "id": "1jckq4ifgOuN",
        "colab": {
          "base_uri": "https://localhost:8080/",
          "height": 426
        },
        "outputId": "cba5e248-52fd-4d92-85d8-0d674544ce23"
      },
      "source": [
        "inp_1 = layers.Input(shape=(10000,))\n",
        "inp_2 = layers.Input(shape=(10000,))\n",
        "out = layers.Dot(axes=1)([inp_1, inp_2])\n",
        "model = models.Model(inputs=[inp_1, inp_2], outputs=out)\n",
        "model.summary()\n",
        "plot_model(model)"
      ],
      "execution_count": null,
      "outputs": [
        {
          "output_type": "stream",
          "text": [
            "Model: \"model_3\"\n",
            "__________________________________________________________________________________________________\n",
            "Layer (type)                    Output Shape         Param #     Connected to                     \n",
            "==================================================================================================\n",
            "input_7 (InputLayer)            [(None, 10000)]      0                                            \n",
            "__________________________________________________________________________________________________\n",
            "input_8 (InputLayer)            [(None, 10000)]      0                                            \n",
            "__________________________________________________________________________________________________\n",
            "dot (Dot)                       (None, 1)            0           input_7[0][0]                    \n",
            "                                                                 input_8[0][0]                    \n",
            "==================================================================================================\n",
            "Total params: 0\n",
            "Trainable params: 0\n",
            "Non-trainable params: 0\n",
            "__________________________________________________________________________________________________\n"
          ],
          "name": "stdout"
        },
        {
          "output_type": "execute_result",
          "data": {
            "image/png": "[encoded data removed]",
            "text/plain": [
              "<IPython.core.display.Image object>"
            ]
          },
          "metadata": {
            "tags": []
          },
          "execution_count": 74
        }
      ]
    },
    {
      "cell_type": "markdown",
      "metadata": {
        "id": "gCsmzoSDgxfV"
      },
      "source": [
        "# Lesson 3: The use of categorical Embeddings to encode Latent factors and Meta data"
      ]
    },
    {
      "cell_type": "markdown",
      "metadata": {
        "id": "ejSD1zY-gymy"
      },
      "source": [
        "## Learning Objectives\n",
        "- Learner will be able to use categorical variables as inputs to keras models\n",
        "- Learner will be able to encode different meta data from MovieLens dataset as inputs to Keras model"
      ]
    },
    {
      "cell_type": "markdown",
      "metadata": {
        "id": "LDXN9vCohJLz"
      },
      "source": [
        "## Excercise\n",
        "\n",
        "Use the Embedding layer to build the following model\n",
        "- inp_1 = categorical/scalar value, range = 1000 values\n",
        "- inp_2 = categorical/scalar value, range = 2000 values\n",
        "- out = 100 dimensions"
      ]
    },
    {
      "cell_type": "code",
      "metadata": {
        "id": "DS_OOHRyhaAX",
        "colab": {
          "base_uri": "https://localhost:8080/",
          "height": 738
        },
        "outputId": "547385b5-4821-4fc3-b1ca-0cdb61153d12"
      },
      "source": [
        "# Number of latent factors\n",
        "emb_sz = 100\n",
        "\n",
        "# User embeddings\n",
        "inp_1 = layers.Input(shape=(1,))\n",
        "emb_1 = layers.Embedding(1000, emb_sz)(inp_1)\n",
        "\n",
        "# Movie embeddings\n",
        "inp_2 = layers.Input(shape=(1,))\n",
        "emb_2 = layers.Embedding(2000, emb_sz)(inp_2)\n",
        "\n",
        "emb = layers.concatenate([emb_1, emb_2])\n",
        "out = layers.Dense(100)(emb)\n",
        "\n",
        "model = models.Model(inputs=[inp_1, inp_2], outputs=out)\n",
        "print(model.summary())\n",
        "plot_model(model)"
      ],
      "execution_count": null,
      "outputs": [
        {
          "output_type": "stream",
          "text": [
            "Model: \"model_5\"\n",
            "__________________________________________________________________________________________________\n",
            "Layer (type)                    Output Shape         Param #     Connected to                     \n",
            "==================================================================================================\n",
            "input_11 (InputLayer)           [(None, 1)]          0                                            \n",
            "__________________________________________________________________________________________________\n",
            "input_12 (InputLayer)           [(None, 1)]          0                                            \n",
            "__________________________________________________________________________________________________\n",
            "embedding_9 (Embedding)         (None, 1, 100)       100000      input_11[0][0]                   \n",
            "__________________________________________________________________________________________________\n",
            "embedding_10 (Embedding)        (None, 1, 100)       200000      input_12[0][0]                   \n",
            "__________________________________________________________________________________________________\n",
            "concatenate_2 (Concatenate)     (None, 1, 200)       0           embedding_9[0][0]                \n",
            "                                                                 embedding_10[0][0]               \n",
            "__________________________________________________________________________________________________\n",
            "dense_45 (Dense)                (None, 1, 100)       20100       concatenate_2[0][0]              \n",
            "==================================================================================================\n",
            "Total params: 320,100\n",
            "Trainable params: 320,100\n",
            "Non-trainable params: 0\n",
            "__________________________________________________________________________________________________\n",
            "None\n"
          ],
          "name": "stdout"
        },
        {
          "output_type": "execute_result",
          "data": {
            "image/png": "[encoded data removed]",
            "text/plain": [
              "<IPython.core.display.Image object>"
            ]
          },
          "metadata": {
            "tags": []
          },
          "execution_count": 77
        }
      ]
    },
    {
      "cell_type": "markdown",
      "metadata": {
        "id": "yEDIOnRMiSjc"
      },
      "source": [
        "# Lesson 4: Putting it all togehter!"
      ]
    },
    {
      "cell_type": "markdown",
      "metadata": {
        "id": "d2NzohKaiXmi"
      },
      "source": [
        "## Learning Objectives\n",
        "- Learner will be able to extract the user/movie rating matrix from MovieLens dataset using pandas\n",
        "- Learner will be able to prepare the categorical variables of meta data for MovieLens dataset\n",
        "- Learner will be able to build a collaborative filter for MovieLens dataset\n"
      ]
    },
    {
      "cell_type": "markdown",
      "metadata": {
        "id": "Xeq-zNoGjDwr"
      },
      "source": [
        "## Excercise\n",
        "\n",
        "Extract the user/movie rating matrix from MovieLens dataset using pandas, for the top 15 movies and users."
      ]
    },
    {
      "cell_type": "markdown",
      "metadata": {
        "id": "VF6i09KljKaz"
      },
      "source": [
        "## Preparation\n",
        "Not part of the answer"
      ]
    },
    {
      "cell_type": "code",
      "metadata": {
        "id": "i_UxUXEsjMsa",
        "colab": {
          "base_uri": "https://localhost:8080/",
          "height": 212
        },
        "outputId": "f4489fa3-138e-43d3-965c-20054785cac3"
      },
      "source": [
        "!wget http://files.grouplens.org/datasets/movielens/ml-latest-small.zip"
      ],
      "execution_count": null,
      "outputs": [
        {
          "output_type": "stream",
          "text": [
            "--2020-05-10 14:05:47--  http://files.grouplens.org/datasets/movielens/ml-latest-small.zip\n",
            "Resolving files.grouplens.org (files.grouplens.org)... 128.101.65.152\n",
            "Connecting to files.grouplens.org (files.grouplens.org)|128.101.65.152|:80... connected.\n",
            "HTTP request sent, awaiting response... 200 OK\n",
            "Length: 978202 (955K) [application/zip]\n",
            "Saving to: ‘ml-latest-small.zip’\n",
            "\n",
            "ml-latest-small.zip 100%[===================>] 955.28K   972KB/s    in 1.0s    \n",
            "\n",
            "2020-05-10 14:05:48 (972 KB/s) - ‘ml-latest-small.zip’ saved [978202/978202]\n",
            "\n"
          ],
          "name": "stdout"
        }
      ]
    },
    {
      "cell_type": "code",
      "metadata": {
        "id": "P_hJLvt-jfYZ",
        "colab": {
          "base_uri": "https://localhost:8080/",
          "height": 141
        },
        "outputId": "72e76fa1-4bf1-4c68-845f-b60ac275d955"
      },
      "source": [
        "!unzip ml-latest-small.zip"
      ],
      "execution_count": null,
      "outputs": [
        {
          "output_type": "stream",
          "text": [
            "Archive:  ml-latest-small.zip\n",
            "   creating: ml-latest-small/\n",
            "  inflating: ml-latest-small/links.csv  \n",
            "  inflating: ml-latest-small/tags.csv  \n",
            "  inflating: ml-latest-small/ratings.csv  \n",
            "  inflating: ml-latest-small/README.txt  \n",
            "  inflating: ml-latest-small/movies.csv  \n"
          ],
          "name": "stdout"
        }
      ]
    },
    {
      "cell_type": "code",
      "metadata": {
        "id": "X-TbGU9Wjh0d",
        "colab": {
          "base_uri": "https://localhost:8080/",
          "height": 197
        },
        "outputId": "cc5d08dc-7506-41bf-f1f1-476aab181a77"
      },
      "source": [
        "movies = pd.read_csv('ml-latest-small/movies.csv')\n",
        "movies.head()"
      ],
      "execution_count": null,
      "outputs": [
        {
          "output_type": "execute_result",
          "data": {
            "text/html": [
              "<div>\n",
              "<style scoped>\n",
              "    .dataframe tbody tr th:only-of-type {\n",
              "        vertical-align: middle;\n",
              "    }\n",
              "\n",
              "    .dataframe tbody tr th {\n",
              "        vertical-align: top;\n",
              "    }\n",
              "\n",
              "    .dataframe thead th {\n",
              "        text-align: right;\n",
              "    }\n",
              "</style>\n",
              "<table border=\"1\" class=\"dataframe\">\n",
              "  <thead>\n",
              "    <tr style=\"text-align: right;\">\n",
              "      <th></th>\n",
              "      <th>movieId</th>\n",
              "      <th>title</th>\n",
              "      <th>genres</th>\n",
              "    </tr>\n",
              "  </thead>\n",
              "  <tbody>\n",
              "    <tr>\n",
              "      <th>0</th>\n",
              "      <td>1</td>\n",
              "      <td>Toy Story (1995)</td>\n",
              "      <td>Adventure|Animation|Children|Comedy|Fantasy</td>\n",
              "    </tr>\n",
              "    <tr>\n",
              "      <th>1</th>\n",
              "      <td>2</td>\n",
              "      <td>Jumanji (1995)</td>\n",
              "      <td>Adventure|Children|Fantasy</td>\n",
              "    </tr>\n",
              "    <tr>\n",
              "      <th>2</th>\n",
              "      <td>3</td>\n",
              "      <td>Grumpier Old Men (1995)</td>\n",
              "      <td>Comedy|Romance</td>\n",
              "    </tr>\n",
              "    <tr>\n",
              "      <th>3</th>\n",
              "      <td>4</td>\n",
              "      <td>Waiting to Exhale (1995)</td>\n",
              "      <td>Comedy|Drama|Romance</td>\n",
              "    </tr>\n",
              "    <tr>\n",
              "      <th>4</th>\n",
              "      <td>5</td>\n",
              "      <td>Father of the Bride Part II (1995)</td>\n",
              "      <td>Comedy</td>\n",
              "    </tr>\n",
              "  </tbody>\n",
              "</table>\n",
              "</div>"
            ],
            "text/plain": [
              "   movieId  ...                                       genres\n",
              "0        1  ...  Adventure|Animation|Children|Comedy|Fantasy\n",
              "1        2  ...                   Adventure|Children|Fantasy\n",
              "2        3  ...                               Comedy|Romance\n",
              "3        4  ...                         Comedy|Drama|Romance\n",
              "4        5  ...                                       Comedy\n",
              "\n",
              "[5 rows x 3 columns]"
            ]
          },
          "metadata": {
            "tags": []
          },
          "execution_count": 5
        }
      ]
    },
    {
      "cell_type": "code",
      "metadata": {
        "id": "oXi2oJsojjsZ",
        "colab": {
          "base_uri": "https://localhost:8080/",
          "height": 197
        },
        "outputId": "ffc4106e-f353-41db-c852-378e2de73de5"
      },
      "source": [
        "ratings = pd.read_csv('ml-latest-small/ratings.csv')\n",
        "ratings.head()"
      ],
      "execution_count": null,
      "outputs": [
        {
          "output_type": "execute_result",
          "data": {
            "text/html": [
              "<div>\n",
              "<style scoped>\n",
              "    .dataframe tbody tr th:only-of-type {\n",
              "        vertical-align: middle;\n",
              "    }\n",
              "\n",
              "    .dataframe tbody tr th {\n",
              "        vertical-align: top;\n",
              "    }\n",
              "\n",
              "    .dataframe thead th {\n",
              "        text-align: right;\n",
              "    }\n",
              "</style>\n",
              "<table border=\"1\" class=\"dataframe\">\n",
              "  <thead>\n",
              "    <tr style=\"text-align: right;\">\n",
              "      <th></th>\n",
              "      <th>userId</th>\n",
              "      <th>movieId</th>\n",
              "      <th>rating</th>\n",
              "      <th>timestamp</th>\n",
              "    </tr>\n",
              "  </thead>\n",
              "  <tbody>\n",
              "    <tr>\n",
              "      <th>0</th>\n",
              "      <td>1</td>\n",
              "      <td>1</td>\n",
              "      <td>4.0</td>\n",
              "      <td>964982703</td>\n",
              "    </tr>\n",
              "    <tr>\n",
              "      <th>1</th>\n",
              "      <td>1</td>\n",
              "      <td>3</td>\n",
              "      <td>4.0</td>\n",
              "      <td>964981247</td>\n",
              "    </tr>\n",
              "    <tr>\n",
              "      <th>2</th>\n",
              "      <td>1</td>\n",
              "      <td>6</td>\n",
              "      <td>4.0</td>\n",
              "      <td>964982224</td>\n",
              "    </tr>\n",
              "    <tr>\n",
              "      <th>3</th>\n",
              "      <td>1</td>\n",
              "      <td>47</td>\n",
              "      <td>5.0</td>\n",
              "      <td>964983815</td>\n",
              "    </tr>\n",
              "    <tr>\n",
              "      <th>4</th>\n",
              "      <td>1</td>\n",
              "      <td>50</td>\n",
              "      <td>5.0</td>\n",
              "      <td>964982931</td>\n",
              "    </tr>\n",
              "  </tbody>\n",
              "</table>\n",
              "</div>"
            ],
            "text/plain": [
              "   userId  movieId  rating  timestamp\n",
              "0       1        1     4.0  964982703\n",
              "1       1        3     4.0  964981247\n",
              "2       1        6     4.0  964982224\n",
              "3       1       47     5.0  964983815\n",
              "4       1       50     5.0  964982931"
            ]
          },
          "metadata": {
            "tags": []
          },
          "execution_count": 6
        }
      ]
    },
    {
      "cell_type": "code",
      "metadata": {
        "id": "FrpEPWAvjrFl",
        "colab": {
          "base_uri": "https://localhost:8080/",
          "height": 274
        },
        "outputId": "5ebe76e4-ef40-4ccd-cb97-785e2442a79c"
      },
      "source": [
        "pd.crosstab(ratings.userId, ratings.movieId).head()"
      ],
      "execution_count": null,
      "outputs": [
        {
          "output_type": "execute_result",
          "data": {
            "text/html": [
              "<div>\n",
              "<style scoped>\n",
              "    .dataframe tbody tr th:only-of-type {\n",
              "        vertical-align: middle;\n",
              "    }\n",
              "\n",
              "    .dataframe tbody tr th {\n",
              "        vertical-align: top;\n",
              "    }\n",
              "\n",
              "    .dataframe thead th {\n",
              "        text-align: right;\n",
              "    }\n",
              "</style>\n",
              "<table border=\"1\" class=\"dataframe\">\n",
              "  <thead>\n",
              "    <tr style=\"text-align: right;\">\n",
              "      <th>movieId</th>\n",
              "      <th>1</th>\n",
              "      <th>2</th>\n",
              "      <th>3</th>\n",
              "      <th>4</th>\n",
              "      <th>5</th>\n",
              "      <th>6</th>\n",
              "      <th>7</th>\n",
              "      <th>8</th>\n",
              "      <th>9</th>\n",
              "      <th>10</th>\n",
              "      <th>11</th>\n",
              "      <th>12</th>\n",
              "      <th>13</th>\n",
              "      <th>14</th>\n",
              "      <th>15</th>\n",
              "      <th>16</th>\n",
              "      <th>17</th>\n",
              "      <th>18</th>\n",
              "      <th>19</th>\n",
              "      <th>20</th>\n",
              "      <th>21</th>\n",
              "      <th>22</th>\n",
              "      <th>23</th>\n",
              "      <th>24</th>\n",
              "      <th>25</th>\n",
              "      <th>26</th>\n",
              "      <th>27</th>\n",
              "      <th>28</th>\n",
              "      <th>29</th>\n",
              "      <th>30</th>\n",
              "      <th>31</th>\n",
              "      <th>32</th>\n",
              "      <th>34</th>\n",
              "      <th>36</th>\n",
              "      <th>38</th>\n",
              "      <th>39</th>\n",
              "      <th>40</th>\n",
              "      <th>41</th>\n",
              "      <th>42</th>\n",
              "      <th>43</th>\n",
              "      <th>...</th>\n",
              "      <th>185135</th>\n",
              "      <th>185435</th>\n",
              "      <th>185473</th>\n",
              "      <th>185585</th>\n",
              "      <th>186587</th>\n",
              "      <th>187031</th>\n",
              "      <th>187541</th>\n",
              "      <th>187593</th>\n",
              "      <th>187595</th>\n",
              "      <th>187717</th>\n",
              "      <th>188189</th>\n",
              "      <th>188301</th>\n",
              "      <th>188675</th>\n",
              "      <th>188751</th>\n",
              "      <th>188797</th>\n",
              "      <th>188833</th>\n",
              "      <th>189043</th>\n",
              "      <th>189111</th>\n",
              "      <th>189333</th>\n",
              "      <th>189381</th>\n",
              "      <th>189547</th>\n",
              "      <th>189713</th>\n",
              "      <th>190183</th>\n",
              "      <th>190207</th>\n",
              "      <th>190209</th>\n",
              "      <th>190213</th>\n",
              "      <th>190215</th>\n",
              "      <th>190219</th>\n",
              "      <th>190221</th>\n",
              "      <th>191005</th>\n",
              "      <th>193565</th>\n",
              "      <th>193567</th>\n",
              "      <th>193571</th>\n",
              "      <th>193573</th>\n",
              "      <th>193579</th>\n",
              "      <th>193581</th>\n",
              "      <th>193583</th>\n",
              "      <th>193585</th>\n",
              "      <th>193587</th>\n",
              "      <th>193609</th>\n",
              "    </tr>\n",
              "    <tr>\n",
              "      <th>userId</th>\n",
              "      <th></th>\n",
              "      <th></th>\n",
              "      <th></th>\n",
              "      <th></th>\n",
              "      <th></th>\n",
              "      <th></th>\n",
              "      <th></th>\n",
              "      <th></th>\n",
              "      <th></th>\n",
              "      <th></th>\n",
              "      <th></th>\n",
              "      <th></th>\n",
              "      <th></th>\n",
              "      <th></th>\n",
              "      <th></th>\n",
              "      <th></th>\n",
              "      <th></th>\n",
              "      <th></th>\n",
              "      <th></th>\n",
              "      <th></th>\n",
              "      <th></th>\n",
              "      <th></th>\n",
              "      <th></th>\n",
              "      <th></th>\n",
              "      <th></th>\n",
              "      <th></th>\n",
              "      <th></th>\n",
              "      <th></th>\n",
              "      <th></th>\n",
              "      <th></th>\n",
              "      <th></th>\n",
              "      <th></th>\n",
              "      <th></th>\n",
              "      <th></th>\n",
              "      <th></th>\n",
              "      <th></th>\n",
              "      <th></th>\n",
              "      <th></th>\n",
              "      <th></th>\n",
              "      <th></th>\n",
              "      <th></th>\n",
              "      <th></th>\n",
              "      <th></th>\n",
              "      <th></th>\n",
              "      <th></th>\n",
              "      <th></th>\n",
              "      <th></th>\n",
              "      <th></th>\n",
              "      <th></th>\n",
              "      <th></th>\n",
              "      <th></th>\n",
              "      <th></th>\n",
              "      <th></th>\n",
              "      <th></th>\n",
              "      <th></th>\n",
              "      <th></th>\n",
              "      <th></th>\n",
              "      <th></th>\n",
              "      <th></th>\n",
              "      <th></th>\n",
              "      <th></th>\n",
              "      <th></th>\n",
              "      <th></th>\n",
              "      <th></th>\n",
              "      <th></th>\n",
              "      <th></th>\n",
              "      <th></th>\n",
              "      <th></th>\n",
              "      <th></th>\n",
              "      <th></th>\n",
              "      <th></th>\n",
              "      <th></th>\n",
              "      <th></th>\n",
              "      <th></th>\n",
              "      <th></th>\n",
              "      <th></th>\n",
              "      <th></th>\n",
              "      <th></th>\n",
              "      <th></th>\n",
              "      <th></th>\n",
              "      <th></th>\n",
              "    </tr>\n",
              "  </thead>\n",
              "  <tbody>\n",
              "    <tr>\n",
              "      <th>1</th>\n",
              "      <td>1</td>\n",
              "      <td>0</td>\n",
              "      <td>1</td>\n",
              "      <td>0</td>\n",
              "      <td>0</td>\n",
              "      <td>1</td>\n",
              "      <td>0</td>\n",
              "      <td>0</td>\n",
              "      <td>0</td>\n",
              "      <td>0</td>\n",
              "      <td>0</td>\n",
              "      <td>0</td>\n",
              "      <td>0</td>\n",
              "      <td>0</td>\n",
              "      <td>0</td>\n",
              "      <td>0</td>\n",
              "      <td>0</td>\n",
              "      <td>0</td>\n",
              "      <td>0</td>\n",
              "      <td>0</td>\n",
              "      <td>0</td>\n",
              "      <td>0</td>\n",
              "      <td>0</td>\n",
              "      <td>0</td>\n",
              "      <td>0</td>\n",
              "      <td>0</td>\n",
              "      <td>0</td>\n",
              "      <td>0</td>\n",
              "      <td>0</td>\n",
              "      <td>0</td>\n",
              "      <td>0</td>\n",
              "      <td>0</td>\n",
              "      <td>0</td>\n",
              "      <td>0</td>\n",
              "      <td>0</td>\n",
              "      <td>0</td>\n",
              "      <td>0</td>\n",
              "      <td>0</td>\n",
              "      <td>0</td>\n",
              "      <td>0</td>\n",
              "      <td>...</td>\n",
              "      <td>0</td>\n",
              "      <td>0</td>\n",
              "      <td>0</td>\n",
              "      <td>0</td>\n",
              "      <td>0</td>\n",
              "      <td>0</td>\n",
              "      <td>0</td>\n",
              "      <td>0</td>\n",
              "      <td>0</td>\n",
              "      <td>0</td>\n",
              "      <td>0</td>\n",
              "      <td>0</td>\n",
              "      <td>0</td>\n",
              "      <td>0</td>\n",
              "      <td>0</td>\n",
              "      <td>0</td>\n",
              "      <td>0</td>\n",
              "      <td>0</td>\n",
              "      <td>0</td>\n",
              "      <td>0</td>\n",
              "      <td>0</td>\n",
              "      <td>0</td>\n",
              "      <td>0</td>\n",
              "      <td>0</td>\n",
              "      <td>0</td>\n",
              "      <td>0</td>\n",
              "      <td>0</td>\n",
              "      <td>0</td>\n",
              "      <td>0</td>\n",
              "      <td>0</td>\n",
              "      <td>0</td>\n",
              "      <td>0</td>\n",
              "      <td>0</td>\n",
              "      <td>0</td>\n",
              "      <td>0</td>\n",
              "      <td>0</td>\n",
              "      <td>0</td>\n",
              "      <td>0</td>\n",
              "      <td>0</td>\n",
              "      <td>0</td>\n",
              "    </tr>\n",
              "    <tr>\n",
              "      <th>2</th>\n",
              "      <td>0</td>\n",
              "      <td>0</td>\n",
              "      <td>0</td>\n",
              "      <td>0</td>\n",
              "      <td>0</td>\n",
              "      <td>0</td>\n",
              "      <td>0</td>\n",
              "      <td>0</td>\n",
              "      <td>0</td>\n",
              "      <td>0</td>\n",
              "      <td>0</td>\n",
              "      <td>0</td>\n",
              "      <td>0</td>\n",
              "      <td>0</td>\n",
              "      <td>0</td>\n",
              "      <td>0</td>\n",
              "      <td>0</td>\n",
              "      <td>0</td>\n",
              "      <td>0</td>\n",
              "      <td>0</td>\n",
              "      <td>0</td>\n",
              "      <td>0</td>\n",
              "      <td>0</td>\n",
              "      <td>0</td>\n",
              "      <td>0</td>\n",
              "      <td>0</td>\n",
              "      <td>0</td>\n",
              "      <td>0</td>\n",
              "      <td>0</td>\n",
              "      <td>0</td>\n",
              "      <td>0</td>\n",
              "      <td>0</td>\n",
              "      <td>0</td>\n",
              "      <td>0</td>\n",
              "      <td>0</td>\n",
              "      <td>0</td>\n",
              "      <td>0</td>\n",
              "      <td>0</td>\n",
              "      <td>0</td>\n",
              "      <td>0</td>\n",
              "      <td>...</td>\n",
              "      <td>0</td>\n",
              "      <td>0</td>\n",
              "      <td>0</td>\n",
              "      <td>0</td>\n",
              "      <td>0</td>\n",
              "      <td>0</td>\n",
              "      <td>0</td>\n",
              "      <td>0</td>\n",
              "      <td>0</td>\n",
              "      <td>0</td>\n",
              "      <td>0</td>\n",
              "      <td>0</td>\n",
              "      <td>0</td>\n",
              "      <td>0</td>\n",
              "      <td>0</td>\n",
              "      <td>0</td>\n",
              "      <td>0</td>\n",
              "      <td>0</td>\n",
              "      <td>0</td>\n",
              "      <td>0</td>\n",
              "      <td>0</td>\n",
              "      <td>0</td>\n",
              "      <td>0</td>\n",
              "      <td>0</td>\n",
              "      <td>0</td>\n",
              "      <td>0</td>\n",
              "      <td>0</td>\n",
              "      <td>0</td>\n",
              "      <td>0</td>\n",
              "      <td>0</td>\n",
              "      <td>0</td>\n",
              "      <td>0</td>\n",
              "      <td>0</td>\n",
              "      <td>0</td>\n",
              "      <td>0</td>\n",
              "      <td>0</td>\n",
              "      <td>0</td>\n",
              "      <td>0</td>\n",
              "      <td>0</td>\n",
              "      <td>0</td>\n",
              "    </tr>\n",
              "    <tr>\n",
              "      <th>3</th>\n",
              "      <td>0</td>\n",
              "      <td>0</td>\n",
              "      <td>0</td>\n",
              "      <td>0</td>\n",
              "      <td>0</td>\n",
              "      <td>0</td>\n",
              "      <td>0</td>\n",
              "      <td>0</td>\n",
              "      <td>0</td>\n",
              "      <td>0</td>\n",
              "      <td>0</td>\n",
              "      <td>0</td>\n",
              "      <td>0</td>\n",
              "      <td>0</td>\n",
              "      <td>0</td>\n",
              "      <td>0</td>\n",
              "      <td>0</td>\n",
              "      <td>0</td>\n",
              "      <td>0</td>\n",
              "      <td>0</td>\n",
              "      <td>0</td>\n",
              "      <td>0</td>\n",
              "      <td>0</td>\n",
              "      <td>0</td>\n",
              "      <td>0</td>\n",
              "      <td>0</td>\n",
              "      <td>0</td>\n",
              "      <td>0</td>\n",
              "      <td>0</td>\n",
              "      <td>0</td>\n",
              "      <td>1</td>\n",
              "      <td>0</td>\n",
              "      <td>0</td>\n",
              "      <td>0</td>\n",
              "      <td>0</td>\n",
              "      <td>0</td>\n",
              "      <td>0</td>\n",
              "      <td>0</td>\n",
              "      <td>0</td>\n",
              "      <td>0</td>\n",
              "      <td>...</td>\n",
              "      <td>0</td>\n",
              "      <td>0</td>\n",
              "      <td>0</td>\n",
              "      <td>0</td>\n",
              "      <td>0</td>\n",
              "      <td>0</td>\n",
              "      <td>0</td>\n",
              "      <td>0</td>\n",
              "      <td>0</td>\n",
              "      <td>0</td>\n",
              "      <td>0</td>\n",
              "      <td>0</td>\n",
              "      <td>0</td>\n",
              "      <td>0</td>\n",
              "      <td>0</td>\n",
              "      <td>0</td>\n",
              "      <td>0</td>\n",
              "      <td>0</td>\n",
              "      <td>0</td>\n",
              "      <td>0</td>\n",
              "      <td>0</td>\n",
              "      <td>0</td>\n",
              "      <td>0</td>\n",
              "      <td>0</td>\n",
              "      <td>0</td>\n",
              "      <td>0</td>\n",
              "      <td>0</td>\n",
              "      <td>0</td>\n",
              "      <td>0</td>\n",
              "      <td>0</td>\n",
              "      <td>0</td>\n",
              "      <td>0</td>\n",
              "      <td>0</td>\n",
              "      <td>0</td>\n",
              "      <td>0</td>\n",
              "      <td>0</td>\n",
              "      <td>0</td>\n",
              "      <td>0</td>\n",
              "      <td>0</td>\n",
              "      <td>0</td>\n",
              "    </tr>\n",
              "    <tr>\n",
              "      <th>4</th>\n",
              "      <td>0</td>\n",
              "      <td>0</td>\n",
              "      <td>0</td>\n",
              "      <td>0</td>\n",
              "      <td>0</td>\n",
              "      <td>0</td>\n",
              "      <td>0</td>\n",
              "      <td>0</td>\n",
              "      <td>0</td>\n",
              "      <td>0</td>\n",
              "      <td>0</td>\n",
              "      <td>0</td>\n",
              "      <td>0</td>\n",
              "      <td>0</td>\n",
              "      <td>0</td>\n",
              "      <td>0</td>\n",
              "      <td>0</td>\n",
              "      <td>0</td>\n",
              "      <td>0</td>\n",
              "      <td>0</td>\n",
              "      <td>1</td>\n",
              "      <td>0</td>\n",
              "      <td>0</td>\n",
              "      <td>0</td>\n",
              "      <td>0</td>\n",
              "      <td>0</td>\n",
              "      <td>0</td>\n",
              "      <td>0</td>\n",
              "      <td>0</td>\n",
              "      <td>0</td>\n",
              "      <td>0</td>\n",
              "      <td>1</td>\n",
              "      <td>0</td>\n",
              "      <td>0</td>\n",
              "      <td>0</td>\n",
              "      <td>0</td>\n",
              "      <td>0</td>\n",
              "      <td>0</td>\n",
              "      <td>0</td>\n",
              "      <td>0</td>\n",
              "      <td>...</td>\n",
              "      <td>0</td>\n",
              "      <td>0</td>\n",
              "      <td>0</td>\n",
              "      <td>0</td>\n",
              "      <td>0</td>\n",
              "      <td>0</td>\n",
              "      <td>0</td>\n",
              "      <td>0</td>\n",
              "      <td>0</td>\n",
              "      <td>0</td>\n",
              "      <td>0</td>\n",
              "      <td>0</td>\n",
              "      <td>0</td>\n",
              "      <td>0</td>\n",
              "      <td>0</td>\n",
              "      <td>0</td>\n",
              "      <td>0</td>\n",
              "      <td>0</td>\n",
              "      <td>0</td>\n",
              "      <td>0</td>\n",
              "      <td>0</td>\n",
              "      <td>0</td>\n",
              "      <td>0</td>\n",
              "      <td>0</td>\n",
              "      <td>0</td>\n",
              "      <td>0</td>\n",
              "      <td>0</td>\n",
              "      <td>0</td>\n",
              "      <td>0</td>\n",
              "      <td>0</td>\n",
              "      <td>0</td>\n",
              "      <td>0</td>\n",
              "      <td>0</td>\n",
              "      <td>0</td>\n",
              "      <td>0</td>\n",
              "      <td>0</td>\n",
              "      <td>0</td>\n",
              "      <td>0</td>\n",
              "      <td>0</td>\n",
              "      <td>0</td>\n",
              "    </tr>\n",
              "    <tr>\n",
              "      <th>5</th>\n",
              "      <td>1</td>\n",
              "      <td>0</td>\n",
              "      <td>0</td>\n",
              "      <td>0</td>\n",
              "      <td>0</td>\n",
              "      <td>0</td>\n",
              "      <td>0</td>\n",
              "      <td>0</td>\n",
              "      <td>0</td>\n",
              "      <td>0</td>\n",
              "      <td>0</td>\n",
              "      <td>0</td>\n",
              "      <td>0</td>\n",
              "      <td>0</td>\n",
              "      <td>0</td>\n",
              "      <td>0</td>\n",
              "      <td>0</td>\n",
              "      <td>0</td>\n",
              "      <td>0</td>\n",
              "      <td>0</td>\n",
              "      <td>1</td>\n",
              "      <td>0</td>\n",
              "      <td>0</td>\n",
              "      <td>0</td>\n",
              "      <td>0</td>\n",
              "      <td>0</td>\n",
              "      <td>0</td>\n",
              "      <td>0</td>\n",
              "      <td>0</td>\n",
              "      <td>0</td>\n",
              "      <td>0</td>\n",
              "      <td>0</td>\n",
              "      <td>1</td>\n",
              "      <td>1</td>\n",
              "      <td>0</td>\n",
              "      <td>1</td>\n",
              "      <td>0</td>\n",
              "      <td>0</td>\n",
              "      <td>0</td>\n",
              "      <td>0</td>\n",
              "      <td>...</td>\n",
              "      <td>0</td>\n",
              "      <td>0</td>\n",
              "      <td>0</td>\n",
              "      <td>0</td>\n",
              "      <td>0</td>\n",
              "      <td>0</td>\n",
              "      <td>0</td>\n",
              "      <td>0</td>\n",
              "      <td>0</td>\n",
              "      <td>0</td>\n",
              "      <td>0</td>\n",
              "      <td>0</td>\n",
              "      <td>0</td>\n",
              "      <td>0</td>\n",
              "      <td>0</td>\n",
              "      <td>0</td>\n",
              "      <td>0</td>\n",
              "      <td>0</td>\n",
              "      <td>0</td>\n",
              "      <td>0</td>\n",
              "      <td>0</td>\n",
              "      <td>0</td>\n",
              "      <td>0</td>\n",
              "      <td>0</td>\n",
              "      <td>0</td>\n",
              "      <td>0</td>\n",
              "      <td>0</td>\n",
              "      <td>0</td>\n",
              "      <td>0</td>\n",
              "      <td>0</td>\n",
              "      <td>0</td>\n",
              "      <td>0</td>\n",
              "      <td>0</td>\n",
              "      <td>0</td>\n",
              "      <td>0</td>\n",
              "      <td>0</td>\n",
              "      <td>0</td>\n",
              "      <td>0</td>\n",
              "      <td>0</td>\n",
              "      <td>0</td>\n",
              "    </tr>\n",
              "  </tbody>\n",
              "</table>\n",
              "<p>5 rows × 9724 columns</p>\n",
              "</div>"
            ],
            "text/plain": [
              "movieId  1       2       3       4       ...  193583  193585  193587  193609\n",
              "userId                                   ...                                \n",
              "1             1       0       1       0  ...       0       0       0       0\n",
              "2             0       0       0       0  ...       0       0       0       0\n",
              "3             0       0       0       0  ...       0       0       0       0\n",
              "4             0       0       0       0  ...       0       0       0       0\n",
              "5             1       0       0       0  ...       0       0       0       0\n",
              "\n",
              "[5 rows x 9724 columns]"
            ]
          },
          "metadata": {
            "tags": []
          },
          "execution_count": 83
        }
      ]
    },
    {
      "cell_type": "markdown",
      "metadata": {
        "id": "xOnE5TrCjrua"
      },
      "source": [
        "## Answer"
      ]
    },
    {
      "cell_type": "code",
      "metadata": {
        "id": "SCRKHgnejuUF",
        "colab": {
          "base_uri": "https://localhost:8080/",
          "height": 527
        },
        "outputId": "f18f3565-edc5-4f53-dd24-255639b7f7f0"
      },
      "source": [
        "k = 15\n",
        "g = ratings.groupby('userId')['rating'].count()\n",
        "top_users = g.sort_values(ascending=False)[:k]\n",
        "\n",
        "g = ratings.groupby('movieId')['rating'].count()\n",
        "top_movies = g.sort_values(ascending=False)[:k]\n",
        "\n",
        "top_r = ratings.join(top_users, rsuffix='_r', how='inner', on='userId')\n",
        "top_r = top_r.join(top_movies, rsuffix='_r', how='inner', on='movieId')\n",
        "\n",
        "pd.crosstab(top_r.userId, top_r.movieId, top_r.rating, aggfunc=np.sum)"
      ],
      "execution_count": null,
      "outputs": [
        {
          "output_type": "execute_result",
          "data": {
            "text/html": [
              "<div>\n",
              "<style scoped>\n",
              "    .dataframe tbody tr th:only-of-type {\n",
              "        vertical-align: middle;\n",
              "    }\n",
              "\n",
              "    .dataframe tbody tr th {\n",
              "        vertical-align: top;\n",
              "    }\n",
              "\n",
              "    .dataframe thead th {\n",
              "        text-align: right;\n",
              "    }\n",
              "</style>\n",
              "<table border=\"1\" class=\"dataframe\">\n",
              "  <thead>\n",
              "    <tr style=\"text-align: right;\">\n",
              "      <th>movieId</th>\n",
              "      <th>1</th>\n",
              "      <th>50</th>\n",
              "      <th>110</th>\n",
              "      <th>260</th>\n",
              "      <th>296</th>\n",
              "      <th>318</th>\n",
              "      <th>356</th>\n",
              "      <th>480</th>\n",
              "      <th>527</th>\n",
              "      <th>589</th>\n",
              "      <th>593</th>\n",
              "      <th>1196</th>\n",
              "      <th>2571</th>\n",
              "      <th>2858</th>\n",
              "      <th>2959</th>\n",
              "    </tr>\n",
              "    <tr>\n",
              "      <th>userId</th>\n",
              "      <th></th>\n",
              "      <th></th>\n",
              "      <th></th>\n",
              "      <th></th>\n",
              "      <th></th>\n",
              "      <th></th>\n",
              "      <th></th>\n",
              "      <th></th>\n",
              "      <th></th>\n",
              "      <th></th>\n",
              "      <th></th>\n",
              "      <th></th>\n",
              "      <th></th>\n",
              "      <th></th>\n",
              "      <th></th>\n",
              "    </tr>\n",
              "  </thead>\n",
              "  <tbody>\n",
              "    <tr>\n",
              "      <th>68</th>\n",
              "      <td>2.5</td>\n",
              "      <td>3.0</td>\n",
              "      <td>2.5</td>\n",
              "      <td>5.0</td>\n",
              "      <td>2.0</td>\n",
              "      <td>3.0</td>\n",
              "      <td>3.5</td>\n",
              "      <td>3.5</td>\n",
              "      <td>4.0</td>\n",
              "      <td>3.5</td>\n",
              "      <td>3.5</td>\n",
              "      <td>5.0</td>\n",
              "      <td>4.5</td>\n",
              "      <td>5.0</td>\n",
              "      <td>2.5</td>\n",
              "    </tr>\n",
              "    <tr>\n",
              "      <th>182</th>\n",
              "      <td>4.0</td>\n",
              "      <td>4.5</td>\n",
              "      <td>3.5</td>\n",
              "      <td>3.5</td>\n",
              "      <td>5.0</td>\n",
              "      <td>4.5</td>\n",
              "      <td>5.0</td>\n",
              "      <td>3.5</td>\n",
              "      <td>4.0</td>\n",
              "      <td>2.0</td>\n",
              "      <td>4.5</td>\n",
              "      <td>3.0</td>\n",
              "      <td>5.0</td>\n",
              "      <td>5.0</td>\n",
              "      <td>5.0</td>\n",
              "    </tr>\n",
              "    <tr>\n",
              "      <th>249</th>\n",
              "      <td>4.0</td>\n",
              "      <td>4.0</td>\n",
              "      <td>5.0</td>\n",
              "      <td>5.0</td>\n",
              "      <td>4.0</td>\n",
              "      <td>4.5</td>\n",
              "      <td>4.5</td>\n",
              "      <td>4.0</td>\n",
              "      <td>4.5</td>\n",
              "      <td>4.0</td>\n",
              "      <td>4.0</td>\n",
              "      <td>5.0</td>\n",
              "      <td>5.0</td>\n",
              "      <td>4.5</td>\n",
              "      <td>5.0</td>\n",
              "    </tr>\n",
              "    <tr>\n",
              "      <th>274</th>\n",
              "      <td>4.0</td>\n",
              "      <td>4.0</td>\n",
              "      <td>4.5</td>\n",
              "      <td>3.0</td>\n",
              "      <td>5.0</td>\n",
              "      <td>4.5</td>\n",
              "      <td>4.5</td>\n",
              "      <td>3.5</td>\n",
              "      <td>4.0</td>\n",
              "      <td>4.5</td>\n",
              "      <td>4.0</td>\n",
              "      <td>4.5</td>\n",
              "      <td>4.0</td>\n",
              "      <td>5.0</td>\n",
              "      <td>5.0</td>\n",
              "    </tr>\n",
              "    <tr>\n",
              "      <th>288</th>\n",
              "      <td>4.5</td>\n",
              "      <td>NaN</td>\n",
              "      <td>5.0</td>\n",
              "      <td>5.0</td>\n",
              "      <td>5.0</td>\n",
              "      <td>5.0</td>\n",
              "      <td>5.0</td>\n",
              "      <td>2.0</td>\n",
              "      <td>5.0</td>\n",
              "      <td>4.0</td>\n",
              "      <td>5.0</td>\n",
              "      <td>4.5</td>\n",
              "      <td>3.0</td>\n",
              "      <td>NaN</td>\n",
              "      <td>3.5</td>\n",
              "    </tr>\n",
              "    <tr>\n",
              "      <th>307</th>\n",
              "      <td>4.0</td>\n",
              "      <td>4.5</td>\n",
              "      <td>3.5</td>\n",
              "      <td>3.5</td>\n",
              "      <td>4.5</td>\n",
              "      <td>4.5</td>\n",
              "      <td>4.0</td>\n",
              "      <td>3.5</td>\n",
              "      <td>4.5</td>\n",
              "      <td>2.5</td>\n",
              "      <td>4.5</td>\n",
              "      <td>3.0</td>\n",
              "      <td>3.5</td>\n",
              "      <td>4.0</td>\n",
              "      <td>4.0</td>\n",
              "    </tr>\n",
              "    <tr>\n",
              "      <th>380</th>\n",
              "      <td>5.0</td>\n",
              "      <td>4.0</td>\n",
              "      <td>4.0</td>\n",
              "      <td>5.0</td>\n",
              "      <td>5.0</td>\n",
              "      <td>3.0</td>\n",
              "      <td>5.0</td>\n",
              "      <td>5.0</td>\n",
              "      <td>NaN</td>\n",
              "      <td>5.0</td>\n",
              "      <td>5.0</td>\n",
              "      <td>5.0</td>\n",
              "      <td>4.5</td>\n",
              "      <td>NaN</td>\n",
              "      <td>4.0</td>\n",
              "    </tr>\n",
              "    <tr>\n",
              "      <th>387</th>\n",
              "      <td>NaN</td>\n",
              "      <td>4.5</td>\n",
              "      <td>3.5</td>\n",
              "      <td>4.5</td>\n",
              "      <td>5.0</td>\n",
              "      <td>3.5</td>\n",
              "      <td>4.0</td>\n",
              "      <td>3.0</td>\n",
              "      <td>NaN</td>\n",
              "      <td>3.5</td>\n",
              "      <td>4.0</td>\n",
              "      <td>4.5</td>\n",
              "      <td>4.0</td>\n",
              "      <td>4.5</td>\n",
              "      <td>4.5</td>\n",
              "    </tr>\n",
              "    <tr>\n",
              "      <th>414</th>\n",
              "      <td>4.0</td>\n",
              "      <td>5.0</td>\n",
              "      <td>5.0</td>\n",
              "      <td>5.0</td>\n",
              "      <td>5.0</td>\n",
              "      <td>5.0</td>\n",
              "      <td>5.0</td>\n",
              "      <td>4.0</td>\n",
              "      <td>4.0</td>\n",
              "      <td>5.0</td>\n",
              "      <td>4.0</td>\n",
              "      <td>5.0</td>\n",
              "      <td>5.0</td>\n",
              "      <td>5.0</td>\n",
              "      <td>5.0</td>\n",
              "    </tr>\n",
              "    <tr>\n",
              "      <th>448</th>\n",
              "      <td>5.0</td>\n",
              "      <td>4.0</td>\n",
              "      <td>NaN</td>\n",
              "      <td>5.0</td>\n",
              "      <td>5.0</td>\n",
              "      <td>NaN</td>\n",
              "      <td>3.0</td>\n",
              "      <td>3.0</td>\n",
              "      <td>NaN</td>\n",
              "      <td>3.0</td>\n",
              "      <td>5.0</td>\n",
              "      <td>5.0</td>\n",
              "      <td>2.0</td>\n",
              "      <td>4.0</td>\n",
              "      <td>4.0</td>\n",
              "    </tr>\n",
              "    <tr>\n",
              "      <th>474</th>\n",
              "      <td>4.0</td>\n",
              "      <td>4.0</td>\n",
              "      <td>3.0</td>\n",
              "      <td>4.0</td>\n",
              "      <td>4.0</td>\n",
              "      <td>5.0</td>\n",
              "      <td>3.0</td>\n",
              "      <td>4.5</td>\n",
              "      <td>5.0</td>\n",
              "      <td>4.0</td>\n",
              "      <td>4.5</td>\n",
              "      <td>5.0</td>\n",
              "      <td>4.5</td>\n",
              "      <td>3.5</td>\n",
              "      <td>4.0</td>\n",
              "    </tr>\n",
              "    <tr>\n",
              "      <th>599</th>\n",
              "      <td>3.0</td>\n",
              "      <td>3.5</td>\n",
              "      <td>3.5</td>\n",
              "      <td>5.0</td>\n",
              "      <td>5.0</td>\n",
              "      <td>4.0</td>\n",
              "      <td>3.5</td>\n",
              "      <td>4.0</td>\n",
              "      <td>NaN</td>\n",
              "      <td>4.5</td>\n",
              "      <td>3.0</td>\n",
              "      <td>5.0</td>\n",
              "      <td>5.0</td>\n",
              "      <td>5.0</td>\n",
              "      <td>5.0</td>\n",
              "    </tr>\n",
              "    <tr>\n",
              "      <th>603</th>\n",
              "      <td>4.0</td>\n",
              "      <td>NaN</td>\n",
              "      <td>1.0</td>\n",
              "      <td>4.0</td>\n",
              "      <td>5.0</td>\n",
              "      <td>NaN</td>\n",
              "      <td>3.0</td>\n",
              "      <td>NaN</td>\n",
              "      <td>3.0</td>\n",
              "      <td>NaN</td>\n",
              "      <td>5.0</td>\n",
              "      <td>3.0</td>\n",
              "      <td>5.0</td>\n",
              "      <td>5.0</td>\n",
              "      <td>4.0</td>\n",
              "    </tr>\n",
              "    <tr>\n",
              "      <th>606</th>\n",
              "      <td>2.5</td>\n",
              "      <td>4.5</td>\n",
              "      <td>3.5</td>\n",
              "      <td>4.5</td>\n",
              "      <td>5.0</td>\n",
              "      <td>3.5</td>\n",
              "      <td>4.0</td>\n",
              "      <td>2.5</td>\n",
              "      <td>5.0</td>\n",
              "      <td>3.5</td>\n",
              "      <td>4.5</td>\n",
              "      <td>4.5</td>\n",
              "      <td>5.0</td>\n",
              "      <td>4.5</td>\n",
              "      <td>5.0</td>\n",
              "    </tr>\n",
              "    <tr>\n",
              "      <th>610</th>\n",
              "      <td>5.0</td>\n",
              "      <td>4.0</td>\n",
              "      <td>4.5</td>\n",
              "      <td>5.0</td>\n",
              "      <td>5.0</td>\n",
              "      <td>3.0</td>\n",
              "      <td>3.0</td>\n",
              "      <td>5.0</td>\n",
              "      <td>3.5</td>\n",
              "      <td>5.0</td>\n",
              "      <td>4.5</td>\n",
              "      <td>5.0</td>\n",
              "      <td>5.0</td>\n",
              "      <td>3.5</td>\n",
              "      <td>5.0</td>\n",
              "    </tr>\n",
              "  </tbody>\n",
              "</table>\n",
              "</div>"
            ],
            "text/plain": [
              "movieId  1     50    110   260   296   318   ...  589   593   1196  2571  2858  2959\n",
              "userId                                       ...                                    \n",
              "68        2.5   3.0   2.5   5.0   2.0   3.0  ...   3.5   3.5   5.0   4.5   5.0   2.5\n",
              "182       4.0   4.5   3.5   3.5   5.0   4.5  ...   2.0   4.5   3.0   5.0   5.0   5.0\n",
              "249       4.0   4.0   5.0   5.0   4.0   4.5  ...   4.0   4.0   5.0   5.0   4.5   5.0\n",
              "274       4.0   4.0   4.5   3.0   5.0   4.5  ...   4.5   4.0   4.5   4.0   5.0   5.0\n",
              "288       4.5   NaN   5.0   5.0   5.0   5.0  ...   4.0   5.0   4.5   3.0   NaN   3.5\n",
              "307       4.0   4.5   3.5   3.5   4.5   4.5  ...   2.5   4.5   3.0   3.5   4.0   4.0\n",
              "380       5.0   4.0   4.0   5.0   5.0   3.0  ...   5.0   5.0   5.0   4.5   NaN   4.0\n",
              "387       NaN   4.5   3.5   4.5   5.0   3.5  ...   3.5   4.0   4.5   4.0   4.5   4.5\n",
              "414       4.0   5.0   5.0   5.0   5.0   5.0  ...   5.0   4.0   5.0   5.0   5.0   5.0\n",
              "448       5.0   4.0   NaN   5.0   5.0   NaN  ...   3.0   5.0   5.0   2.0   4.0   4.0\n",
              "474       4.0   4.0   3.0   4.0   4.0   5.0  ...   4.0   4.5   5.0   4.5   3.5   4.0\n",
              "599       3.0   3.5   3.5   5.0   5.0   4.0  ...   4.5   3.0   5.0   5.0   5.0   5.0\n",
              "603       4.0   NaN   1.0   4.0   5.0   NaN  ...   NaN   5.0   3.0   5.0   5.0   4.0\n",
              "606       2.5   4.5   3.5   4.5   5.0   3.5  ...   3.5   4.5   4.5   5.0   4.5   5.0\n",
              "610       5.0   4.0   4.5   5.0   5.0   3.0  ...   5.0   4.5   5.0   5.0   3.5   5.0\n",
              "\n",
              "[15 rows x 15 columns]"
            ]
          },
          "metadata": {
            "tags": []
          },
          "execution_count": 7
        }
      ]
    },
    {
      "cell_type": "markdown",
      "metadata": {
        "id": "_Mtw8-J_jv-H"
      },
      "source": [
        "## Excercise\n",
        "\n",
        "Encode the user id, and movie id categorical variables, using sklean LabelEncoder to be used with the Embedding layer."
      ]
    },
    {
      "cell_type": "markdown",
      "metadata": {
        "id": "DsZiquwGj9c8"
      },
      "source": [
        "## Answer"
      ]
    },
    {
      "cell_type": "code",
      "metadata": {
        "id": "7oA-inQ8j72c",
        "colab": {
          "base_uri": "https://localhost:8080/",
          "height": 34
        },
        "outputId": "c33a2809-d316-4c63-82cc-54f7c5e4eb4e"
      },
      "source": [
        "user_enc = LabelEncoder()\n",
        "ratings['user'] = user_enc.fit_transform(ratings.userId.values)\n",
        "n_users = ratings['user'].nunique()\n",
        "\n",
        "item_enc = LabelEncoder()\n",
        "ratings['movie'] = user_enc.fit_transform(ratings.movieId.values)\n",
        "n_movies = ratings['movie'].nunique()\n",
        "\n",
        "ratings['rating'] = ratings['rating'].values.astype(np.float32)\n",
        "min_rating = min(ratings['rating'])\n",
        "max_rating = max(ratings['rating'])\n",
        "\n",
        "n_users, n_movies, min_rating, max_rating"
      ],
      "execution_count": null,
      "outputs": [
        {
          "output_type": "execute_result",
          "data": {
            "text/plain": [
              "(610, 9724, 0.5, 5.0)"
            ]
          },
          "metadata": {
            "tags": []
          },
          "execution_count": 8
        }
      ]
    },
    {
      "cell_type": "markdown",
      "metadata": {
        "id": "hYqDNCNPkB0T"
      },
      "source": [
        "## Excercise\n",
        "\n",
        "Build the collaborative filtering model, using keras Embedding and Dot layers"
      ]
    },
    {
      "cell_type": "markdown",
      "metadata": {
        "id": "y9I34D3tkKkS"
      },
      "source": [
        "## Answer"
      ]
    },
    {
      "cell_type": "code",
      "metadata": {
        "id": "KYE4PuXlkLWV",
        "colab": {
          "base_uri": "https://localhost:8080/",
          "height": 831
        },
        "outputId": "e880dc44-93a5-492e-db56-565ed6cce7df"
      },
      "source": [
        "# Number of latent factors\n",
        "emb_sz = 50\n",
        "\n",
        "# User embeddings\n",
        "user = layers.Input(shape=(1,), name='user_id')\n",
        "user_emb = layers.Embedding(n_users, emb_sz, embeddings_regularizer=regularizers.l2(1e-6), name='user_embedding_LUT')(user)\n",
        "user_emb = layers.Reshape((emb_sz,))(user_emb)\n",
        "\n",
        "# Movie embeddings\n",
        "movie = layers.Input(shape=(1,), name='movie_id')\n",
        "movie_emb = layers.Embedding(n_movies, emb_sz, embeddings_regularizer=regularizers.l2(1e-6), name='movie_embedding_LUT')(movie)\n",
        "movie_emb = layers.Reshape((emb_sz,))(movie_emb)\n",
        "\n",
        "# Dot product\n",
        "rating = layers.Dot(axes=1, name='similarity_measure')([user_emb, movie_emb])\n",
        "\n",
        "\n",
        "# Model\n",
        "model = models.Model([user, movie], rating)\n",
        "\n",
        "# Compile the model\n",
        "model.compile(loss='mse',  metrics=metrics.RootMeanSquaredError(),\n",
        "              optimizer=optimizers.Adam(lr=0.001))\n",
        "\n",
        "# Show model summary\n",
        "model.summary()\n",
        "plot_model(model, show_shapes=True, show_layer_names=True)"
      ],
      "execution_count": null,
      "outputs": [
        {
          "output_type": "stream",
          "text": [
            "Model: \"model_2\"\n",
            "__________________________________________________________________________________________________\n",
            "Layer (type)                    Output Shape         Param #     Connected to                     \n",
            "==================================================================================================\n",
            "user_id (InputLayer)            [(None, 1)]          0                                            \n",
            "__________________________________________________________________________________________________\n",
            "movie_id (InputLayer)           [(None, 1)]          0                                            \n",
            "__________________________________________________________________________________________________\n",
            "user_embedding_LUT (Embedding)  (None, 1, 50)        30500       user_id[0][0]                    \n",
            "__________________________________________________________________________________________________\n",
            "movie_embedding_LUT (Embedding) (None, 1, 50)        486200      movie_id[0][0]                   \n",
            "__________________________________________________________________________________________________\n",
            "reshape_6 (Reshape)             (None, 50)           0           user_embedding_LUT[0][0]         \n",
            "__________________________________________________________________________________________________\n",
            "reshape_7 (Reshape)             (None, 50)           0           movie_embedding_LUT[0][0]        \n",
            "__________________________________________________________________________________________________\n",
            "similarity_measure (Dot)        (None, 1)            0           reshape_6[0][0]                  \n",
            "                                                                 reshape_7[0][0]                  \n",
            "==================================================================================================\n",
            "Total params: 516,700\n",
            "Trainable params: 516,700\n",
            "Non-trainable params: 0\n",
            "__________________________________________________________________________________________________\n"
          ],
          "name": "stdout"
        },
        {
          "output_type": "execute_result",
          "data": {
            "image/png": "[encoded data removed]",
            "text/plain": [
              "<IPython.core.display.Image object>"
            ]
          },
          "metadata": {
            "tags": []
          },
          "execution_count": 13
        }
      ]
    },
    {
      "cell_type": "markdown",
      "metadata": {
        "id": "_zuGCDPpkg9r"
      },
      "source": [
        "## Excercise\n",
        "Extract the train and test data for MovieLens"
      ]
    },
    {
      "cell_type": "code",
      "metadata": {
        "id": "9cNU0j2Oklqs",
        "colab": {
          "base_uri": "https://localhost:8080/",
          "height": 50
        },
        "outputId": "91af022f-2010-40d0-bc70-ee4746e1c705"
      },
      "source": [
        "X = ratings[['user', 'movie']].values\n",
        "y = ratings['rating'].values\n",
        "X_train, X_test, y_train, y_test = train_test_split(X, y, test_size=0.1, random_state=42)\n",
        "\n",
        "print(X_train.shape, y_train.shape)\n",
        "print(X_test.shape, y_test.shape)"
      ],
      "execution_count": null,
      "outputs": [
        {
          "output_type": "stream",
          "text": [
            "(90752, 2) (90752,)\n",
            "(10084, 2) (10084,)\n"
          ],
          "name": "stdout"
        }
      ]
    },
    {
      "cell_type": "markdown",
      "metadata": {
        "id": "3Uw8YuDKkP83"
      },
      "source": [
        "## Excercise\n",
        "Compile and train the model on MovieLens dataset"
      ]
    },
    {
      "cell_type": "markdown",
      "metadata": {
        "id": "zOaw1mRekUwL"
      },
      "source": [
        "## Answer"
      ]
    },
    {
      "cell_type": "code",
      "metadata": {
        "id": "6DdJvqX_kpeG",
        "colab": {
          "base_uri": "https://localhost:8080/",
          "height": 255
        },
        "outputId": "842ff131-b2df-485f-a615-72abff4dd101"
      },
      "source": [
        "# Compile the model\n",
        "model.compile(loss='mse',  metrics=metrics.RootMeanSquaredError(),\n",
        "              optimizer=optimizers.Adam(lr=0.001))\n",
        "model.fit(x=[X_train[:,0], X_train[:,1]], y=y_train,\n",
        "          batch_size=64, epochs=5, verbose=1,\n",
        "          validation_data=([X_test[:,0], X_test[:,1]], y_test))"
      ],
      "execution_count": null,
      "outputs": [
        {
          "output_type": "stream",
          "text": [
            "Epoch 1/5\n"
          ],
          "name": "stdout"
        },
        {
          "output_type": "stream",
          "text": [
            "/usr/local/lib/python3.6/dist-packages/tensorflow/python/framework/indexed_slices.py:434: UserWarning: Converting sparse IndexedSlices to a dense Tensor of unknown shape. This may consume a large amount of memory.\n",
            "  \"Converting sparse IndexedSlices to a dense Tensor of unknown shape. \"\n"
          ],
          "name": "stderr"
        },
        {
          "output_type": "stream",
          "text": [
            "1418/1418 [==============================] - 5s 4ms/step - loss: 9.3721 - root_mean_squared_error: 3.0611 - val_loss: 3.2083 - val_root_mean_squared_error: 1.7907\n",
            "Epoch 2/5\n",
            "1418/1418 [==============================] - 5s 3ms/step - loss: 1.9927 - root_mean_squared_error: 1.4088 - val_loss: 1.6493 - val_root_mean_squared_error: 1.2814\n",
            "Epoch 3/5\n",
            "1418/1418 [==============================] - 5s 3ms/step - loss: 1.1534 - root_mean_squared_error: 1.0687 - val_loss: 1.3665 - val_root_mean_squared_error: 1.1643\n",
            "Epoch 4/5\n",
            "1418/1418 [==============================] - 5s 3ms/step - loss: 0.8975 - root_mean_squared_error: 0.9403 - val_loss: 1.2743 - val_root_mean_squared_error: 1.1231\n",
            "Epoch 5/5\n",
            "1418/1418 [==============================] - 5s 3ms/step - loss: 0.7693 - root_mean_squared_error: 0.8686 - val_loss: 1.2384 - val_root_mean_squared_error: 1.1065\n"
          ],
          "name": "stdout"
        },
        {
          "output_type": "execute_result",
          "data": {
            "text/plain": [
              "<tensorflow.python.keras.callbacks.History at 0x7fb1c89db748>"
            ]
          },
          "metadata": {
            "tags": []
          },
          "execution_count": 89
        }
      ]
    },
    {
      "cell_type": "markdown",
      "metadata": {
        "id": "HcJG_Stew-zK"
      },
      "source": [
        "# Chapter 4: Improving the recommendation engine and analysis"
      ]
    },
    {
      "cell_type": "markdown",
      "metadata": {
        "id": "08uFg43dxRZM"
      },
      "source": [
        "## Lesson 1: Scaling the model output with sigmoid"
      ]
    },
    {
      "cell_type": "markdown",
      "metadata": {
        "id": "p5OzYf4hxXWq"
      },
      "source": [
        "## Learning Objectives:\n",
        "- Learner will be able to beat the SoTA benchmarks of the best recommender engine on MovieLens.\n",
        "- Learner will be able to improve the recommendation engine by scaling the output of the model according to the range of ratings.\n"
      ]
    },
    {
      "cell_type": "markdown",
      "metadata": {
        "id": "qBPNly5WxzH6"
      },
      "source": [
        "## Excercise\n",
        "\n",
        "To help the model to scale the output within the required range, we pass the output of the Dot product to a sigmoid, which ranges from [0,1], then we scale that up to the range of min_rating to max_rating."
      ]
    },
    {
      "cell_type": "markdown",
      "metadata": {
        "id": "Um3vOOaHx2e9"
      },
      "source": [
        "## Answer"
      ]
    },
    {
      "cell_type": "code",
      "metadata": {
        "id": "7mjE_ty9x3ak",
        "colab": {
          "base_uri": "https://localhost:8080/",
          "height": 1000
        },
        "outputId": "6973f351-a09e-4f2b-d2e9-ea54dcf622da"
      },
      "source": [
        "# Number of latent factors\n",
        "emb_sz = 50\n",
        "\n",
        "# User embeddings\n",
        "user = layers.Input(shape=(1,))\n",
        "user_emb = layers.Embedding(n_users, emb_sz, embeddings_regularizer=regularizers.l2(1e-6))(user)\n",
        "user_emb = layers.Reshape((emb_sz,))(user_emb)\n",
        "\n",
        "# Movie embeddings\n",
        "movie = layers.Input(shape=(1,))\n",
        "movie_emb = layers.Embedding(n_movies, emb_sz, embeddings_regularizer=regularizers.l2(1e-6))(movie)\n",
        "movie_emb = layers.Reshape((emb_sz,))(movie_emb)\n",
        "\n",
        "# Dot product\n",
        "rating = layers.Dot(axes=1)([user_emb, movie_emb])\n",
        "rating = layers.Activation('sigmoid')(rating)\n",
        "rating = layers.Lambda(lambda x:x*(max_rating - min_rating) + min_rating)(rating)\n",
        "\n",
        "# Model\n",
        "model = models.Model([user, movie], rating)\n",
        "\n",
        "# Compile the model\n",
        "model.compile(loss='mse', metrics=metrics.RootMeanSquaredError(),\n",
        "              optimizer=optimizers.Adam(lr=0.001))\n",
        "\n",
        "# Show model summary\n",
        "model.summary()\n",
        "plot_model(model)"
      ],
      "execution_count": null,
      "outputs": [
        {
          "output_type": "stream",
          "text": [
            "Model: \"model_7\"\n",
            "__________________________________________________________________________________________________\n",
            "Layer (type)                    Output Shape         Param #     Connected to                     \n",
            "==================================================================================================\n",
            "input_15 (InputLayer)           [(None, 1)]          0                                            \n",
            "__________________________________________________________________________________________________\n",
            "input_16 (InputLayer)           [(None, 1)]          0                                            \n",
            "__________________________________________________________________________________________________\n",
            "embedding_13 (Embedding)        (None, 1, 50)        30500       input_15[0][0]                   \n",
            "__________________________________________________________________________________________________\n",
            "embedding_14 (Embedding)        (None, 1, 50)        486200      input_16[0][0]                   \n",
            "__________________________________________________________________________________________________\n",
            "reshape_2 (Reshape)             (None, 50)           0           embedding_13[0][0]               \n",
            "__________________________________________________________________________________________________\n",
            "reshape_3 (Reshape)             (None, 50)           0           embedding_14[0][0]               \n",
            "__________________________________________________________________________________________________\n",
            "dot_2 (Dot)                     (None, 1)            0           reshape_2[0][0]                  \n",
            "                                                                 reshape_3[0][0]                  \n",
            "__________________________________________________________________________________________________\n",
            "activation (Activation)         (None, 1)            0           dot_2[0][0]                      \n",
            "__________________________________________________________________________________________________\n",
            "lambda (Lambda)                 (None, 1)            0           activation[0][0]                 \n",
            "==================================================================================================\n",
            "Total params: 516,700\n",
            "Trainable params: 516,700\n",
            "Non-trainable params: 0\n",
            "__________________________________________________________________________________________________\n"
          ],
          "name": "stdout"
        },
        {
          "output_type": "execute_result",
          "data": {
            "image/png": "[encoded data removed]",
            "text/plain": [
              "<IPython.core.display.Image object>"
            ]
          },
          "metadata": {
            "tags": []
          },
          "execution_count": 90
        }
      ]
    },
    {
      "cell_type": "markdown",
      "metadata": {
        "id": "p9AHLIFAx9ao"
      },
      "source": [
        "Not part of the answer"
      ]
    },
    {
      "cell_type": "code",
      "metadata": {
        "id": "9YzzgAKux_r8",
        "colab": {
          "base_uri": "https://localhost:8080/",
          "height": 255
        },
        "outputId": "a32c431e-3436-4465-d8ef-d371df415318"
      },
      "source": [
        "model.fit(x=[X_train[:,0], X_train[:,1]], y=y_train,\n",
        "          batch_size=64, epochs=5, verbose=1,\n",
        "          validation_data=([X_test[:,0], X_test[:,1]], y_test))"
      ],
      "execution_count": null,
      "outputs": [
        {
          "output_type": "stream",
          "text": [
            "Epoch 1/5\n"
          ],
          "name": "stdout"
        },
        {
          "output_type": "stream",
          "text": [
            "/usr/local/lib/python3.6/dist-packages/tensorflow/python/framework/indexed_slices.py:434: UserWarning: Converting sparse IndexedSlices to a dense Tensor of unknown shape. This may consume a large amount of memory.\n",
            "  \"Converting sparse IndexedSlices to a dense Tensor of unknown shape. \"\n"
          ],
          "name": "stderr"
        },
        {
          "output_type": "stream",
          "text": [
            "1418/1418 [==============================] - 5s 3ms/step - loss: 1.4039 - root_mean_squared_error: 1.1846 - val_loss: 0.9433 - val_root_mean_squared_error: 0.9704\n",
            "Epoch 2/5\n",
            "1418/1418 [==============================] - 5s 3ms/step - loss: 0.7723 - root_mean_squared_error: 0.8773 - val_loss: 0.8003 - val_root_mean_squared_error: 0.8927\n",
            "Epoch 3/5\n",
            "1418/1418 [==============================] - 5s 3ms/step - loss: 0.5954 - root_mean_squared_error: 0.7689 - val_loss: 0.7749 - val_root_mean_squared_error: 0.8774\n",
            "Epoch 4/5\n",
            "1418/1418 [==============================] - 5s 3ms/step - loss: 0.4743 - root_mean_squared_error: 0.6845 - val_loss: 0.7739 - val_root_mean_squared_error: 0.8761\n",
            "Epoch 5/5\n",
            "1418/1418 [==============================] - 6s 4ms/step - loss: 0.3797 - root_mean_squared_error: 0.6105 - val_loss: 0.7837 - val_root_mean_squared_error: 0.8808\n"
          ],
          "name": "stdout"
        },
        {
          "output_type": "execute_result",
          "data": {
            "text/plain": [
              "<tensorflow.python.keras.callbacks.History at 0x7fb19b5aeac8>"
            ]
          },
          "metadata": {
            "tags": []
          },
          "execution_count": 91
        }
      ]
    },
    {
      "cell_type": "markdown",
      "metadata": {
        "id": "XeEedD-PyM3s"
      },
      "source": [
        "## Lesson 2: Adding user and movie biases"
      ]
    },
    {
      "cell_type": "markdown",
      "metadata": {
        "id": "ZBzHL74byTQG"
      },
      "source": [
        "## Learning Objectives\n",
        "\n",
        "- Learner will be able to incorporate users and movies priors (biases) in the model.\n",
        "- Learner will be able to incorporate extra meta data as information to the model."
      ]
    },
    {
      "cell_type": "markdown",
      "metadata": {
        "id": "iDz71kkQy_UL"
      },
      "source": [
        "## Excercise\n",
        "\n",
        "Build the model that accounts for movie and user bias"
      ]
    },
    {
      "cell_type": "code",
      "metadata": {
        "id": "1zpPsNRIzDwt",
        "colab": {
          "base_uri": "https://localhost:8080/",
          "height": 1000
        },
        "outputId": "fa76cb41-b572-4aad-be53-cc875d15e486"
      },
      "source": [
        "# Number of latent factors\n",
        "emb_sz = 50\n",
        "\n",
        "# User embeddings\n",
        "user = layers.Input(shape=(1),name='user_id')\n",
        "user_emb = layers.Embedding(n_users, emb_sz, embeddings_regularizer=regularizers.l2(1e-6),name='user_embedding')(user)\n",
        "user_emb = layers.Reshape((emb_sz,))(user_emb)\n",
        "\n",
        "# User bias\n",
        "user_bias = layers.Embedding(n_users, 1, embeddings_regularizer=regularizers.l2(1e-6),name='user_bias')(user)\n",
        "user_bias = layers.Reshape((1,))(user_bias)\n",
        "\n",
        "# Movie embeddings\n",
        "movie = layers.Input(shape=(1,),name='movie_id')\n",
        "movie_emb = layers.Embedding(n_movies, emb_sz, embeddings_regularizer=regularizers.l2(1e-6),name='movie_embedding')(movie)\n",
        "movie_emb = layers.Reshape((emb_sz,))(movie_emb)\n",
        "\n",
        "# Movie bias\n",
        "movie_bias = layers.Embedding(n_movies, 1, embeddings_regularizer=regularizers.l2(1e-6),name='movie_bias')(movie)\n",
        "movie_bias = layers.Reshape((1,))(movie_bias)\n",
        "\n",
        "# Dot product\n",
        "rating = layers.Dot(axes=1,name='similarity_measure')([user_emb, movie_emb])\n",
        "\n",
        "# Add biases\n",
        "rating = layers.Add()([rating, user_bias, movie_bias])\n",
        "rating = layers.Activation('sigmoid',name='rating_scaling')(rating)\n",
        "rating = layers.Lambda(lambda x:x*(max_rating - min_rating) + min_rating)(rating)\n",
        "\n",
        "# Model\n",
        "model = models.Model([user, movie], rating)\n",
        "\n",
        "# Compile the model\n",
        "model.compile(loss='mse', metrics=metrics.RootMeanSquaredError(),\n",
        "              optimizer=optimizers.Adam(lr=0.001))\n",
        "\n",
        "# Show model summary\n",
        "print(model.summary())\n",
        "plot_model(model, to_file='model.png')"
      ],
      "execution_count": null,
      "outputs": [
        {
          "output_type": "stream",
          "text": [
            "Model: \"model_4\"\n",
            "__________________________________________________________________________________________________\n",
            "Layer (type)                    Output Shape         Param #     Connected to                     \n",
            "==================================================================================================\n",
            "user_id (InputLayer)            [(None, 1)]          0                                            \n",
            "__________________________________________________________________________________________________\n",
            "movie_id (InputLayer)           [(None, 1)]          0                                            \n",
            "__________________________________________________________________________________________________\n",
            "user_embedding (Embedding)      (None, 1, 50)        30500       user_id[0][0]                    \n",
            "__________________________________________________________________________________________________\n",
            "movie_embedding (Embedding)     (None, 1, 50)        486200      movie_id[0][0]                   \n",
            "__________________________________________________________________________________________________\n",
            "reshape_12 (Reshape)            (None, 50)           0           user_embedding[0][0]             \n",
            "__________________________________________________________________________________________________\n",
            "reshape_14 (Reshape)            (None, 50)           0           movie_embedding[0][0]            \n",
            "__________________________________________________________________________________________________\n",
            "user_bias (Embedding)           (None, 1, 1)         610         user_id[0][0]                    \n",
            "__________________________________________________________________________________________________\n",
            "movie_bias (Embedding)          (None, 1, 1)         9724        movie_id[0][0]                   \n",
            "__________________________________________________________________________________________________\n",
            "similarity_measure (Dot)        (None, 1)            0           reshape_12[0][0]                 \n",
            "                                                                 reshape_14[0][0]                 \n",
            "__________________________________________________________________________________________________\n",
            "reshape_13 (Reshape)            (None, 1)            0           user_bias[0][0]                  \n",
            "__________________________________________________________________________________________________\n",
            "reshape_15 (Reshape)            (None, 1)            0           movie_bias[0][0]                 \n",
            "__________________________________________________________________________________________________\n",
            "add_1 (Add)                     (None, 1)            0           similarity_measure[0][0]         \n",
            "                                                                 reshape_13[0][0]                 \n",
            "                                                                 reshape_15[0][0]                 \n",
            "__________________________________________________________________________________________________\n",
            "rating_scaling (Activation)     (None, 1)            0           add_1[0][0]                      \n",
            "__________________________________________________________________________________________________\n",
            "lambda_1 (Lambda)               (None, 1)            0           rating_scaling[0][0]             \n",
            "==================================================================================================\n",
            "Total params: 527,034\n",
            "Trainable params: 527,034\n",
            "Non-trainable params: 0\n",
            "__________________________________________________________________________________________________\n",
            "None\n"
          ],
          "name": "stdout"
        },
        {
          "output_type": "execute_result",
          "data": {
            "image/png": "[encoded data removed]",
            "text/plain": [
              "<IPython.core.display.Image object>"
            ]
          },
          "metadata": {
            "tags": []
          },
          "execution_count": 15
        }
      ]
    },
    {
      "cell_type": "code",
      "metadata": {
        "id": "9r811e8IzGvL",
        "colab": {
          "base_uri": "https://localhost:8080/",
          "height": 255
        },
        "outputId": "eab86eea-ee6e-4bf7-f78d-306cee272771"
      },
      "source": [
        "model.fit(x=[X_train[:,0], X_train[:,1]], y=y_train,\n",
        "          batch_size=64, epochs=5, verbose=1,\n",
        "          validation_data=([X_test[:,0], X_test[:,1]], y_test))"
      ],
      "execution_count": null,
      "outputs": [
        {
          "output_type": "stream",
          "text": [
            "Epoch 1/5\n"
          ],
          "name": "stdout"
        },
        {
          "output_type": "stream",
          "text": [
            "/usr/local/lib/python3.6/dist-packages/tensorflow/python/framework/indexed_slices.py:434: UserWarning: Converting sparse IndexedSlices to a dense Tensor of unknown shape. This may consume a large amount of memory.\n",
            "  \"Converting sparse IndexedSlices to a dense Tensor of unknown shape. \"\n"
          ],
          "name": "stderr"
        },
        {
          "output_type": "stream",
          "text": [
            "1418/1418 [==============================] - 5s 3ms/step - loss: 1.2040 - root_mean_squared_error: 1.0970 - val_loss: 0.8552 - val_root_mean_squared_error: 0.9240\n",
            "Epoch 2/5\n",
            "1418/1418 [==============================] - 5s 3ms/step - loss: 0.7081 - root_mean_squared_error: 0.8402 - val_loss: 0.7499 - val_root_mean_squared_error: 0.8642\n",
            "Epoch 3/5\n",
            "1418/1418 [==============================] - 5s 3ms/step - loss: 0.5480 - root_mean_squared_error: 0.7378 - val_loss: 0.7285 - val_root_mean_squared_error: 0.8507\n",
            "Epoch 4/5\n",
            "1418/1418 [==============================] - 5s 3ms/step - loss: 0.4219 - root_mean_squared_error: 0.6456 - val_loss: 0.7321 - val_root_mean_squared_error: 0.8519\n",
            "Epoch 5/5\n",
            "1418/1418 [==============================] - 5s 3ms/step - loss: 0.3254 - root_mean_squared_error: 0.5648 - val_loss: 0.7450 - val_root_mean_squared_error: 0.8587\n"
          ],
          "name": "stdout"
        },
        {
          "output_type": "execute_result",
          "data": {
            "text/plain": [
              "<tensorflow.python.keras.callbacks.History at 0x7fb1c8ff29b0>"
            ]
          },
          "metadata": {
            "tags": []
          },
          "execution_count": 93
        }
      ]
    },
    {
      "cell_type": "markdown",
      "metadata": {
        "id": "BpyaCPEozINu"
      },
      "source": [
        "## Lesson 3: Going deeper\n",
        "- Learner will be able to use Dense layers to build deeper models.\n"
      ]
    },
    {
      "cell_type": "markdown",
      "metadata": {
        "id": "Qc4Ds17uzZpC"
      },
      "source": [
        "## Excercise\n",
        "\n",
        "Build a deeper model by adding Dense layer before the output"
      ]
    },
    {
      "cell_type": "markdown",
      "metadata": {
        "id": "KHhUuQUS0EVw"
      },
      "source": [
        "## Answer"
      ]
    },
    {
      "cell_type": "code",
      "metadata": {
        "id": "4owcfgtu0FLt",
        "colab": {
          "base_uri": "https://localhost:8080/",
          "height": 1000
        },
        "outputId": "3c562c83-f0d9-407b-98a3-ce139adac14e"
      },
      "source": [
        "# Number of latent factors\n",
        "emb_sz = 50\n",
        "\n",
        "# User embeddings\n",
        "user = layers.Input(shape=(1,))\n",
        "user_emb = layers.Embedding(n_users, emb_sz)(user)\n",
        "user_emb = layers.Reshape((emb_sz,))(user_emb)\n",
        "\n",
        "# User bias\n",
        "user_bias = layers.Embedding(n_users, 1)(user)\n",
        "user_bias = layers.Reshape((1,))(user_bias)\n",
        "\n",
        "# Movie embeddings\n",
        "movie = layers.Input(shape=(1,))\n",
        "movie_emb = layers.Embedding(n_movies, emb_sz)(movie)\n",
        "movie_emb = layers.Reshape((emb_sz,))(movie_emb)\n",
        "\n",
        "# Movie bias\n",
        "movie_bias = layers.Embedding(n_movies, 1)(movie)\n",
        "movie_bias = layers.Reshape((1,))(movie_bias)\n",
        "\n",
        "# Dot product\n",
        "rating = layers.Concatenate()([user_emb, movie_emb])\n",
        "\n",
        "# Add biases\n",
        "rating = layers.Add()([rating, user_bias, movie_bias])\n",
        "rating = layers.Dense(10, activation='relu')(rating)\n",
        "rating = layers.Dense(1, activation='sigmoid')(rating)\n",
        "rating = layers.Lambda(lambda x:x*(max_rating - min_rating) + min_rating)(rating)\n",
        "\n",
        "# Model\n",
        "model = models.Model([user, movie], rating)\n",
        "\n",
        "# Compile the model\n",
        "model.compile(loss='mse',  metrics=metrics.RootMeanSquaredError(),\n",
        "              optimizer=optimizers.Adam(lr=0.001))\n",
        "\n",
        "# Show model summary\n",
        "print(model.summary())\n",
        "plot_model(model, to_file='model.png')"
      ],
      "execution_count": null,
      "outputs": [
        {
          "output_type": "stream",
          "text": [
            "Model: \"model_9\"\n",
            "__________________________________________________________________________________________________\n",
            "Layer (type)                    Output Shape         Param #     Connected to                     \n",
            "==================================================================================================\n",
            "input_19 (InputLayer)           [(None, 1)]          0                                            \n",
            "__________________________________________________________________________________________________\n",
            "input_20 (InputLayer)           [(None, 1)]          0                                            \n",
            "__________________________________________________________________________________________________\n",
            "embedding_19 (Embedding)        (None, 1, 50)        30500       input_19[0][0]                   \n",
            "__________________________________________________________________________________________________\n",
            "embedding_21 (Embedding)        (None, 1, 50)        486200      input_20[0][0]                   \n",
            "__________________________________________________________________________________________________\n",
            "reshape_8 (Reshape)             (None, 50)           0           embedding_19[0][0]               \n",
            "__________________________________________________________________________________________________\n",
            "reshape_10 (Reshape)            (None, 50)           0           embedding_21[0][0]               \n",
            "__________________________________________________________________________________________________\n",
            "embedding_20 (Embedding)        (None, 1, 1)         610         input_19[0][0]                   \n",
            "__________________________________________________________________________________________________\n",
            "embedding_22 (Embedding)        (None, 1, 1)         9724        input_20[0][0]                   \n",
            "__________________________________________________________________________________________________\n",
            "concatenate_3 (Concatenate)     (None, 100)          0           reshape_8[0][0]                  \n",
            "                                                                 reshape_10[0][0]                 \n",
            "__________________________________________________________________________________________________\n",
            "reshape_9 (Reshape)             (None, 1)            0           embedding_20[0][0]               \n",
            "__________________________________________________________________________________________________\n",
            "reshape_11 (Reshape)            (None, 1)            0           embedding_22[0][0]               \n",
            "__________________________________________________________________________________________________\n",
            "add_1 (Add)                     (None, 100)          0           concatenate_3[0][0]              \n",
            "                                                                 reshape_9[0][0]                  \n",
            "                                                                 reshape_11[0][0]                 \n",
            "__________________________________________________________________________________________________\n",
            "dense_46 (Dense)                (None, 10)           1010        add_1[0][0]                      \n",
            "__________________________________________________________________________________________________\n",
            "dense_47 (Dense)                (None, 1)            11          dense_46[0][0]                   \n",
            "__________________________________________________________________________________________________\n",
            "lambda_2 (Lambda)               (None, 1)            0           dense_47[0][0]                   \n",
            "==================================================================================================\n",
            "Total params: 528,055\n",
            "Trainable params: 528,055\n",
            "Non-trainable params: 0\n",
            "__________________________________________________________________________________________________\n",
            "None\n"
          ],
          "name": "stdout"
        },
        {
          "output_type": "execute_result",
          "data": {
            "image/png": "[encoded data removed]",
            "text/plain": [
              "<IPython.core.display.Image object>"
            ]
          },
          "metadata": {
            "tags": []
          },
          "execution_count": 94
        }
      ]
    },
    {
      "cell_type": "code",
      "metadata": {
        "id": "kLCohrEv0Ngb",
        "colab": {
          "base_uri": "https://localhost:8080/",
          "height": 202
        },
        "outputId": "69691f1c-d58a-4388-fce6-bcd4ecb85d79"
      },
      "source": [
        "model.fit(x=[X_train[:,0], X_train[:,1]], y=y_train,\n",
        "          batch_size=64, epochs=5, verbose=1,\n",
        "          validation_data=([X_test[:,0], X_test[:,1]], y_test))"
      ],
      "execution_count": null,
      "outputs": [
        {
          "output_type": "stream",
          "text": [
            "Epoch 1/5\n",
            "1418/1418 [==============================] - 6s 4ms/step - loss: 0.8406 - root_mean_squared_error: 0.9168 - val_loss: 0.7791 - val_root_mean_squared_error: 0.8827\n",
            "Epoch 2/5\n",
            "1418/1418 [==============================] - 6s 4ms/step - loss: 0.6862 - root_mean_squared_error: 0.8284 - val_loss: 0.7653 - val_root_mean_squared_error: 0.8749\n",
            "Epoch 3/5\n",
            "1418/1418 [==============================] - 6s 4ms/step - loss: 0.6388 - root_mean_squared_error: 0.7992 - val_loss: 0.7747 - val_root_mean_squared_error: 0.8803\n",
            "Epoch 4/5\n",
            "1418/1418 [==============================] - 6s 4ms/step - loss: 0.6051 - root_mean_squared_error: 0.7779 - val_loss: 0.7803 - val_root_mean_squared_error: 0.8835\n",
            "Epoch 5/5\n",
            "1418/1418 [==============================] - 6s 4ms/step - loss: 0.5771 - root_mean_squared_error: 0.7597 - val_loss: 0.7858 - val_root_mean_squared_error: 0.8866\n"
          ],
          "name": "stdout"
        },
        {
          "output_type": "execute_result",
          "data": {
            "text/plain": [
              "<tensorflow.python.keras.callbacks.History at 0x7fb1d6ce6a20>"
            ]
          },
          "metadata": {
            "tags": []
          },
          "execution_count": 95
        }
      ]
    },
    {
      "cell_type": "markdown",
      "metadata": {
        "id": "qL_7ywjpzg5a"
      },
      "source": [
        "## Lesson 4: Use regularization to help model generalization\n"
      ]
    },
    {
      "cell_type": "markdown",
      "metadata": {
        "id": "jWabsp3bzmRM"
      },
      "source": [
        "## Learning Objectives\n",
        "- Learner will be able to incorporate Embedding regualization to help recommender system generalization.\n",
        "- Learner will be able to incorporate Dropout to help recommender system generalization."
      ]
    },
    {
      "cell_type": "markdown",
      "metadata": {
        "id": "Pmd1FPKhzxGq"
      },
      "source": [
        "## Excercise\n",
        "\n",
        "Add Embedding regularization"
      ]
    },
    {
      "cell_type": "markdown",
      "metadata": {
        "id": "NPKmA7Lez1Vy"
      },
      "source": [
        "## Answer"
      ]
    },
    {
      "cell_type": "code",
      "metadata": {
        "id": "HqcTiPgqz3wz",
        "colab": {
          "base_uri": "https://localhost:8080/",
          "height": 1000
        },
        "outputId": "98168305-f1a6-4059-f947-8eea13c50687"
      },
      "source": [
        "# Number of latent factors\n",
        "emb_sz = 50\n",
        "\n",
        "# User embeddings\n",
        "user = layers.Input(shape=(1,))\n",
        "user_emb = layers.Embedding(n_users, emb_sz, embeddings_regularizer=regularizers.l2(1e-6))(user)\n",
        "user_emb = layers.Reshape((emb_sz,))(user_emb)\n",
        "\n",
        "# User bias\n",
        "user_bias = layers.Embedding(n_users, 1, embeddings_regularizer=regularizers.l2(1e-6))(user)\n",
        "user_bias = layers.Reshape((1,))(user_bias)\n",
        "\n",
        "# Movie embeddings\n",
        "movie = layers.Input(shape=(1,))\n",
        "movie_emb = layers.Embedding(n_movies, emb_sz, embeddings_regularizer=regularizers.l2(1e-6))(movie)\n",
        "movie_emb = layers.Reshape((emb_sz,))(movie_emb)\n",
        "\n",
        "# Movie bias\n",
        "movie_bias = layers.Embedding(n_movies, 1, embeddings_regularizer=regularizers.l2(1e-6))(movie)\n",
        "movie_bias = layers.Reshape((1,))(movie_bias)\n",
        "\n",
        "# Dot product\n",
        "rating = layers.Concatenate()([user_emb, movie_emb])\n",
        "\n",
        "# Add biases\n",
        "rating = layers.Add()([rating, user_bias, movie_bias])\n",
        "rating = layers.Dense(10, activation='relu')(rating)\n",
        "rating = layers.Dense(1, activation='sigmoid')(rating)\n",
        "rating = layers.Lambda(lambda x:x*(max_rating - min_rating) + min_rating)(rating)\n",
        "\n",
        "# Model\n",
        "model = models.Model([user, movie], rating)\n",
        "\n",
        "# Compile the model\n",
        "model.compile(loss='mse',  metrics=metrics.RootMeanSquaredError(),\n",
        "              optimizer=optimizers.Adam(lr=0.001))\n",
        "\n",
        "# Show model summary\n",
        "print(model.summary())\n",
        "plot_model(model, to_file='model.png')"
      ],
      "execution_count": null,
      "outputs": [
        {
          "output_type": "stream",
          "text": [
            "Model: \"model_10\"\n",
            "__________________________________________________________________________________________________\n",
            "Layer (type)                    Output Shape         Param #     Connected to                     \n",
            "==================================================================================================\n",
            "input_21 (InputLayer)           [(None, 1)]          0                                            \n",
            "__________________________________________________________________________________________________\n",
            "input_22 (InputLayer)           [(None, 1)]          0                                            \n",
            "__________________________________________________________________________________________________\n",
            "embedding_23 (Embedding)        (None, 1, 50)        30500       input_21[0][0]                   \n",
            "__________________________________________________________________________________________________\n",
            "embedding_25 (Embedding)        (None, 1, 50)        486200      input_22[0][0]                   \n",
            "__________________________________________________________________________________________________\n",
            "reshape_12 (Reshape)            (None, 50)           0           embedding_23[0][0]               \n",
            "__________________________________________________________________________________________________\n",
            "reshape_14 (Reshape)            (None, 50)           0           embedding_25[0][0]               \n",
            "__________________________________________________________________________________________________\n",
            "embedding_24 (Embedding)        (None, 1, 1)         610         input_21[0][0]                   \n",
            "__________________________________________________________________________________________________\n",
            "embedding_26 (Embedding)        (None, 1, 1)         9724        input_22[0][0]                   \n",
            "__________________________________________________________________________________________________\n",
            "concatenate_4 (Concatenate)     (None, 100)          0           reshape_12[0][0]                 \n",
            "                                                                 reshape_14[0][0]                 \n",
            "__________________________________________________________________________________________________\n",
            "reshape_13 (Reshape)            (None, 1)            0           embedding_24[0][0]               \n",
            "__________________________________________________________________________________________________\n",
            "reshape_15 (Reshape)            (None, 1)            0           embedding_26[0][0]               \n",
            "__________________________________________________________________________________________________\n",
            "add_2 (Add)                     (None, 100)          0           concatenate_4[0][0]              \n",
            "                                                                 reshape_13[0][0]                 \n",
            "                                                                 reshape_15[0][0]                 \n",
            "__________________________________________________________________________________________________\n",
            "dense_48 (Dense)                (None, 10)           1010        add_2[0][0]                      \n",
            "__________________________________________________________________________________________________\n",
            "dense_49 (Dense)                (None, 1)            11          dense_48[0][0]                   \n",
            "__________________________________________________________________________________________________\n",
            "lambda_3 (Lambda)               (None, 1)            0           dense_49[0][0]                   \n",
            "==================================================================================================\n",
            "Total params: 528,055\n",
            "Trainable params: 528,055\n",
            "Non-trainable params: 0\n",
            "__________________________________________________________________________________________________\n",
            "None\n"
          ],
          "name": "stdout"
        },
        {
          "output_type": "execute_result",
          "data": {
            "image/png": "[encoded data removed]",
            "text/plain": [
              "<IPython.core.display.Image object>"
            ]
          },
          "metadata": {
            "tags": []
          },
          "execution_count": 96
        }
      ]
    },
    {
      "cell_type": "code",
      "metadata": {
        "id": "UIZBXYrQ0T_g",
        "colab": {
          "base_uri": "https://localhost:8080/",
          "height": 255
        },
        "outputId": "612ff9d2-0ba7-4bb8-c30d-b82f4c56246c"
      },
      "source": [
        "model.fit(x=[X_train[:,0], X_train[:,1]], y=y_train,\n",
        "          batch_size=64, epochs=5, verbose=1,\n",
        "          validation_data=([X_test[:,0], X_test[:,1]], y_test))"
      ],
      "execution_count": null,
      "outputs": [
        {
          "output_type": "stream",
          "text": [
            "Epoch 1/5\n"
          ],
          "name": "stdout"
        },
        {
          "output_type": "stream",
          "text": [
            "/usr/local/lib/python3.6/dist-packages/tensorflow/python/framework/indexed_slices.py:434: UserWarning: Converting sparse IndexedSlices to a dense Tensor of unknown shape. This may consume a large amount of memory.\n",
            "  \"Converting sparse IndexedSlices to a dense Tensor of unknown shape. \"\n"
          ],
          "name": "stderr"
        },
        {
          "output_type": "stream",
          "text": [
            "1418/1418 [==============================] - 5s 4ms/step - loss: 0.8321 - root_mean_squared_error: 0.9120 - val_loss: 0.7855 - val_root_mean_squared_error: 0.8860\n",
            "Epoch 2/5\n",
            "1418/1418 [==============================] - 5s 4ms/step - loss: 0.6844 - root_mean_squared_error: 0.8268 - val_loss: 0.7728 - val_root_mean_squared_error: 0.8785\n",
            "Epoch 3/5\n",
            "1418/1418 [==============================] - 6s 4ms/step - loss: 0.6352 - root_mean_squared_error: 0.7962 - val_loss: 0.7765 - val_root_mean_squared_error: 0.8805\n",
            "Epoch 4/5\n",
            "1418/1418 [==============================] - 7s 5ms/step - loss: 0.6029 - root_mean_squared_error: 0.7753 - val_loss: 0.7833 - val_root_mean_squared_error: 0.8840\n",
            "Epoch 5/5\n",
            "1418/1418 [==============================] - 5s 4ms/step - loss: 0.5768 - root_mean_squared_error: 0.7579 - val_loss: 0.7931 - val_root_mean_squared_error: 0.8893\n"
          ],
          "name": "stdout"
        },
        {
          "output_type": "execute_result",
          "data": {
            "text/plain": [
              "<tensorflow.python.keras.callbacks.History at 0x7fb1d7333828>"
            ]
          },
          "metadata": {
            "tags": []
          },
          "execution_count": 97
        }
      ]
    },
    {
      "cell_type": "markdown",
      "metadata": {
        "id": "ysus2Sj2z36E"
      },
      "source": [
        "## Excercise\n",
        "\n",
        "Add Dropout layer to the model"
      ]
    },
    {
      "cell_type": "code",
      "metadata": {
        "id": "dOxVQ4csz7iZ",
        "colab": {
          "base_uri": "https://localhost:8080/",
          "height": 1000
        },
        "outputId": "d189d995-cafb-434d-fd8c-b5c6f1a37376"
      },
      "source": [
        "# Number of latent factors\n",
        "emb_sz = 50\n",
        "\n",
        "# User embeddings\n",
        "user = layers.Input(shape=(1,))\n",
        "user_emb = layers.Embedding(n_users, emb_sz, embeddings_regularizer=regularizers.l2(1e-6))(user)\n",
        "user_emb = layers.Reshape((emb_sz,))(user_emb)\n",
        "\n",
        "# User bias\n",
        "user_bias = layers.Embedding(n_users, 1, embeddings_regularizer=regularizers.l2(1e-6))(user)\n",
        "user_bias = layers.Reshape((1,))(user_bias)\n",
        "\n",
        "# Movie embeddings\n",
        "movie = layers.Input(shape=(1,))\n",
        "movie_emb = layers.Embedding(n_movies, emb_sz, embeddings_regularizer=regularizers.l2(1e-6))(movie)\n",
        "movie_emb = layers.Reshape((emb_sz,))(movie_emb)\n",
        "\n",
        "# Movie bias\n",
        "movie_bias = layers.Embedding(n_movies, 1, embeddings_regularizer=regularizers.l2(1e-6))(movie)\n",
        "movie_bias = layers.Reshape((1,))(movie_bias)\n",
        "\n",
        "# Dot product\n",
        "rating = layers.Concatenate()([user_emb, movie_emb])\n",
        "\n",
        "# Add biases\n",
        "rating = layers.Add()([rating, user_bias, movie_bias])\n",
        "rating = layers.Dense(10, activation='relu')(rating)\n",
        "rating = layers.Dropout(0.5)(rating)\n",
        "rating = layers.Dense(1, activation='sigmoid')(rating)\n",
        "rating = layers.Lambda(lambda x:x*(max_rating - min_rating) + min_rating)(rating)\n",
        "\n",
        "# Model\n",
        "model = models.Model([user, movie], rating)\n",
        "\n",
        "# Compile the model\n",
        "model.compile(loss='mse',  metrics=metrics.RootMeanSquaredError(),\n",
        "              optimizer=optimizers.Adam(lr=0.001))\n",
        "\n",
        "# Show model summary\n",
        "print(model.summary())\n",
        "plot_model(model, to_file='model.png')"
      ],
      "execution_count": null,
      "outputs": [
        {
          "output_type": "stream",
          "text": [
            "Model: \"model_11\"\n",
            "__________________________________________________________________________________________________\n",
            "Layer (type)                    Output Shape         Param #     Connected to                     \n",
            "==================================================================================================\n",
            "input_23 (InputLayer)           [(None, 1)]          0                                            \n",
            "__________________________________________________________________________________________________\n",
            "input_24 (InputLayer)           [(None, 1)]          0                                            \n",
            "__________________________________________________________________________________________________\n",
            "embedding_27 (Embedding)        (None, 1, 50)        30500       input_23[0][0]                   \n",
            "__________________________________________________________________________________________________\n",
            "embedding_29 (Embedding)        (None, 1, 50)        486200      input_24[0][0]                   \n",
            "__________________________________________________________________________________________________\n",
            "reshape_16 (Reshape)            (None, 50)           0           embedding_27[0][0]               \n",
            "__________________________________________________________________________________________________\n",
            "reshape_18 (Reshape)            (None, 50)           0           embedding_29[0][0]               \n",
            "__________________________________________________________________________________________________\n",
            "embedding_28 (Embedding)        (None, 1, 1)         610         input_23[0][0]                   \n",
            "__________________________________________________________________________________________________\n",
            "embedding_30 (Embedding)        (None, 1, 1)         9724        input_24[0][0]                   \n",
            "__________________________________________________________________________________________________\n",
            "concatenate_5 (Concatenate)     (None, 100)          0           reshape_16[0][0]                 \n",
            "                                                                 reshape_18[0][0]                 \n",
            "__________________________________________________________________________________________________\n",
            "reshape_17 (Reshape)            (None, 1)            0           embedding_28[0][0]               \n",
            "__________________________________________________________________________________________________\n",
            "reshape_19 (Reshape)            (None, 1)            0           embedding_30[0][0]               \n",
            "__________________________________________________________________________________________________\n",
            "add_3 (Add)                     (None, 100)          0           concatenate_5[0][0]              \n",
            "                                                                 reshape_17[0][0]                 \n",
            "                                                                 reshape_19[0][0]                 \n",
            "__________________________________________________________________________________________________\n",
            "dense_50 (Dense)                (None, 10)           1010        add_3[0][0]                      \n",
            "__________________________________________________________________________________________________\n",
            "dropout (Dropout)               (None, 10)           0           dense_50[0][0]                   \n",
            "__________________________________________________________________________________________________\n",
            "dense_51 (Dense)                (None, 1)            11          dropout[0][0]                    \n",
            "__________________________________________________________________________________________________\n",
            "lambda_4 (Lambda)               (None, 1)            0           dense_51[0][0]                   \n",
            "==================================================================================================\n",
            "Total params: 528,055\n",
            "Trainable params: 528,055\n",
            "Non-trainable params: 0\n",
            "__________________________________________________________________________________________________\n",
            "None\n"
          ],
          "name": "stdout"
        },
        {
          "output_type": "execute_result",
          "data": {
            "image/png": "[encoded data removed]",
            "text/plain": [
              "<IPython.core.display.Image object>"
            ]
          },
          "metadata": {
            "tags": []
          },
          "execution_count": 98
        }
      ]
    },
    {
      "cell_type": "markdown",
      "metadata": {
        "id": "2lRfTcT3z7y6"
      },
      "source": [
        "## Answer"
      ]
    },
    {
      "cell_type": "code",
      "metadata": {
        "id": "Bq37kCJwz8y9",
        "colab": {
          "base_uri": "https://localhost:8080/",
          "height": 255
        },
        "outputId": "a3312fb9-3e2d-4e5f-df73-8e0c2c8cf16e"
      },
      "source": [
        "model.fit(x=[X_train[:,0], X_train[:,1]], y=y_train,\n",
        "          batch_size=64, epochs=5, verbose=1,\n",
        "          validation_data=([X_test[:,0], X_test[:,1]], y_test))"
      ],
      "execution_count": null,
      "outputs": [
        {
          "output_type": "stream",
          "text": [
            "Epoch 1/5\n"
          ],
          "name": "stdout"
        },
        {
          "output_type": "stream",
          "text": [
            "/usr/local/lib/python3.6/dist-packages/tensorflow/python/framework/indexed_slices.py:434: UserWarning: Converting sparse IndexedSlices to a dense Tensor of unknown shape. This may consume a large amount of memory.\n",
            "  \"Converting sparse IndexedSlices to a dense Tensor of unknown shape. \"\n"
          ],
          "name": "stderr"
        },
        {
          "output_type": "stream",
          "text": [
            "1418/1418 [==============================] - 5s 4ms/step - loss: 0.9589 - root_mean_squared_error: 0.9791 - val_loss: 0.7942 - val_root_mean_squared_error: 0.8908\n",
            "Epoch 2/5\n",
            "1418/1418 [==============================] - 5s 4ms/step - loss: 0.7692 - root_mean_squared_error: 0.8766 - val_loss: 0.7777 - val_root_mean_squared_error: 0.8813\n",
            "Epoch 3/5\n",
            "1418/1418 [==============================] - 5s 4ms/step - loss: 0.7311 - root_mean_squared_error: 0.8543 - val_loss: 0.7740 - val_root_mean_squared_error: 0.8791\n",
            "Epoch 4/5\n",
            "1418/1418 [==============================] - 5s 4ms/step - loss: 0.7090 - root_mean_squared_error: 0.8410 - val_loss: 0.7803 - val_root_mean_squared_error: 0.8824\n",
            "Epoch 5/5\n",
            "1418/1418 [==============================] - 5s 4ms/step - loss: 0.6982 - root_mean_squared_error: 0.8344 - val_loss: 0.7832 - val_root_mean_squared_error: 0.8838\n"
          ],
          "name": "stdout"
        },
        {
          "output_type": "execute_result",
          "data": {
            "text/plain": [
              "<tensorflow.python.keras.callbacks.History at 0x7fb1d826b710>"
            ]
          },
          "metadata": {
            "tags": []
          },
          "execution_count": 99
        }
      ]
    },
    {
      "cell_type": "markdown",
      "metadata": {
        "id": "DDnVz1pkh5hf"
      },
      "source": [
        "# References\n",
        "- https://developers.google.com/machine-learning/recommendation/overview\n",
        "- https://machinelearningmastery.com/use-word-embedding-layers-deep-learning-keras/\n",
        "- https://www.youtube.com/watch?v=gbceqO8PpBg&t=6893s\n",
        "- https://www.youtube.com/watch?v=qvRL74L81lg&t=1179s\n",
        "- https://github.com/jalajthanaki/Movie_recommendation_engine\n",
        "- https://www.datacamp.com/community/tutorials/recommender-systems-python?utm_source=adwords_ppc&utm_campaignid=1455363063&utm_adgroupid=65083631748&utm_device=c&utm_keyword=&utm_matchtype=b&utm_network=g&utm_adpostion=&utm_creative=332602034364&utm_targetid=aud-763347114660:dsa-473406569915&utm_loc_interest_ms=&utm_loc_physical_ms=9073656&gclid=Cj0KCQjws_r0BRCwARIsAMxfDRiqkUn4KsOkpT75T3HPhw8A68G6b36t0kpe0XFFLUt_QGcvVPV_u1saAkfMEALw_wcB"
      ]
    }
  ]
}